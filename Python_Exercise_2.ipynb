{
  "nbformat": 4,
  "nbformat_minor": 0,
  "metadata": {
    "colab": {
      "name": "Python_Exercise_2.ipynb",
      "provenance": [],
      "authorship_tag": "ABX9TyOhMyIcRgXvsYkWziBWi7QP",
      "include_colab_link": true
    },
    "kernelspec": {
      "name": "python3",
      "display_name": "Python 3"
    }
  },
  "cells": [
    {
      "cell_type": "markdown",
      "metadata": {
        "id": "view-in-github",
        "colab_type": "text"
      },
      "source": [
        "<a href=\"https://colab.research.google.com/github/Ajay9795cool/Python-Programming/blob/master/Python_Exercise_2.ipynb\" target=\"_parent\"><img src=\"https://colab.research.google.com/assets/colab-badge.svg\" alt=\"Open In Colab\"/></a>"
      ]
    },
    {
      "cell_type": "markdown",
      "metadata": {
        "id": "8AXI7rZgxl-8",
        "colab_type": "text"
      },
      "source": [
        "# Python if else, for loop, and range() "
      ]
    },
    {
      "cell_type": "markdown",
      "metadata": {
        "id": "NdbDLhTFxr9P",
        "colab_type": "text"
      },
      "source": [
        "## Exercise Question 1: Print First 10 natural numbers using while loop\n",
        "\n",
        "Expected output:\n",
        "\n",
        "```\n",
        "0\n",
        "1\n",
        "2\n",
        "3\n",
        "4\n",
        "5\n",
        "6\n",
        "7\n",
        "8\n",
        "9\n",
        "10\n",
        "```\n",
        "\n",
        "\n"
      ]
    },
    {
      "cell_type": "code",
      "metadata": {
        "id": "elK2aSRVxvWE",
        "colab_type": "code",
        "colab": {}
      },
      "source": [
        ""
      ],
      "execution_count": null,
      "outputs": []
    },
    {
      "cell_type": "markdown",
      "metadata": {
        "id": "5ycWK2nkxveK",
        "colab_type": "text"
      },
      "source": [
        "## Exercise Question 2: Print the following pattern\n",
        "\n",
        "\n",
        "```\n",
        "1 \n",
        "1 2 \n",
        "1 2 3 \n",
        "1 2 3 4 \n",
        "1 2 3 4 5\n",
        "```\n",
        "\n"
      ]
    },
    {
      "cell_type": "code",
      "metadata": {
        "id": "vWYRSdLYx8EB",
        "colab_type": "code",
        "colab": {}
      },
      "source": [
        ""
      ],
      "execution_count": null,
      "outputs": []
    },
    {
      "cell_type": "markdown",
      "metadata": {
        "id": "o6y9L2qqx8aq",
        "colab_type": "text"
      },
      "source": [
        "## Exercise Question 3: Accept number from user and calculate the sum of all number between 1 and given number\n",
        "\n",
        "For example user given 10 so the output should be 55"
      ]
    },
    {
      "cell_type": "code",
      "metadata": {
        "id": "Oc3K9FMgyBmd",
        "colab_type": "code",
        "colab": {}
      },
      "source": [
        ""
      ],
      "execution_count": null,
      "outputs": []
    },
    {
      "cell_type": "markdown",
      "metadata": {
        "id": "IC54DsNiyYEV",
        "colab_type": "text"
      },
      "source": [
        "## Exercise Question 4: Print multiplication table of given number\n",
        "\n",
        "For example `num = 2` so the output should be\n",
        "\n",
        "\n",
        "```\n",
        "2\n",
        "4\n",
        "6\n",
        "8\n",
        "10\n",
        "12\n",
        "14\n",
        "16\n",
        "18\n",
        "20\n",
        "```\n",
        "\n"
      ]
    },
    {
      "cell_type": "code",
      "metadata": {
        "id": "uiA1gEfMye5S",
        "colab_type": "code",
        "colab": {}
      },
      "source": [
        ""
      ],
      "execution_count": null,
      "outputs": []
    },
    {
      "cell_type": "markdown",
      "metadata": {
        "id": "r2Yq_3TFye-E",
        "colab_type": "text"
      },
      "source": [
        "## Exercise Question 5: Given a list iterate it and display numbers which are divisible by 5 and if you find number greater than 150 stop the loop iteration\n",
        "\n",
        "`list1 = [12, 15, 32, 42, 55, 75, 122, 132, 150, 180, 200]`\n",
        "\n",
        "Expected output:\n",
        "```\n",
        "15\n",
        "55\n",
        "75\n",
        "150\n",
        "```\n",
        "\n"
      ]
    },
    {
      "cell_type": "code",
      "metadata": {
        "id": "0NMb89LPyoJw",
        "colab_type": "code",
        "colab": {}
      },
      "source": [
        ""
      ],
      "execution_count": null,
      "outputs": []
    },
    {
      "cell_type": "markdown",
      "metadata": {
        "id": "YWM87LN_yoSQ",
        "colab_type": "text"
      },
      "source": [
        "## Exercise Question 6: Given a number count the total number of digits in a number\n",
        "\n",
        "For example, the number is 75869, so the output should be 5."
      ]
    },
    {
      "cell_type": "code",
      "metadata": {
        "id": "PUMcWGljyrA9",
        "colab_type": "code",
        "colab": {}
      },
      "source": [
        ""
      ],
      "execution_count": null,
      "outputs": []
    },
    {
      "cell_type": "markdown",
      "metadata": {
        "id": "8ZGdw3GyyrJN",
        "colab_type": "text"
      },
      "source": [
        "## Exercise Question 7: Print the following pattern using for loop\n",
        "\n",
        "```\n",
        "5 4 3 2 1 \n",
        "4 3 2 1 \n",
        "3 2 1 \n",
        "2 1 \n",
        "1\n",
        "```\n",
        "\n"
      ]
    },
    {
      "cell_type": "code",
      "metadata": {
        "id": "0Mww76C-yunS",
        "colab_type": "code",
        "colab": {}
      },
      "source": [
        ""
      ],
      "execution_count": null,
      "outputs": []
    },
    {
      "cell_type": "markdown",
      "metadata": {
        "id": "uTSfcMGoyusk",
        "colab_type": "text"
      },
      "source": [
        "## Exercise Question 8: Reverse the following list using for loop\n",
        "\n",
        "`list1 = [10, 20, 30, 40, 50]`\n",
        "\n",
        "Expected output:\n",
        "\n",
        "```\n",
        "50\n",
        "40\n",
        "30\n",
        "20\n",
        "10\n",
        "```\n",
        "\n"
      ]
    },
    {
      "cell_type": "code",
      "metadata": {
        "id": "2VmS_5CNy0Dc",
        "colab_type": "code",
        "colab": {}
      },
      "source": [
        ""
      ],
      "execution_count": null,
      "outputs": []
    },
    {
      "cell_type": "markdown",
      "metadata": {
        "id": "PLpFPuF4y8LD",
        "colab_type": "text"
      },
      "source": [
        "## Exercise Question 9: Display -10 to -1 using for loop\n",
        "\n",
        "Expected output:\n",
        "\n",
        "```\n",
        "-10\n",
        "-9\n",
        "-8\n",
        "-7\n",
        "-6\n",
        "-5\n",
        "-4\n",
        "-3\n",
        "-2\n",
        "-1\n",
        "```\n",
        "\n"
      ]
    },
    {
      "cell_type": "code",
      "metadata": {
        "id": "qEkWdfFCy-1D",
        "colab_type": "code",
        "colab": {}
      },
      "source": [
        ""
      ],
      "execution_count": null,
      "outputs": []
    },
    {
      "cell_type": "markdown",
      "metadata": {
        "id": "81qQXzlazC0k",
        "colab_type": "text"
      },
      "source": [
        "## Exercise Question 10: Display a message “Done” after successful execution of for loop\n",
        "\n",
        "For example, the following loop will execute without any error.\n",
        "\n",
        "```\n",
        "for i in range(5):\n",
        "    print(i)\n",
        "```\n",
        "So the Expected output should be:\n",
        "\n",
        "```\n",
        "0\n",
        "1\n",
        "2\n",
        "3\n",
        "4\n",
        "Done!\n",
        "```\n",
        "\n",
        "\n"
      ]
    },
    {
      "cell_type": "code",
      "metadata": {
        "id": "jzEHeVNozI5B",
        "colab_type": "code",
        "colab": {}
      },
      "source": [
        ""
      ],
      "execution_count": null,
      "outputs": []
    }
  ]
}