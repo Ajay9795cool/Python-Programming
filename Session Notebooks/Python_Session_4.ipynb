{
  "nbformat": 4,
  "nbformat_minor": 0,
  "metadata": {
    "colab": {
      "name": "Python-Session-4.ipynb",
      "provenance": [],
      "authorship_tag": "ABX9TyMu3+09H0McPMRzzoMOMK5e",
      "include_colab_link": true
    },
    "kernelspec": {
      "name": "python3",
      "display_name": "Python 3"
    }
  },
  "cells": [
    {
      "cell_type": "markdown",
      "metadata": {
        "id": "view-in-github",
        "colab_type": "text"
      },
      "source": [
        "<a href=\"https://colab.research.google.com/github/Ajay9795cool/Python-Programming/blob/master/Python_Session_4.ipynb\" target=\"_parent\"><img src=\"https://colab.research.google.com/assets/colab-badge.svg\" alt=\"Open In Colab\"/></a>"
      ]
    },
    {
      "cell_type": "markdown",
      "metadata": {
        "id": "bfP7D0d7fSQi",
        "colab_type": "text"
      },
      "source": [
        "# Python Tuple"
      ]
    },
    {
      "cell_type": "markdown",
      "metadata": {
        "id": "pchKcUtYfkzE",
        "colab_type": "text"
      },
      "source": [
        "A tuple is an ordered collection of values.\n",
        "\n",
        "Tuples are a lot like lists:\n",
        "\n",
        "* Tuples are ordered – Tuples maintains a left-to-right positional ordering among the items they contain.\n",
        "* Accessed by index – Items in a tuple can be accessed using an index.\n",
        "* Tuples can contain any sort of object – It can be numbers, strings, lists and even other tuples.\n",
        "\n",
        "except:\n",
        "\n",
        "* Tuples are immutable – you can’t add, delete, or change items after the tuple is defined.\n",
        "\n",
        "## Create a Tuple\n",
        "You can create a tuple by placing a comma-separated sequence of items in parentheses ()."
      ]
    },
    {
      "cell_type": "code",
      "metadata": {
        "id": "FwuoASGFfrE3",
        "colab_type": "code",
        "colab": {}
      },
      "source": [
        "# A tuple of integers\n",
        "T = (1, 2, 3)\n",
        "\n",
        "# A tuple of strings\n",
        "T = ('red', 'green', 'blue')\n",
        "\n",
        "# A tuple with mixed datatypes\n",
        "T = (1, 'abc', 1.23, True)\n",
        "\n",
        "# An empty tuple\n",
        "T = ()\n",
        "\n",
        "# A tuple without parentheses\n",
        "T = 1, 'abc', 1.23, True\n",
        "\n",
        "# Singleton Tuple \n",
        "T = (4,)\n",
        "print(type(T))\n",
        "# Prints <type 'tuple'>"
      ],
      "execution_count": 1,
      "outputs": []
    },
    {
      "cell_type": "markdown",
      "metadata": {
        "id": "LVJJYJyif6FN",
        "colab_type": "text"
      },
      "source": [
        "## The tuple() Constructor"
      ]
    },
    {
      "cell_type": "code",
      "metadata": {
        "id": "ij_5pEdvf8Sk",
        "colab_type": "code",
        "colab": {}
      },
      "source": [
        "# Convert a list to a tuple\n",
        "T = tuple([1, 2, 3])\n",
        "print(T)\n",
        "# Prints (1, 2, 3)\n",
        "\n",
        "# Convert a string to a tuple\n",
        "T = tuple('abc')\n",
        "print(T)\n",
        "# Prints ('a', 'b', 'c')"
      ],
      "execution_count": null,
      "outputs": []
    },
    {
      "cell_type": "markdown",
      "metadata": {
        "id": "GvUubKCcf-eM",
        "colab_type": "text"
      },
      "source": [
        "## Nested Tuples\n",
        "A tuple can contain sub-tuple, which in turn can contain sub-tuples themselves, and so on. This is known as nested tuple. You can use them to arrange data into hierarchical structures."
      ]
    },
    {
      "cell_type": "code",
      "metadata": {
        "id": "OYZ6lyXmf_1I",
        "colab_type": "code",
        "colab": {}
      },
      "source": [
        "T = ('red', ('green', 'blue'), 'yellow')"
      ],
      "execution_count": null,
      "outputs": []
    },
    {
      "cell_type": "markdown",
      "metadata": {
        "id": "JkHUw_zogFgg",
        "colab_type": "text"
      },
      "source": [
        "## Tuple Unpacking\n",
        "When a packed tuple is assigned to a new tuple, the individual items are unpacked (assigned to the items of a new tuple)."
      ]
    },
    {
      "cell_type": "code",
      "metadata": {
        "id": "LJcDUr73gGnQ",
        "colab_type": "code",
        "colab": {}
      },
      "source": [
        "T = ('red', 'green', 'blue', 'cyan')\n",
        "(a, b, c, d) = T\n",
        "\n",
        "print(a)\n",
        "# Prints red\n",
        "\n",
        "print(b)\n",
        "# Prints green"
      ],
      "execution_count": null,
      "outputs": []
    },
    {
      "cell_type": "markdown",
      "metadata": {
        "id": "gmb0yw5mgNSz",
        "colab_type": "text"
      },
      "source": [
        "## Access Tuple Items\n",
        "You can access individual items in a tuple using an index in square brackets. Note that tuple indexing starts from 0.\n",
        "\n",
        "The indices for the elements in a tuple are illustrated as below:"
      ]
    },
    {
      "cell_type": "code",
      "metadata": {
        "id": "yGIPPFa3gOyr",
        "colab_type": "code",
        "colab": {}
      },
      "source": [
        "T = ('red', 'green', 'blue', 'yellow', 'black')\n",
        "\n",
        "print(T[0])\n",
        "# Prints red\n",
        "\n",
        "print(T[2])\n",
        "# Prints blue\n",
        "\n",
        "print(T[-1])\n",
        "# Prints black\n",
        "\n",
        "print(T[-2])\n",
        "# Prints yellow"
      ],
      "execution_count": null,
      "outputs": []
    },
    {
      "cell_type": "code",
      "metadata": {
        "id": "uIRnVfOZgRYH",
        "colab_type": "code",
        "colab": {}
      },
      "source": [
        "# Tuple Slicing\n",
        "\n",
        "print(T[2:5])\n",
        "# Prints ('c', 'd', 'e')\n",
        "\n",
        "print(T[0:2])\n",
        "# Prints ('a', 'b')\n",
        "\n",
        "print(T[3:-1])\n",
        "# Prints ('d', 'e')"
      ],
      "execution_count": null,
      "outputs": []
    },
    {
      "cell_type": "markdown",
      "metadata": {
        "id": "hA8nym-rgdCC",
        "colab_type": "text"
      },
      "source": [
        "## Tuple Concatenation & Repetition\n",
        "Tuples can be joined using the concatenation operator + or Replication operator *"
      ]
    },
    {
      "cell_type": "code",
      "metadata": {
        "id": "3Jg6NyRogeUz",
        "colab_type": "code",
        "colab": {}
      },
      "source": [
        "# Concatenate\n",
        "T = ('red', 'green', 'blue') + (1, 2, 3)\n",
        "print(T)\n",
        "# Prints ('red', 'green', 'blue', 1, 2, 3)\n",
        "\n",
        "# Replicate\n",
        "T = ('red',) * 3\n",
        "print(T)\n",
        "# Prints ('red', 'red', 'red')"
      ],
      "execution_count": null,
      "outputs": []
    },
    {
      "cell_type": "markdown",
      "metadata": {
        "id": "JfB9gV2PggEb",
        "colab_type": "text"
      },
      "source": [
        "## Find Tuple Length\n",
        "To find how many items a tuple has, use len() method."
      ]
    },
    {
      "cell_type": "code",
      "metadata": {
        "id": "JtVUoqslghEw",
        "colab_type": "code",
        "colab": {}
      },
      "source": [
        "T = ('red', 'green', 'blue')\n",
        "print(len(T))\n",
        "# Prints 3"
      ],
      "execution_count": null,
      "outputs": []
    },
    {
      "cell_type": "markdown",
      "metadata": {
        "id": "po_sduZKgjcL",
        "colab_type": "text"
      },
      "source": [
        "## Check if item exists in a tuple\n",
        "To determine whether a value is or isn’t in a tuple, you can use in and not in operators with if statement."
      ]
    },
    {
      "cell_type": "code",
      "metadata": {
        "id": "D5UkI7O9gk34",
        "colab_type": "code",
        "colab": {}
      },
      "source": [
        "# Check for presence\n",
        "T = ('red', 'green', 'blue')\n",
        "if 'red' in T:\n",
        "    print('yes')\n",
        "\n",
        "# Check for absence\n",
        "T = ('red', 'green', 'blue')\n",
        "if 'yellow' not in T:\n",
        "    print('yes')"
      ],
      "execution_count": null,
      "outputs": []
    },
    {
      "cell_type": "markdown",
      "metadata": {
        "id": "SXhvKCJIgmsL",
        "colab_type": "text"
      },
      "source": [
        "## Iterate through a tuple\n",
        "To iterate over the items of a tuple, use a simple for loop."
      ]
    },
    {
      "cell_type": "code",
      "metadata": {
        "id": "76MTC42Ign1B",
        "colab_type": "code",
        "colab": {}
      },
      "source": [
        "T = ('red', 'green', 'blue')\n",
        "for item in T:\n",
        "    print(item)\n",
        "# Prints red green blue"
      ],
      "execution_count": null,
      "outputs": []
    },
    {
      "cell_type": "markdown",
      "metadata": {
        "id": "opPu27scgwfG",
        "colab_type": "text"
      },
      "source": [
        "# Python Set"
      ]
    },
    {
      "cell_type": "markdown",
      "metadata": {
        "id": "9qmd3Bnsg1Vz",
        "colab_type": "text"
      },
      "source": [
        "Python set is an unordered collection of unique items. They are commonly used for computing mathematical operations such as union, intersection, difference, and symmetric difference.\n",
        "\n",
        "Python Set Operations\n",
        "The important properties of Python sets are as follows:\n",
        "\n",
        "* Sets are unordered – Items stored in a set aren’t kept in any particular order.\n",
        "* Set items are unique – Duplicate items are not allowed.\n",
        "* Sets are unindexed – You cannot access set items by referring to an index.\n",
        "* Sets are changeable (mutable) – They can be changed in place, can grow and shrink on demand.\n",
        "\n",
        "## Create a Set\n",
        "You can create a set by placing a comma-separated sequence of items in curly braces {}."
      ]
    },
    {
      "cell_type": "code",
      "metadata": {
        "id": "o42_dFwJg7Gt",
        "colab_type": "code",
        "colab": {}
      },
      "source": [
        "# A set of strings\n",
        "S = {'red', 'green', 'blue'}\n",
        "print(S)\n",
        "\n",
        "# A set of mixed datatypes\n",
        "S = {1, 'abc', 1.23, (3+4j), True}\n",
        "print(S)"
      ],
      "execution_count": 2,
      "outputs": []
    },
    {
      "cell_type": "code",
      "metadata": {
        "id": "XFuPgvi0hAZi",
        "colab_type": "code",
        "colab": {}
      },
      "source": [
        "# Sets don’t allow duplicates. They are automatically removed during the creation of a set.\n",
        "S = {'red', 'green', 'blue', 'red'}\n",
        "print(S)\n",
        "# Prints {'blue', 'green', 'red'}"
      ],
      "execution_count": null,
      "outputs": []
    },
    {
      "cell_type": "markdown",
      "metadata": {
        "id": "8unH94BohH_k",
        "colab_type": "text"
      },
      "source": [
        "A set itself is mutable (changeable), but it cannot contain mutable objects. Therefore, immutable objects like numbers, strings, tuples can be a set item, but lists and dictionaries are mutable, so they cannot be.\n",
        "\n",
        "## Set constructor\n",
        "You can also create a set using a type constructor called set()."
      ]
    },
    {
      "cell_type": "code",
      "metadata": {
        "id": "mpW6_pBjhLAc",
        "colab_type": "code",
        "colab": {}
      },
      "source": [
        "# Set of items in an iterable\n",
        "S = set('abc')\n",
        "print(S)\n",
        "# Prints {'a', 'b', 'c'}\n",
        "\n",
        "# Set of successive integers\n",
        "S = set(range(0, 4))\n",
        "print(S)\n",
        "# Prints {0, 1, 2, 3}\n",
        "\n",
        "# Convert list into set\n",
        "S = set([1, 2, 3])\n",
        "print(S)\n",
        "# Prints {1, 2, 3}"
      ],
      "execution_count": null,
      "outputs": []
    },
    {
      "cell_type": "markdown",
      "metadata": {
        "id": "3bXWblAWhPEA",
        "colab_type": "text"
      },
      "source": [
        "## Add Items to a Set\n"
      ]
    },
    {
      "cell_type": "code",
      "metadata": {
        "id": "xDmzKMbDhQFy",
        "colab_type": "code",
        "colab": {}
      },
      "source": [
        "# You can add a single item to a set using add() method.\n",
        "S = {'red', 'green', 'blue'}\n",
        "S.add('yellow')\n",
        "print(S)\n",
        "# Prints {'blue', 'green', 'yellow', 'red'}\n",
        "\n",
        "# You can add multiple items to a set using update() method.\n",
        "S = {'red', 'green', 'blue'}\n",
        "S.update(['yellow', 'orange'])\n",
        "print(S)\n",
        "# Prints {'blue', 'orange', 'green', 'yellow', 'red'}"
      ],
      "execution_count": null,
      "outputs": []
    },
    {
      "cell_type": "markdown",
      "metadata": {
        "id": "oRTik7MThVEJ",
        "colab_type": "text"
      },
      "source": [
        "## Remove Items from a Set\n",
        "To remove a single item from a set, use remove() or discard() method."
      ]
    },
    {
      "cell_type": "code",
      "metadata": {
        "id": "oaq3npzghVvu",
        "colab_type": "code",
        "colab": {}
      },
      "source": [
        "# with remove() method\n",
        "S = {'red', 'green', 'blue'}\n",
        "S.remove('red')\n",
        "print(S)\n",
        "# Prints {'blue', 'green'}\n",
        "\n",
        "# with discard() method\n",
        "S = {'red', 'green', 'blue'}\n",
        "S.discard('red')\n",
        "print(S)\n",
        "# Prints {'blue', 'green'}"
      ],
      "execution_count": null,
      "outputs": []
    },
    {
      "cell_type": "markdown",
      "metadata": {
        "id": "nAZHM4hchaQl",
        "colab_type": "text"
      },
      "source": [
        "Both methods work exactly the same. The only difference is that If specified item is not present in a set:\n",
        "\n",
        "* remove() method raises KeyError\n",
        "* discard() method does nothing"
      ]
    },
    {
      "cell_type": "code",
      "metadata": {
        "id": "W0pg6_6rhelz",
        "colab_type": "code",
        "colab": {}
      },
      "source": [
        "# The pop() method removes random item from a set and returns it.\n",
        "S = {'red', 'green', 'blue'}\n",
        "x = S.pop()\n",
        "print(S)\n",
        "# Prints {'green', 'red'}\n",
        "\n",
        "# removed item\n",
        "print(x)\n",
        "# Prints blue"
      ],
      "execution_count": null,
      "outputs": []
    },
    {
      "cell_type": "code",
      "metadata": {
        "id": "uTLT06_ChiD0",
        "colab_type": "code",
        "colab": {}
      },
      "source": [
        "# Use clear() method to remove all items from the set.\n",
        "S = {'red', 'green', 'blue'}\n",
        "S.clear()\n",
        "print(S)\n",
        "# Prints set()"
      ],
      "execution_count": null,
      "outputs": []
    },
    {
      "cell_type": "markdown",
      "metadata": {
        "id": "nSRbYkPdhkfq",
        "colab_type": "text"
      },
      "source": [
        "## Find Set Size\n",
        "To find how many items a set has, use len() method."
      ]
    },
    {
      "cell_type": "code",
      "metadata": {
        "id": "Z9XdPvUjhl2n",
        "colab_type": "code",
        "colab": {}
      },
      "source": [
        "S = {'red', 'green', 'blue'}\n",
        "print(len(S))\n",
        "# Prints 3"
      ],
      "execution_count": null,
      "outputs": []
    },
    {
      "cell_type": "markdown",
      "metadata": {
        "id": "dBMoApPhhnV6",
        "colab_type": "text"
      },
      "source": [
        "## Iterate Through a Set\n",
        "To iterate over the items of a set, use a simple for loop."
      ]
    },
    {
      "cell_type": "code",
      "metadata": {
        "id": "M21Ri5Oqhof-",
        "colab_type": "code",
        "colab": {}
      },
      "source": [
        "S = {'red', 'green', 'blue'}\n",
        "for item in S:\n",
        "    print(item)\n",
        "# Prints blue green red"
      ],
      "execution_count": null,
      "outputs": []
    },
    {
      "cell_type": "markdown",
      "metadata": {
        "id": "FgDJmAUhhqE5",
        "colab_type": "text"
      },
      "source": [
        "## Check if Item Exists in a Set\n",
        "To check if a specific item is present in a set, you can use in and not in operators with if statement."
      ]
    },
    {
      "cell_type": "code",
      "metadata": {
        "id": "6ncw1obWhrQv",
        "colab_type": "code",
        "colab": {}
      },
      "source": [
        "# Check for presence\n",
        "S = {'red', 'green', 'blue'}\n",
        "if 'red' in S:\n",
        "    print('yes')\n",
        "\n",
        "# Check for absence\n",
        "S = {'red', 'green', 'blue'}\n",
        "if 'yellow' not in S:\n",
        "    print('yes')"
      ],
      "execution_count": null,
      "outputs": []
    },
    {
      "cell_type": "markdown",
      "metadata": {
        "id": "9LUD0vwbhtcR",
        "colab_type": "text"
      },
      "source": [
        "## Set Operations\n",
        "Sets are commonly used for computing mathematical operations such as intersection, union, difference, and symmetric difference."
      ]
    },
    {
      "cell_type": "code",
      "metadata": {
        "id": "HApO-x3LhuGY",
        "colab_type": "code",
        "colab": {}
      },
      "source": [
        "A = {'red', 'green', 'blue'}\n",
        "B = {'yellow', 'red', 'orange'}\n",
        "\n",
        "# Union\n",
        "\n",
        "# by operator\n",
        "print(A | B)\n",
        "# Prints {'blue', 'green', 'yellow', 'orange', 'red'}\n",
        "\n",
        "# by method\n",
        "print(A.union(B))\n",
        "# Prints {'blue', 'green', 'yellow', 'orange', 'red'}"
      ],
      "execution_count": null,
      "outputs": []
    },
    {
      "cell_type": "code",
      "metadata": {
        "id": "goz4-s4ih4aF",
        "colab_type": "code",
        "colab": {}
      },
      "source": [
        "# Intersection\n",
        "\n",
        "# by operator\n",
        "print(A & B)\n",
        "# Prints {'red'}\n",
        "\n",
        "# by method\n",
        "print(A.intersection(B))\n",
        "# Prints {'red'}"
      ],
      "execution_count": null,
      "outputs": []
    },
    {
      "cell_type": "code",
      "metadata": {
        "id": "extcUP9Gh89Z",
        "colab_type": "code",
        "colab": {}
      },
      "source": [
        "# Set Difference\n",
        "\n",
        "# by operator\n",
        "print(A - B)\n",
        "# Prints {'blue', 'green'}\n",
        "\n",
        "# by method\n",
        "print(A.difference(B))\n",
        "# Prints {'blue', 'green'}"
      ],
      "execution_count": null,
      "outputs": []
    },
    {
      "cell_type": "code",
      "metadata": {
        "id": "MThj-ywIiB3h",
        "colab_type": "code",
        "colab": {}
      },
      "source": [
        "# Symmetric Difference\n",
        "A = {'red', 'green', 'blue'}\n",
        "B = {'yellow', 'red', 'orange'}\n",
        "\n",
        "# by operator\n",
        "print(A ^ B)\n",
        "# Prints {'orange', 'blue', 'green', 'yellow'}\n",
        "\n",
        "# by method\n",
        "print(A.symmetric_difference(B))\n",
        "# Prints {'orange', 'blue', 'green', 'yellow'}"
      ],
      "execution_count": null,
      "outputs": []
    },
    {
      "cell_type": "markdown",
      "metadata": {
        "id": "5_zcmMNMGIwk",
        "colab_type": "text"
      },
      "source": [
        "# Python Dictionaries"
      ]
    },
    {
      "cell_type": "markdown",
      "metadata": {
        "id": "K3wyF0WIGNWK",
        "colab_type": "text"
      },
      "source": [
        "Dictionaries are Python’s implementation of a data structure, generally known as associative arrays, hashes, or hashmaps.\n",
        "\n",
        "You can think of a dictionary as a mapping between a set of indexes (known as keys) and a set of values. Each key maps to a value. The association of a key and a value is called a key:value pair or sometimes an item.\n",
        "\n",
        "As an example, we’ll build a dictionary that stores employee record.\n",
        "\n",
        "You can create a dictionary by placing a comma-separated list of key:value pairs in curly braces {}. Each key is separated from its associated value by a colon :"
      ]
    },
    {
      "cell_type": "code",
      "metadata": {
        "id": "elGuR9z0GQUi",
        "colab_type": "code",
        "colab": {}
      },
      "source": [
        "# Create a dictionary to store employee record\n",
        "D = {'name': 'Bob',\n",
        "     'age': 25,\n",
        "     'job': 'Dev',\n",
        "     'city': 'New York',\n",
        "     'email': 'bob@web.com'}\n",
        "\n",
        "print(D)\n",
        "\n",
        "print(type(D))"
      ],
      "execution_count": null,
      "outputs": []
    },
    {
      "cell_type": "code",
      "metadata": {
        "id": "RSS8WaRxGYKk",
        "colab_type": "code",
        "colab": {}
      },
      "source": [
        "# Create a dictionary with a tuple of two-item lists\n",
        "T = (['name', 'Bob'],\n",
        "     ['age', 25],\n",
        "     ['job', 'Dev'])\n",
        "\n",
        "D = dict(T)\n",
        "print(D)\n",
        "# Prints {'name': 'Bob', 'age': 25, 'job': 'Dev'}"
      ],
      "execution_count": null,
      "outputs": []
    },
    {
      "cell_type": "code",
      "metadata": {
        "id": "aYGfY1JjGkCe",
        "colab_type": "code",
        "colab": {}
      },
      "source": [
        "# When the keys are simple strings, it is sometimes easier to specify key:value pairs using keyword arguments.\n",
        "D = dict(name = 'Bob',\n",
        "         age = 25,\n",
        "         job = 'Dev')\n",
        "\n",
        "print(D)\n",
        "# Prints {'name': 'Bob', 'age': 25, 'job': 'Dev'}"
      ],
      "execution_count": null,
      "outputs": []
    },
    {
      "cell_type": "markdown",
      "metadata": {
        "id": "8HToAcjPGvBH",
        "colab_type": "text"
      },
      "source": [
        "## Important Properties"
      ]
    },
    {
      "cell_type": "markdown",
      "metadata": {
        "id": "3pXF4OAcGxZD",
        "colab_type": "text"
      },
      "source": [
        "* Keys must be unique:\n",
        "A key can appear in a dictionary only once.\n",
        "\n",
        "Even if you specify a key more than once during the creation of a dictionary, the last value for that key becomes the associated value."
      ]
    },
    {
      "cell_type": "code",
      "metadata": {
        "id": "1FFNVwaFGyZC",
        "colab_type": "code",
        "colab": {}
      },
      "source": [
        "D = {'name': 'Bob',\n",
        "     'age': 25,\n",
        "     'name': 'Jane'}\n",
        "print(D)\n",
        "# Prints {'name': 'Jane', 'age': 25}\n",
        "\n",
        "# Notice that the first occurrence of ‘name’ is replaced by the second one."
      ],
      "execution_count": null,
      "outputs": []
    },
    {
      "cell_type": "markdown",
      "metadata": {
        "id": "YV2aEmAxG6N2",
        "colab_type": "text"
      },
      "source": [
        "* Key must be immutable type:\n",
        "\n",
        "You can use any object of immutable type as dictionary keys – such as numbers, strings, booleans or tuples."
      ]
    },
    {
      "cell_type": "code",
      "metadata": {
        "id": "vmG71OQcG9Va",
        "colab_type": "code",
        "colab": {}
      },
      "source": [
        "D = {(2,2): 25,\n",
        "     True: 'a',\n",
        "     'name': 'Bob'}"
      ],
      "execution_count": null,
      "outputs": []
    },
    {
      "cell_type": "code",
      "metadata": {
        "id": "HWHEBbPFHBbi",
        "colab_type": "code",
        "colab": {}
      },
      "source": [
        "# An exception is raised when mutable object is used as a key.\n",
        "# TypeError: unhashable type: 'list'\n",
        "D = {[2,2]: 25,\n",
        "     'name': 'Bob'}"
      ],
      "execution_count": null,
      "outputs": []
    },
    {
      "cell_type": "markdown",
      "metadata": {
        "id": "87InsOzVHFKx",
        "colab_type": "text"
      },
      "source": [
        "* Value can be of any type:\n",
        "There are no restrictions on dictionary values. A dictionary value can be any type of object and can appear in a dictionary multiple times."
      ]
    },
    {
      "cell_type": "code",
      "metadata": {
        "id": "-Uoi4CkyHF9L",
        "colab_type": "code",
        "colab": {}
      },
      "source": [
        "# values of different datatypes\n",
        "D = {'a':[1,2,3],\n",
        "     'b':{1,2,3}}\n",
        "\n",
        "# duplicate values\n",
        "D = {'a':[1,2],\n",
        "     'b':[1,2],\n",
        "     'c':[1,2]}"
      ],
      "execution_count": null,
      "outputs": []
    },
    {
      "cell_type": "markdown",
      "metadata": {
        "id": "U6es8mzgHL50",
        "colab_type": "text"
      },
      "source": [
        "## Access Dictionary Items\n",
        "The order of key:value pairs is not always the same. In fact, if you write the same example on another PC, you may get a different result. In general, the order of items in a dictionary is unpredictable.\n",
        "\n",
        "But this is not a problem because the items of a dictionary are not indexed with integer indices. Instead, you use the keys to access the corresponding values.\n",
        " \n",
        "You can fetch a value from a dictionary by referring to its key in square brackets []."
      ]
    },
    {
      "cell_type": "code",
      "metadata": {
        "id": "_iX3UGmMHNQn",
        "colab_type": "code",
        "colab": {}
      },
      "source": [
        "D = {'name': 'Bob',\n",
        "     'age': 25,\n",
        "     'job': 'Dev'}\n",
        "\n",
        "print(D['name'])\n",
        "# Prints Bob\n",
        "\n",
        "print(D['salary'])\n",
        "# If you refer to a key that is not in the dictionary, you’ll get an exception."
      ],
      "execution_count": null,
      "outputs": []
    },
    {
      "cell_type": "markdown",
      "metadata": {
        "id": "qemezJWrHWon",
        "colab_type": "text"
      },
      "source": [
        "To avoid such exception, you can use the special dictionary get() method. This method returns the value for key if key is in the dictionary, else None, so that this method never raises a KeyError."
      ]
    },
    {
      "cell_type": "code",
      "metadata": {
        "id": "WEOPN-WLHYHF",
        "colab_type": "code",
        "colab": {}
      },
      "source": [
        "# When key is present\n",
        "print(D.get('name'))\n",
        "# Prints Bob\n",
        "\n",
        "# When key is absent\n",
        "print(D.get('salary'))\n",
        "# Prints None"
      ],
      "execution_count": null,
      "outputs": []
    },
    {
      "cell_type": "markdown",
      "metadata": {
        "id": "nAChQPw-HXos",
        "colab_type": "text"
      },
      "source": [
        "## Add or Update Dictionary Items\n",
        "Adding or updating dictionary items is easy. Just refer to the item by its key and assign a value. If the key is already present in the dictionary, its value is replaced by the new one."
      ]
    },
    {
      "cell_type": "code",
      "metadata": {
        "id": "JYGk3VvEHeQH",
        "colab_type": "code",
        "colab": {}
      },
      "source": [
        "D = {'name': 'Bob',\n",
        "     'age': 25,\n",
        "     'job': 'Dev'}\n",
        "\n",
        "D['name'] = 'Sam'\n",
        "print(D)\n",
        "# Prints {'name': 'Sam', 'age': 25, 'job': 'Dev'}\n",
        "\n",
        "D['city'] = 'New York'\n",
        "print(D)\n",
        "# Prints {'name': 'Bob', 'age': 25, 'job': 'Dev', 'city': 'New York'}"
      ],
      "execution_count": null,
      "outputs": []
    },
    {
      "cell_type": "markdown",
      "metadata": {
        "id": "lQQbYN2DHmLT",
        "colab_type": "text"
      },
      "source": [
        "## Merge Two Dictionaries\n",
        "Use the built-in update() method to merge the keys and values of one dictionary into another. Note that this method blindly overwrites values of the same key if there’s a clash.\n"
      ]
    },
    {
      "cell_type": "code",
      "metadata": {
        "id": "FaRX2yH3Hr3M",
        "colab_type": "code",
        "colab": {}
      },
      "source": [
        "D1 = {'name': 'Bob',\n",
        "      'age': 25,\n",
        "      'job': 'Dev'}\n",
        "\n",
        "D2 = {'age': 30,\n",
        "      'city': 'New York',\n",
        "      'email': 'bob@web.com'}\n",
        "\n",
        "D1.update(D2)\n",
        "print(D1)\n",
        "# Prints {'name': 'Bob', 'age': 30, 'job': 'Dev',\n",
        "#         'city': 'New York', 'email': 'bob@web.com'}"
      ],
      "execution_count": null,
      "outputs": []
    },
    {
      "cell_type": "markdown",
      "metadata": {
        "id": "CXKl-b8THv4p",
        "colab_type": "text"
      },
      "source": [
        "## Remove Dictionary Items"
      ]
    },
    {
      "cell_type": "code",
      "metadata": {
        "id": "XSkq2hlyHwcN",
        "colab_type": "code",
        "colab": {}
      },
      "source": [
        "D = {'name': 'Bob',\n",
        "     'age': 25,\n",
        "     'job': 'Dev'}\n",
        "\n",
        "del D['age']\n",
        "print(D)\n",
        "# Prints {'name': 'Bob', 'job': 'Dev'}"
      ],
      "execution_count": null,
      "outputs": []
    },
    {
      "cell_type": "code",
      "metadata": {
        "id": "DnJoQ9xjH3io",
        "colab_type": "code",
        "colab": {}
      },
      "source": [
        "D = {'name': 'Bob',\n",
        "     'age': 25,\n",
        "     'job': 'Dev'}\n",
        "\n",
        "D.clear()\n",
        "print(D)\n",
        "# Prints {}"
      ],
      "execution_count": null,
      "outputs": []
    },
    {
      "cell_type": "markdown",
      "metadata": {
        "id": "XvZR5zbnH9VE",
        "colab_type": "text"
      },
      "source": [
        "## Get All Keys, Values and Key:Value Pairs\n",
        "There are three dictionary methods that return all of the dictionary’s keys, values and key-value pairs: keys(), values(), and items(). These methods are useful in loops that need to step through dictionary entries one by one.\n",
        "\n",
        "All the three methods return iterable object. If you want a true list from these methods, wrap them in a list() function."
      ]
    },
    {
      "cell_type": "code",
      "metadata": {
        "id": "6UWQwrT_H9t4",
        "colab_type": "code",
        "colab": {}
      },
      "source": [
        "D = {'name': 'Bob',\n",
        "     'age': 25,\n",
        "     'job': 'Dev'}\n",
        "\n",
        "# get all keys\n",
        "print(list(D.keys()))\n",
        "# Prints ['name', 'age', 'job']\n",
        "\n",
        "# get all values\n",
        "print(list(D.values()))\n",
        "# Prints ['Bob', 25, 'Dev']\n",
        "\n",
        "# get all pairs\n",
        "print(list(D.items()))\n",
        "# Prints [('name', 'Bob'), ('age', 25), ('job', 'Dev')]"
      ],
      "execution_count": null,
      "outputs": []
    },
    {
      "cell_type": "markdown",
      "metadata": {
        "id": "9avzA1ttIEOY",
        "colab_type": "text"
      },
      "source": [
        "## Iterate Through a Dictionary\n",
        "If you use a dictionary in a for loop, it traverses the keys of the dictionary by default."
      ]
    },
    {
      "cell_type": "code",
      "metadata": {
        "id": "9VE42j2rIHzU",
        "colab_type": "code",
        "colab": {}
      },
      "source": [
        "D = {'name': 'Bob',\n",
        "     'age': 25,\n",
        "     'job': 'Dev'}\n",
        "\n",
        "for x in D:\n",
        "    print(x)\n",
        "# Prints name age job"
      ],
      "execution_count": null,
      "outputs": []
    },
    {
      "cell_type": "code",
      "metadata": {
        "id": "LV22pw42IJE_",
        "colab_type": "code",
        "colab": {}
      },
      "source": [
        "# To iterate over the values of a dictionary, index from key to value inside the for loop.\n",
        "\n",
        "for x in D:\n",
        "    print(D[x])\n",
        "# Prints Bob 25 Dev"
      ],
      "execution_count": null,
      "outputs": []
    },
    {
      "cell_type": "markdown",
      "metadata": {
        "id": "Hd9SdfdIINbr",
        "colab_type": "text"
      },
      "source": [
        "## Check if a Key or Value Exists\n",
        "If you want to know whether a key exists in a dictionary, use in and not in operators with if statement."
      ]
    },
    {
      "cell_type": "code",
      "metadata": {
        "id": "C4XmI5xkIOwm",
        "colab_type": "code",
        "colab": {}
      },
      "source": [
        "D = {'name': 'Bob',\n",
        "     'age': 25,\n",
        "     'job': 'Dev'}\n",
        "\n",
        "print('name' in D)\n",
        "# Prints True\n",
        "print('salary' in D)\n",
        "# Prints False"
      ],
      "execution_count": null,
      "outputs": []
    },
    {
      "cell_type": "markdown",
      "metadata": {
        "id": "sWrL2TodISx0",
        "colab_type": "text"
      },
      "source": [
        "To check if a certain value exists in a dictionary, you can use method values(), which returns the values as a list, and then use the in operator."
      ]
    },
    {
      "cell_type": "code",
      "metadata": {
        "id": "s0KXy2uiITui",
        "colab_type": "code",
        "colab": {}
      },
      "source": [
        "D = {'name': 'Bob',\n",
        "     'age': 25,\n",
        "     'job': 'Dev'}\n",
        "\n",
        "print('Bob' in D.values())\n",
        "# Prints True\n",
        "print('Sam' in D.values())\n",
        "# Prints False"
      ],
      "execution_count": null,
      "outputs": []
    },
    {
      "cell_type": "markdown",
      "metadata": {
        "id": "qseaNb1QIaL5",
        "colab_type": "text"
      },
      "source": [
        "## Find Dictionary Length\n",
        "To find how many key:value pairs a dictionary has, use len() method."
      ]
    },
    {
      "cell_type": "code",
      "metadata": {
        "id": "P-lWQkGxIbiZ",
        "colab_type": "code",
        "colab": {}
      },
      "source": [
        "D = {'name': 'Bob',\n",
        "     'age': 25,\n",
        "     'job': 'Dev'}\n",
        "\n",
        "print(len(D))\n",
        "# Prints 3"
      ],
      "execution_count": null,
      "outputs": []
    }
  ]
}