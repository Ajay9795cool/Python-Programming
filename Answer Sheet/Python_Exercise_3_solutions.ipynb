{
  "nbformat": 4,
  "nbformat_minor": 0,
  "metadata": {
    "colab": {
      "name": "Python_Exercise_3_solutions.ipynb",
      "provenance": [],
      "authorship_tag": "ABX9TyM9fQOxhF1Kv2cbjjbEyZ1p",
      "include_colab_link": true
    },
    "kernelspec": {
      "name": "python3",
      "display_name": "Python 3"
    }
  },
  "cells": [
    {
      "cell_type": "markdown",
      "metadata": {
        "id": "view-in-github",
        "colab_type": "text"
      },
      "source": [
        "<a href=\"https://colab.research.google.com/github/Ajay9795cool/Python-Programming/blob/master/Python_Exercise_3_solutions.ipynb\" target=\"_parent\"><img src=\"https://colab.research.google.com/assets/colab-badge.svg\" alt=\"Open In Colab\"/></a>"
      ]
    },
    {
      "cell_type": "markdown",
      "metadata": {
        "id": "DVTcy71Q0Azx",
        "colab_type": "text"
      },
      "source": [
        "# Python Functions"
      ]
    },
    {
      "cell_type": "markdown",
      "metadata": {
        "id": "LrNXYB4e0CD0",
        "colab_type": "text"
      },
      "source": [
        "## Exercise Question 1: Create a function that can accept two arguments name and age and print its value"
      ]
    },
    {
      "cell_type": "code",
      "metadata": {
        "id": "d11RFcif0E4F",
        "colab_type": "code",
        "colab": {}
      },
      "source": [
        "def demo(name, age):\n",
        "    print(name, age)\n",
        "\n",
        "demo(\"Ben\", 25)"
      ],
      "execution_count": null,
      "outputs": []
    },
    {
      "cell_type": "markdown",
      "metadata": {
        "id": "kUmdk9cj0FEK",
        "colab_type": "text"
      },
      "source": [
        "## Exercise Question 2: Write a function func1() such that it can accept a variable length of  argument and print all arguments value\n",
        "\n",
        "```\n",
        "func1(20, 40, 60)\n",
        "func1(80, 100)\n",
        "```\n",
        "\n",
        "Expected Output:\n",
        "\n",
        "After func1(20, 40, 60):\n",
        "\n",
        "```\n",
        "20\n",
        "40\n",
        "60\n",
        "```\n",
        "After func1(80, 100):\n",
        "\n",
        "```\n",
        "80\n",
        "100\n",
        "```\n",
        "\n"
      ]
    },
    {
      "cell_type": "code",
      "metadata": {
        "id": "B8cIBZNz0SIS",
        "colab_type": "code",
        "colab": {}
      },
      "source": [
        "def func1(*args):\n",
        "    for i in args:\n",
        "        print(i)\n",
        "\n",
        "func1(20, 40, 60)\n",
        "func1(80, 100)"
      ],
      "execution_count": null,
      "outputs": []
    },
    {
      "cell_type": "markdown",
      "metadata": {
        "id": "SXHEsCai0Sfu",
        "colab_type": "text"
      },
      "source": [
        "## Exercise Question 3: Write a function calculation() such that it can accept two variables and calculate the addition and subtraction of it. And also it must return both addition and subtraction in a single return call\n",
        "\n",
        "For example:\n",
        "\n",
        "```\n",
        "def calculation(a, b):\n",
        "    # Your Code\n",
        "\n",
        "res = calculation(40, 10)\n",
        "print(res)\n",
        "```\n",
        "A res should produce result 50, 30"
      ]
    },
    {
      "cell_type": "code",
      "metadata": {
        "id": "pgN4vEwO0X54",
        "colab_type": "code",
        "colab": {}
      },
      "source": [
        "def calculation(a, b):\n",
        "    return a+b, a-b\n",
        "\n",
        "res = calculation(40, 10)\n",
        "print(res)"
      ],
      "execution_count": null,
      "outputs": []
    },
    {
      "cell_type": "markdown",
      "metadata": {
        "id": "qfE2Jsm10X_c",
        "colab_type": "text"
      },
      "source": [
        "## Exercise Question 4: Create a function showEmployee() in such a way that it should accept employee name, and it’s salary and display both, and if the salary is missing in function call it should show it as 9000\n",
        "\n",
        "Expected Output:\n",
        "\n",
        "```\n",
        "showEmployee(\"Ben\", 9000)\n",
        "showEmployee(\"Ben\")\n",
        "```\n",
        "Should Produce:\n",
        "\n",
        "```\n",
        "Employee Ben salary is: 9000\n",
        "Employee Ben salary is: 9000\n",
        "```\n",
        "\n",
        "\n",
        "\n"
      ]
    },
    {
      "cell_type": "code",
      "metadata": {
        "id": "4Kq58MVr0ici",
        "colab_type": "code",
        "colab": {}
      },
      "source": [
        "def showEmployee(name, salary=9000):\n",
        "    print(\"Employee\", name, \"salary is:\", salary)\n",
        "\n",
        "showEmployee(\"Ben\", 9000)\n",
        "showEmployee(\"Ben\")"
      ],
      "execution_count": null,
      "outputs": []
    },
    {
      "cell_type": "markdown",
      "metadata": {
        "id": "ZcguoCN60ikt",
        "colab_type": "text"
      },
      "source": [
        "## Exercise Question 5: Create an inner function to calculate the addition in the following way\n",
        "\n",
        "* Create an outer function that will accept two parameters a and b\n",
        "* Create an inner function inside an outer function that will calculate the addition of a and b\n",
        "* At last, an outer function will add 5 into addition and return it"
      ]
    },
    {
      "cell_type": "code",
      "metadata": {
        "id": "tJ7TSlhN0p4d",
        "colab_type": "code",
        "colab": {}
      },
      "source": [
        "def outerFun(a, b):\n",
        "    square = a**2\n",
        "    def innerFun(a,b):\n",
        "        return a+b\n",
        "    add = innerFun(a, b)\n",
        "    return add+5\n",
        "\n",
        "result = outerFun(5, 10)\n",
        "print(result)"
      ],
      "execution_count": null,
      "outputs": []
    },
    {
      "cell_type": "markdown",
      "metadata": {
        "id": "fw3a80Xn0qAK",
        "colab_type": "text"
      },
      "source": [
        "## Exercise Question 6: Write a recursive function to calculate the sum of numbers from 0 to 10\n",
        "\n",
        "Expected Output:\n",
        "\n",
        "```\n",
        "55\n",
        "```\n",
        "\n"
      ]
    },
    {
      "cell_type": "code",
      "metadata": {
        "id": "pkFFaRJ_0tcC",
        "colab_type": "code",
        "colab": {}
      },
      "source": [
        "def calculateSum(num):\n",
        "    if num:\n",
        "        return num + calculateSum(num-1)\n",
        "    else:\n",
        "        return 0\n",
        "\n",
        "res = calculateSum(10)\n",
        "print(res)"
      ],
      "execution_count": null,
      "outputs": []
    },
    {
      "cell_type": "markdown",
      "metadata": {
        "id": "09Y90sey0tjA",
        "colab_type": "text"
      },
      "source": [
        "## Exercise Question 7: Assign a different name to function and call it through the new name\n",
        "\n",
        "Below is the function displayStudent(name, age). Assign a new name showStudent(name, age)  to it and call through the new name\n",
        "\n",
        "```\n",
        "def displayStudent(name, age):\n",
        "    print(name, age)\n",
        "\n",
        "displayStudent(\"Emma\", 26)\n",
        "```\n",
        "\n",
        "You should be able to call the same function using\n",
        "\n",
        "```\n",
        "showStudent(name, age)\n",
        "```\n",
        "\n"
      ]
    },
    {
      "cell_type": "code",
      "metadata": {
        "id": "3Z33N3cT00mF",
        "colab_type": "code",
        "colab": {}
      },
      "source": [
        "def displayStudent(name, age):\n",
        "    print(name, age)\n",
        "\n",
        "displayStudent(\"Emma\", 26)\n",
        "\n",
        "showStudent = displayStudent\n",
        "showStudent(\"Emma\", 26)"
      ],
      "execution_count": null,
      "outputs": []
    },
    {
      "cell_type": "markdown",
      "metadata": {
        "id": "SZEftvz100tV",
        "colab_type": "text"
      },
      "source": [
        "## Exercise Question 8: Generate a Python list of all the even numbers between 4 to 30\n",
        "Expected Output:\n",
        "\n",
        "```\n",
        "[4, 6, 8, 10, 12, 14, 16, 18, 20, 22, 24, 26, 28]\n",
        "```\n",
        "\n",
        "\n",
        "\n"
      ]
    },
    {
      "cell_type": "code",
      "metadata": {
        "id": "-rEBFsVs05Eo",
        "colab_type": "code",
        "colab": {}
      },
      "source": [
        "print(list( range(4, 30, 2)))"
      ],
      "execution_count": null,
      "outputs": []
    },
    {
      "cell_type": "markdown",
      "metadata": {
        "id": "jSKnfoN805KF",
        "colab_type": "text"
      },
      "source": [
        "## Exercise Question 9: Return the largest item from the given list\n",
        "\n",
        "```\n",
        "aList = [4, 6, 8, 24, 12, 2]\n",
        "```\n",
        "\n",
        "Expected Output:\n",
        "\n",
        "```\n",
        "24\n",
        "```\n",
        "\n"
      ]
    },
    {
      "cell_type": "code",
      "metadata": {
        "id": "gpriIITt0-2F",
        "colab_type": "code",
        "colab": {}
      },
      "source": [
        "aList = [4, 6, 8, 24, 12, 2]\n",
        "print(max(aList))"
      ],
      "execution_count": null,
      "outputs": []
    }
  ]
}