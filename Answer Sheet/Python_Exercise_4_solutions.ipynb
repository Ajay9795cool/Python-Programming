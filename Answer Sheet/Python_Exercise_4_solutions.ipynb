{
  "nbformat": 4,
  "nbformat_minor": 0,
  "metadata": {
    "colab": {
      "name": "Python_Exercise_4_solutions.ipynb",
      "provenance": [],
      "authorship_tag": "ABX9TyMkGV0GsRnat1RE/4Q4Hjfa",
      "include_colab_link": true
    },
    "kernelspec": {
      "name": "python3",
      "display_name": "Python 3"
    }
  },
  "cells": [
    {
      "cell_type": "markdown",
      "metadata": {
        "id": "view-in-github",
        "colab_type": "text"
      },
      "source": [
        "<a href=\"https://colab.research.google.com/github/Ajay9795cool/Python-Programming/blob/master/Python_Exercise_4_solutions.ipynb\" target=\"_parent\"><img src=\"https://colab.research.google.com/assets/colab-badge.svg\" alt=\"Open In Colab\"/></a>"
      ]
    },
    {
      "cell_type": "markdown",
      "metadata": {
        "id": "2SDOA-q-1tmQ",
        "colab_type": "text"
      },
      "source": [
        "## Python Data Structure"
      ]
    },
    {
      "cell_type": "markdown",
      "metadata": {
        "id": "PeVr4Sdu1w8y",
        "colab_type": "text"
      },
      "source": [
        "## Exercise Question 1: Given a two list. Create a third list by picking an odd-index element from the first list and even index elements from second.\n",
        "\n",
        "For Example:\n",
        "\n",
        "```\n",
        "listOne = [3, 6, 9, 12, 15, 18, 21]\n",
        "listTwo = [4, 8, 12, 16, 20, 24, 28]\n",
        "```\n",
        "\n",
        "Expected Output:\n",
        "\n",
        "```\n",
        "Element at odd-index positions from list one\n",
        "[6, 12, 18]\n",
        "Element at even-index positions from list two\n",
        "[4, 12, 20, 28]\n",
        "Printing Final third list\n",
        "[6, 12, 18, 4, 12, 20, 28]\n",
        "```"
      ]
    },
    {
      "cell_type": "code",
      "metadata": {
        "id": "SdIqdDOh143p",
        "colab_type": "code",
        "colab": {}
      },
      "source": [
        "listOne = [3, 6, 9, 12, 15, 18, 21]\n",
        "listTwo = [4, 8, 12, 16, 20, 24, 28]\n",
        "listThree = list()\n",
        "\n",
        "oddElements = listOne[1::2]\n",
        "print(\"Element at odd-index positions from list one\")\n",
        "print(oddElements)\n",
        "\n",
        "EvenElement = listTwo[0::2]\n",
        "print(\"Element at even-index positions from list two\")\n",
        "print(EvenElement)\n",
        "\n",
        "print(\"Printing Final third list\")\n",
        "listThree.extend(oddElements)\n",
        "listThree.extend(EvenElement)\n",
        "print(listThree)"
      ],
      "execution_count": null,
      "outputs": []
    },
    {
      "cell_type": "markdown",
      "metadata": {
        "id": "zplTgUfW15u8",
        "colab_type": "text"
      },
      "source": [
        "## Exercise Question 2: Given an input list removes the element at index 4 and add it to the 2nd position and also, at the end of the list\n",
        "\n",
        "For example: `List = [54, 44, 27, 79, 91, 41]`\n",
        "\n",
        "Expected Output:\n",
        "\n",
        "```\n",
        "Original list  [34, 54, 67, 89, 11, 43, 94]\n",
        "List After removing element at index 4  [34, 54, 67, 89, 43, 94]\n",
        "List after Adding element at index 2  [34, 54, 11, 67, 89, 43, 94]\n",
        "List after Adding element at last  [34, 54, 11, 67, 89, 43, 94, 11]\n",
        "```\n",
        "\n"
      ]
    },
    {
      "cell_type": "code",
      "metadata": {
        "id": "sQ-IWjiS1wCS",
        "colab_type": "code",
        "colab": {}
      },
      "source": [
        "sampleList = [34, 54, 67, 89, 11, 43, 94]\n",
        "\n",
        "print(\"Original list \", sampleList)\n",
        "element = sampleList.pop(4)\n",
        "print(\"List After removing element at index 4 \", sampleList)\n",
        "\n",
        "sampleList.insert(2, element)\n",
        "print(\"List after Adding element at index 2 \", sampleList)\n",
        "\n",
        "sampleList.append(element)\n",
        "print(\"List after Adding element at last \", sampleList)"
      ],
      "execution_count": null,
      "outputs": []
    },
    {
      "cell_type": "markdown",
      "metadata": {
        "id": "dDd_vZOs2BhX",
        "colab_type": "text"
      },
      "source": [
        "## Exercise Question 3: Given a list slice it into a 3 equal chunks and rever each list\n",
        "\n",
        "For Example: `sampleList = [11, 45, 8, 23, 14, 12, 78, 45, 89]`\n",
        "\n",
        "Expected Outcome:\n",
        "\n",
        "```\n",
        "Original list  [11, 45, 8, 23, 14, 12, 78, 45, 89]\n",
        "Chunk  1 [11, 45, 8]\n",
        "After reversing it  [8, 45, 11]\n",
        "Chunk  2 [23, 14, 12]\n",
        "After reversing it  [12, 14, 23]\n",
        "Chunk  3 [78, 45, 89]\n",
        "After reversing it  [89, 45, 78]\n",
        "```\n",
        "\n"
      ]
    },
    {
      "cell_type": "code",
      "metadata": {
        "id": "6ezztYoI2FlP",
        "colab_type": "code",
        "colab": {}
      },
      "source": [
        "sampleList = [11, 45, 8, 23, 14, 12, 78, 45, 89]\n",
        "print(\"Original list \", sampleList)\n",
        "\n",
        "length = len(sampleList)\n",
        "chunkSize  = int(length/3)\n",
        "start = 0\n",
        "end = chunkSize\n",
        "for i in range(1, 4, 1):\n",
        "  indexes = slice(start, end, 1)\n",
        "  listChunk = sampleList[indexes]\n",
        "  print(\"Chunk \", i , listChunk)\n",
        "  print(\"After reversing it \", list(reversed(listChunk)))\n",
        "  start = end\n",
        "  if(i != 2):\n",
        "    end +=chunkSize\n",
        "  else:\n",
        "    end += length - chunkSize"
      ],
      "execution_count": null,
      "outputs": []
    },
    {
      "cell_type": "markdown",
      "metadata": {
        "id": "swQ7_ePc2Fqa",
        "colab_type": "text"
      },
      "source": [
        "## Exercise Question 4: Given a list iterate it and count the occurrence of each element and create a dictionary to show the count of each element\n",
        "\n",
        "Expected Output:\n",
        "\n",
        "```\n",
        "Original list  [11, 45, 8, 11, 23, 45, 23, 45, 89]\n",
        "Printing count of each item   {11: 2, 45: 3, 8: 1, 23: 2, 89: 1}\n",
        "```\n",
        "\n"
      ]
    },
    {
      "cell_type": "code",
      "metadata": {
        "id": "q9zdLV1j2JsN",
        "colab_type": "code",
        "colab": {}
      },
      "source": [
        "sampleList = [11, 45, 8, 11, 23, 45, 23, 45, 89]\n",
        "print(\"Original list \", sampleList)\n",
        "\n",
        "countDict = dict()\n",
        "for item in sampleList:\n",
        "  if(item in countDict):\n",
        "    countDict[item] += 1\n",
        "  else:\n",
        "    countDict[item] = 1\n",
        "  \n",
        "print(\"Printing count of each item  \",countDict)"
      ],
      "execution_count": null,
      "outputs": []
    },
    {
      "cell_type": "markdown",
      "metadata": {
        "id": "N2pSfZjm2Jwo",
        "colab_type": "text"
      },
      "source": [
        "## Exercise Question 5: Given a two list of equal size create a set such that it shows the element from both lists in the pair\n",
        "\n",
        "Expected Output:\n",
        "\n",
        "```\n",
        "First List  [2, 3, 4, 5, 6, 7, 8]\n",
        "Second List  [4, 9, 16, 25, 36, 49, 64]\n",
        "Result is  {(6, 36), (8, 64), (4, 16), (5, 25), (3, 9), (7, 49), (2, 4)}\n",
        "```\n",
        "\n"
      ]
    },
    {
      "cell_type": "code",
      "metadata": {
        "id": "vdslS2IA2Ndz",
        "colab_type": "code",
        "colab": {}
      },
      "source": [
        "firstList = [2, 3, 4, 5, 6, 7, 8]\n",
        "print(\"First List \", firstList)\n",
        "\n",
        "secondList = [4, 9, 16, 25, 36, 49, 64]\n",
        "print(\"Second List \", secondList)\n",
        "\n",
        "result = zip(firstList, secondList)\n",
        "resultSet = set(result)\n",
        "print(resultSet)"
      ],
      "execution_count": null,
      "outputs": []
    },
    {
      "cell_type": "markdown",
      "metadata": {
        "id": "jRIIygiL2Ny7",
        "colab_type": "text"
      },
      "source": [
        "## Exercise Question 6: Given a following two sets find the intersection and remove those elements from the first set\n",
        "\n",
        "Expected Output:\n",
        "\n",
        "```\n",
        "First Set  {65, 42, 78, 83, 23, 57, 29}\n",
        "Second Set  {67, 73, 43, 48, 83, 57, 29}\n",
        "\n",
        "Intersection is  {57, 83, 29}\n",
        "First Set after removing common element  {65, 42, 78, 23}\n",
        "```\n",
        "\n"
      ]
    },
    {
      "cell_type": "code",
      "metadata": {
        "id": "I20eq-0Q2Q8I",
        "colab_type": "code",
        "colab": {}
      },
      "source": [
        "firstSet  = {23, 42, 65, 57, 78, 83, 29}\n",
        "secondSet = {57, 83, 29, 67, 73, 43, 48}\n",
        "\n",
        "print(\"First Set \", firstSet)\n",
        "print(\"Second Set \", secondSet)\n",
        "\n",
        "intersection = firstSet.intersection(secondSet)\n",
        "print(\"Intersection is \", intersection)\n",
        "for item in intersection:\n",
        "  firstSet.remove(item)\n",
        "\n",
        "print(\"First Set after removing common element \", firstSet)"
      ],
      "execution_count": null,
      "outputs": []
    },
    {
      "cell_type": "markdown",
      "metadata": {
        "id": "1X7mDMRm2RBq",
        "colab_type": "text"
      },
      "source": [
        "## Exercise Question 7: Given two sets, Checks if One Set is Subset or superset of Another Set. if the subset is found delete all elements from that set\n",
        "\n",
        "For Example:\n",
        "\n",
        "```\n",
        "firstSet = {27, 43, 34}\n",
        "secondSet = {34, 93, 22, 27, 43, 53, 48}\n",
        "```\n",
        "Expected Output:\n",
        "\n",
        "```\n",
        "First Set  {57, 83, 29}\n",
        "Second Set  {67, 73, 43, 48, 83, 57, 29}\n",
        "\n",
        "First set is subset of second set - True\n",
        "Second set is subset of First set -  False\n",
        "\n",
        "First set is Super set of second set -  False\n",
        "Second set is Super set of First set -  True\n",
        "\n",
        "First Set  set()\n",
        "Second Set  {67, 73, 43, 48, 83, 57, 29}\n",
        "```"
      ]
    },
    {
      "cell_type": "code",
      "metadata": {
        "id": "C36RVfj82W5P",
        "colab_type": "code",
        "colab": {}
      },
      "source": [
        "firstSet  = {57, 83, 29}\n",
        "secondSet = {57, 83, 29, 67, 73, 43, 48}\n",
        "\n",
        "print(\"First Set \", firstSet)\n",
        "print(\"Second Set \", secondSet)\n",
        "\n",
        "print(\"First set is subset of second set -\", firstSet.issubset(secondSet))\n",
        "print(\"Second set is subset of First set - \", secondSet.issubset(firstSet))\n",
        "\n",
        "print(\"First set is Super set of second set - \", firstSet.issuperset(secondSet))\n",
        "print(\"Second set is Super set of First set - \", secondSet.issuperset(firstSet))\n",
        "\n",
        "if(firstSet.issubset(secondSet)):\n",
        "  firstSet.clear()\n",
        "  \n",
        "if(secondSet.issubset(firstSet)):\n",
        "  secondSet.clear()\n",
        "\n",
        "print(\"First Set \", firstSet)\n",
        "print(\"Second Set \", secondSet)"
      ],
      "execution_count": null,
      "outputs": []
    },
    {
      "cell_type": "markdown",
      "metadata": {
        "id": "_3bdyAni2W-s",
        "colab_type": "text"
      },
      "source": [
        "## Exercise Question 8: Iterate a given list and Check if a given element already exists in a dictionary as a key’s value if not delete it from the list\n",
        "\n",
        "Given:\n",
        "\n",
        "```\n",
        "rollNumber = [47, 64, 69, 37, 76, 83, 95, 97]\n",
        "sampleDict ={'Jhon':47, 'Emma':69, 'Kelly':76, 'Jason':97}\n",
        "```\n",
        "Expected Outcome:\n",
        "\n",
        "```\n",
        "after removing unwanted elemnts from list [47, 69, 76, 97]\n",
        "```\n",
        "\n"
      ]
    },
    {
      "cell_type": "code",
      "metadata": {
        "id": "QwTbvnFk2d7s",
        "colab_type": "code",
        "colab": {}
      },
      "source": [
        "rollNumber  = [47, 64, 69, 37, 76, 83, 95, 97]\n",
        "sampleDict  ={'Jhon':47, 'Emma':69, 'Kelly':76, 'Jason':97} \n",
        "\n",
        "print(\"List -\", rollNumber)\n",
        "print(\"Dictionary - \", sampleDict)\n",
        "\n",
        "rollNumber[:] = [item for item in rollNumber if item in sampleDict.values()]\n",
        "print(\"after removing unwanted elemnts from list \", rollNumber)"
      ],
      "execution_count": null,
      "outputs": []
    },
    {
      "cell_type": "markdown",
      "metadata": {
        "id": "RIEh7GC42eA3",
        "colab_type": "text"
      },
      "source": [
        "## Exercise Question 9: Given a dictionary get all values from the dictionary and add it in a list but don’t add duplicates\n",
        "\n",
        "Given:\n",
        "\n",
        "```\n",
        "speed ={'jan':47, 'feb':52, 'march':47, 'April':44, 'May':52, 'June':53, 'july':54, 'Aug':44, 'Sept':54}\n",
        "```\n",
        "\n",
        "Expected Outcome: `[47, 52, 44, 53, 54]`"
      ]
    },
    {
      "cell_type": "code",
      "metadata": {
        "id": "TuFgdw2-2lyz",
        "colab_type": "code",
        "colab": {}
      },
      "source": [
        "speed  ={'jan':47, 'feb':52, 'march':47, 'April':44, 'May':52, 'June':53,\n",
        "          'july':54, 'Aug':44, 'Sept':54} \n",
        "\n",
        "print(\"Dictionary's values - \", speed.values())\n",
        "\n",
        "speedList = list()\n",
        "for item in speed.values():\n",
        "  if item not in speedList:\n",
        "    speedList.append(item)\n",
        "print(\"unique list\", speedList)"
      ],
      "execution_count": null,
      "outputs": []
    },
    {
      "cell_type": "markdown",
      "metadata": {
        "id": "6xXl2gMZ2mBo",
        "colab_type": "text"
      },
      "source": [
        "## Exercise Question 10: Remove duplicate from a list and create a tuple and find the minimum and maximum number\n",
        "\n",
        "For Example:\n",
        "\n",
        "`sampleList = [87, 45, 41, 65, 94, 41, 99, 94]`\n",
        "\n",
        "Expected Outcome:\n",
        "\n",
        "```\n",
        "unique items [87, 45, 41, 65, 99]\n",
        "tuple (87, 45, 41, 65, 99)\n",
        "min: 41\n",
        "max: 99\n",
        "```\n",
        "\n"
      ]
    },
    {
      "cell_type": "code",
      "metadata": {
        "id": "7kqc4q8z3EmI",
        "colab_type": "code",
        "colab": {}
      },
      "source": [
        "sampleList = [87, 52, 44, 53, 54, 87, 52, 53]\n",
        "\n",
        "print(\"Original list\", sampleList)\n",
        "\n",
        "sampleList = list(set(sampleList))\n",
        "print(\"unique list\", sampleList)\n",
        "\n",
        "tuple = tuple(sampleList)\n",
        "print(\"tuple \", tuple)\n",
        "\n",
        "print(\"Minimum number is: \", min(tuple))\n",
        "print(\"Maximum number is: \", max(tuple))"
      ],
      "execution_count": null,
      "outputs": []
    }
  ]
}