{
  "nbformat": 4,
  "nbformat_minor": 0,
  "metadata": {
    "colab": {
      "name": "Python-Recap-3.ipynb",
      "provenance": [],
      "authorship_tag": "ABX9TyPiLq5zMZBMuiXEGnz2Plak",
      "include_colab_link": true
    },
    "kernelspec": {
      "name": "python3",
      "display_name": "Python 3"
    }
  },
  "cells": [
    {
      "cell_type": "markdown",
      "metadata": {
        "id": "view-in-github",
        "colab_type": "text"
      },
      "source": [
        "<a href=\"https://colab.research.google.com/github/Ajay9795cool/Python-Programming/blob/master/Python_Recap_3.ipynb\" target=\"_parent\"><img src=\"https://colab.research.google.com/assets/colab-badge.svg\" alt=\"Open In Colab\"/></a>"
      ]
    },
    {
      "cell_type": "markdown",
      "metadata": {
        "id": "Si4fNalecNUD",
        "colab_type": "text"
      },
      "source": [
        "# Functions"
      ]
    },
    {
      "cell_type": "markdown",
      "metadata": {
        "id": "SK8wiaQbcRzN",
        "colab_type": "text"
      },
      "source": [
        "Functions are the first step to code reuse. They allow you to define a reusable block of code that can be used repeatedly in a program.\n",
        "\n",
        "Python provides several built-in functions such as print(), len() or type(), but you can also define your own functions to use within your programs.\n",
        "\n",
        "## Create a Function\n",
        "To define a Python function, use def keyword. Here’s the simplest possible function that prints ‘Hello, World!’ on the screen."
      ]
    },
    {
      "cell_type": "code",
      "metadata": {
        "id": "QzEj9-tpcXhP",
        "colab_type": "code",
        "colab": {}
      },
      "source": [
        "def hello():\n",
        "    print('Hello, World!')\n",
        "  \n",
        "hello()\n",
        "# Prints Hello, World!"
      ],
      "execution_count": null,
      "outputs": []
    },
    {
      "cell_type": "markdown",
      "metadata": {
        "id": "nKW1tMaucaeG",
        "colab_type": "text"
      },
      "source": [
        "The def statement only creates a function but does not call it. After the def has run, you can can call (run) the function by adding parentheses after the function’s name.\n",
        "\n",
        "## Pass Arguments\n",
        "You can send information to a function by passing values, known as arguments. Arguments are declared after the function name in parentheses.\n",
        "\n",
        "When you call a function with arguments, the values of those arguments are copied to their corresponding parameters inside the function."
      ]
    },
    {
      "cell_type": "code",
      "metadata": {
        "id": "4YFFWckDcgJn",
        "colab_type": "code",
        "colab": {}
      },
      "source": [
        "# Pass single argument to a function\n",
        "def hello(name):\n",
        "    print('Hello,', name)\n",
        "\n",
        "hello('Bob')\n",
        "# Prints Hello, Bob\n",
        "hello('Sam')\n",
        "# Prints Hello, Sam"
      ],
      "execution_count": null,
      "outputs": []
    },
    {
      "cell_type": "code",
      "metadata": {
        "id": "G4cpXa9PciG2",
        "colab_type": "code",
        "colab": {}
      },
      "source": [
        "## You can send as many arguments as you like, separated by commas ,.\n",
        "\n",
        "# Pass two arguments\n",
        "def func(name, job):\n",
        "    print(name, 'is a', job)\n",
        "\n",
        "func('Bob', 'developer')\n",
        "# Prints Bob is a developer"
      ],
      "execution_count": null,
      "outputs": []
    },
    {
      "cell_type": "markdown",
      "metadata": {
        "id": "XaTmSWcpclB1",
        "colab_type": "text"
      },
      "source": [
        "## Types of Arguments\n",
        "Python handles function arguments in a very flexible manner, compared to other languages. It supports multiple types of arguments in the function definition. Here’s the list:\n",
        "\n",
        "* Positional Arguments\n",
        "* Keyword Arguments\n",
        "* Default Arguments\n",
        "* Variable Length Positional Arguments (*args)\n",
        "* Variable Length Keyword Arguments (**kwargs)"
      ]
    },
    {
      "cell_type": "code",
      "metadata": {
        "id": "UB9mNLzScn-n",
        "colab_type": "code",
        "colab": {}
      },
      "source": [
        "# Positional Arguments - The most common are positional arguments, whose values are copied to their corresponding parameters in order.\n",
        "\n",
        "def func(name, job):\n",
        "    print(name, 'is a', job)\n",
        "\n",
        "func('Bob', 'developer')\n",
        "# Prints Bob is a developer\n",
        "\n",
        "# The only downside of positional arguments is that you need to pass arguments in the order in which they are defined.\n",
        "\n",
        "func('developer', 'Bob')\n",
        "# Prints developer is a Bob"
      ],
      "execution_count": null,
      "outputs": []
    },
    {
      "cell_type": "code",
      "metadata": {
        "id": "HOWmyS-Xcw0J",
        "colab_type": "code",
        "colab": {}
      },
      "source": [
        "# Keyword Arguments - To avoid positional argument confusion, you can pass arguments using the names of their corresponding parameters.\n",
        "\n",
        "# Keyword arguments can be put in any order\n",
        "func(name='Bob', job='developer')\n",
        "# Prints Bob is a developer\n",
        "\n",
        "func(job='developer', name='Bob')\n",
        "# Prints Bob is a developer\n",
        "\n",
        "# It is possible to combine positional and keyword arguments in a single call.\n",
        "# If you do so, specify the positional arguments before keyword arguments."
      ],
      "execution_count": null,
      "outputs": []
    },
    {
      "cell_type": "code",
      "metadata": {
        "id": "eneKs_-pc3mm",
        "colab_type": "code",
        "colab": {}
      },
      "source": [
        "# Default Arguments - You can specify default values for arguments when defining a function.\n",
        "# The default value is used if the function is called without a corresponding argument.\n",
        "\n",
        "# Set default value 'developer' to a 'job' parameter\n",
        "def func(name, job='developer'):\n",
        "    print(name, 'is a', job)\n",
        "\n",
        "func('Bob', 'manager')\n",
        "# Prints Bob is a manager\n",
        "\n",
        "func('Bob')\n",
        "# Prints Bob is a developer"
      ],
      "execution_count": null,
      "outputs": []
    },
    {
      "cell_type": "markdown",
      "metadata": {
        "id": "82cDAC6wdFVu",
        "colab_type": "text"
      },
      "source": [
        "## Variable Length Arguments (*args and **kwargs)\n",
        "Variable length arguments are useful when you want to create functions that take unlimited number of arguments. Unlimited in the sense that you do not know beforehand how many arguments can be passed to your function by the user.\n",
        "\n",
        "## *args\n",
        "When you prefix a parameter with an asterisk * , it collects all the unmatched positional arguments into a tuple. Because it is a normal tuple object, you can perform any operation that a tuple supports, like indexing, iteration etc.\n",
        "\n",
        "Following function prints all the arguments passed to the function as a tuple."
      ]
    },
    {
      "cell_type": "code",
      "metadata": {
        "id": "wTjRea6vdEdp",
        "colab_type": "code",
        "colab": {}
      },
      "source": [
        "def print_arguments(*args):\n",
        "    print(args)\n",
        "\n",
        "print_arguments(1, 54, 60, 8, 98, 12)\n",
        "# Prints (1, 54, 60, 8, 98, 12)\n",
        "# You don’t need to call this keyword parameter args, but it is standard practice."
      ],
      "execution_count": null,
      "outputs": []
    },
    {
      "cell_type": "markdown",
      "metadata": {
        "id": "AnUVg_TQdOdD",
        "colab_type": "text"
      },
      "source": [
        "## **kwargs\n",
        "The ** syntax is similar, but it only works for keyword arguments. It collects them into a new dictionary, where the argument names are the keys, and their values are the corresponding dictionary values."
      ]
    },
    {
      "cell_type": "code",
      "metadata": {
        "id": "W9WJKzH5dTNn",
        "colab_type": "code",
        "colab": {}
      },
      "source": [
        "def print_arguments(**kwargs):\n",
        "    print(kwargs)\n",
        "\n",
        "print_arguments(name='Bob', age=25, job='dev')\n",
        "# Prints {'name': 'Bob', 'age': 25, 'job': 'dev'}"
      ],
      "execution_count": null,
      "outputs": []
    },
    {
      "cell_type": "markdown",
      "metadata": {
        "id": "hCJj2KXOdS1p",
        "colab_type": "text"
      },
      "source": [
        "## Return Value\n",
        "To return a value from a function, simply use a return statement. Once a return statement is executed, nothing else in the function body is executed."
      ]
    },
    {
      "cell_type": "code",
      "metadata": {
        "id": "_DFuF99WdVq-",
        "colab_type": "code",
        "colab": {}
      },
      "source": [
        "# Return sum of two values\n",
        "def sum(a, b):\n",
        "    return a + b\n",
        "\n",
        "x = sum(3, 4)\n",
        "print(x)\n",
        "# Prints 7\n",
        "\n",
        "# Remember! a python function always returns a value. So, if you do not include any return statement, it automatically returns None."
      ],
      "execution_count": null,
      "outputs": []
    },
    {
      "cell_type": "code",
      "metadata": {
        "id": "5L0_NHACdaCb",
        "colab_type": "code",
        "colab": {}
      },
      "source": [
        "# Return Multiple Values - Python has the ability to return multiple values, something missing from many other languages.\n",
        "# You can do this by separating return values with a comma.\n",
        "\n",
        "# Return addition and subtraction in a tuple\n",
        "def func(a, b):\n",
        "    return a+b, a-b\n",
        "\n",
        "result = func(3, 2)\n",
        "\n",
        "print(result)\n",
        "# Prints (5, 1)"
      ],
      "execution_count": null,
      "outputs": []
    },
    {
      "cell_type": "code",
      "metadata": {
        "id": "b0dQnu4rdgoM",
        "colab_type": "code",
        "colab": {}
      },
      "source": [
        "# Unpack returned tuple\n",
        "def func(a, b):\n",
        "    return a+b, a-b\n",
        "\n",
        "add, sub = func(3, 2)\n",
        "\n",
        "print(add)\n",
        "# Prints 5\n",
        "print(sub)\n",
        "# Prints 1"
      ],
      "execution_count": null,
      "outputs": []
    },
    {
      "cell_type": "markdown",
      "metadata": {
        "id": "AeDMC80EdkVx",
        "colab_type": "text"
      },
      "source": [
        "## Docstring\n",
        "You can attach documentation to a function definition by including a string literal just after the function header. Docstrings are usually triple quoted to allow for multi-line descriptions."
      ]
    },
    {
      "cell_type": "code",
      "metadata": {
        "id": "c5Cp0setdl4G",
        "colab_type": "code",
        "colab": {}
      },
      "source": [
        "def hello():\n",
        "    \"\"\"This function prints\n",
        "       message on the screen\"\"\"  \n",
        "    print('Hello, World!')"
      ],
      "execution_count": null,
      "outputs": []
    },
    {
      "cell_type": "code",
      "metadata": {
        "id": "L3hsRNsPdodL",
        "colab_type": "code",
        "colab": {}
      },
      "source": [
        "# To print a function’s docstring, use the Python help() function and pass the function’s name.\n",
        "\n",
        "# Print docstring in rich format\n",
        "help(hello)"
      ],
      "execution_count": null,
      "outputs": []
    },
    {
      "cell_type": "code",
      "metadata": {
        "id": "u-mlRXa6drR6",
        "colab_type": "code",
        "colab": {}
      },
      "source": [
        "# You can also access the docstring through __doc__ attribute of the function.\n",
        "\n",
        "# Print docstring in a raw format\n",
        "print(hello.__doc__)"
      ],
      "execution_count": null,
      "outputs": []
    },
    {
      "cell_type": "markdown",
      "metadata": {
        "id": "G1MBHnpXdyJL",
        "colab_type": "text"
      },
      "source": [
        "## Nested Functions\n",
        "A Nested function is a function defined within other function. They are useful when performing complex task multiple times within another function, to avoid loops or code duplication."
      ]
    },
    {
      "cell_type": "code",
      "metadata": {
        "id": "VQtO2cA1dysM",
        "colab_type": "code",
        "colab": {}
      },
      "source": [
        "def outer(a, b):\n",
        "    def inner(c, d):\n",
        "        return c + d\n",
        "    return inner(a, b)\n",
        "\n",
        "result = outer(2, 4)\n",
        "\n",
        "print(result)\n",
        "# Prints 6\n",
        "# A nested function can act as a closure."
      ],
      "execution_count": null,
      "outputs": []
    },
    {
      "cell_type": "markdown",
      "metadata": {
        "id": "frJlCYUed2M6",
        "colab_type": "text"
      },
      "source": [
        "## Recursion\n",
        "A recursive function is a function that calls itself and repeats its behavior until some condition is met to return a result.\n",
        "\n",
        "In below example, countdown() is a recursive function that calls itself (recurse) to countdown. If num is 0 or negative, it prints the word “Stop”. Otherwise, it prints num and then calls itself, passing num-1 as an argument."
      ]
    },
    {
      "cell_type": "code",
      "metadata": {
        "id": "4DMC306Rd33m",
        "colab_type": "code",
        "colab": {}
      },
      "source": [
        "def countdown(num):\n",
        "    if num <= 0:\n",
        "        print('Stop')\n",
        "    else:\n",
        "        print(num)\n",
        "        countdown(num-1)\n",
        "\n",
        "countdown(5)\n",
        "# Prints 5\n",
        "# Prints 4\n",
        "# Prints 3\n",
        "# Prints 2\n",
        "# Prints 1\n",
        "# Prints Stop"
      ],
      "execution_count": null,
      "outputs": []
    },
    {
      "cell_type": "markdown",
      "metadata": {
        "id": "j4SeLChDd5Vz",
        "colab_type": "text"
      },
      "source": [
        "## Assigning Functions to Variables\n",
        "When Python runs a def statement, it creates a new function object and assigns it to the function’s name. You can assign a different name to it anytime and call through the new name.\n",
        "\n",
        "For example, let’s assign a different name ‘hi’ to our ‘hello’ function and call through its new name."
      ]
    },
    {
      "cell_type": "code",
      "metadata": {
        "id": "JlrvsuBVd7kU",
        "colab_type": "code",
        "colab": {}
      },
      "source": [
        "def hello():\n",
        "    print('Hello, World!')\n",
        "  \n",
        "hi = hello\n",
        "hi()\n",
        "# Prints Hello, World!"
      ],
      "execution_count": null,
      "outputs": []
    },
    {
      "cell_type": "markdown",
      "metadata": {
        "id": "LKNT7_BJd_Ca",
        "colab_type": "text"
      },
      "source": [
        "## Python Function Executes at Runtime\n",
        "Because Python treats def as an executable statement, it can appear anywhere a normal statement can.\n",
        "\n",
        "For example you can nest a function inside an if statement to select between alternative definitions."
      ]
    },
    {
      "cell_type": "code",
      "metadata": {
        "id": "47fh3IZXd_lu",
        "colab_type": "code",
        "colab": {}
      },
      "source": [
        "x = 0\n",
        "if x:\n",
        "    def hello():\n",
        "        print('Hello, World!')\n",
        "else:\n",
        "    def hello():\n",
        "        print('Hello, Universe!')\n",
        "\n",
        "hello()\n",
        "# Prints Hello, Universe!"
      ],
      "execution_count": null,
      "outputs": []
    },
    {
      "cell_type": "markdown",
      "metadata": {
        "id": "rBu8y2zSeAy9",
        "colab_type": "text"
      },
      "source": [
        "# Variables Scope"
      ]
    },
    {
      "cell_type": "markdown",
      "metadata": {
        "id": "bnlTxV3oeDKb",
        "colab_type": "text"
      },
      "source": [
        "Not all variables are accessible from all parts of our program. The part of the program where the variable is accessible is called its “scope” and is determined by where the variable is declared.\n",
        "\n",
        "Python has three different variable scopes:\n",
        "\n",
        "* Local scope\n",
        "* Global scope\n",
        "* Enclosing scope\n",
        "\n",
        "## Local Scope\n",
        "A variable declared within a function has a LOCAL SCOPE. It is accessible from the point at which it is declared until the end of the function, and exists for as long as the function is executing."
      ]
    },
    {
      "cell_type": "code",
      "metadata": {
        "id": "3QgczZoMeJh8",
        "colab_type": "code",
        "colab": {}
      },
      "source": [
        "def myfunc():\n",
        "    x = 42      # local scope x\n",
        "    print(x)\n",
        "\n",
        "myfunc()  "
      ],
      "execution_count": null,
      "outputs": []
    },
    {
      "cell_type": "code",
      "metadata": {
        "id": "HIy0xmA_eNN5",
        "colab_type": "code",
        "colab": {}
      },
      "source": [
        "# Local variables are removed from memory when the function call exits. \n",
        "# Therefore, trying to get the value of the local variable outside the function causes an error.\n",
        "\n",
        "def myfunc():\n",
        "    x = 42      # local scope x\n",
        "\n",
        "myfunc()\n",
        "print(x)        # Triggers NameError: x does not exist"
      ],
      "execution_count": null,
      "outputs": []
    },
    {
      "cell_type": "markdown",
      "metadata": {
        "id": "YgqUsr6CeR80",
        "colab_type": "text"
      },
      "source": [
        "## Global Scope\n",
        "A variable declared outside all functions has a GLOBAL SCOPE. It is accessible throughout the file, and also inside any file which imports that file."
      ]
    },
    {
      "cell_type": "code",
      "metadata": {
        "id": "xt4tI6m1eTTN",
        "colab_type": "code",
        "colab": {}
      },
      "source": [
        "x = 42          # global scope x\n",
        "\n",
        "def myfunc():\n",
        "    print(x)    # x is 42 inside def\n",
        "\n",
        "myfunc()\n",
        "print(x)        # x is 42 outside def"
      ],
      "execution_count": null,
      "outputs": []
    },
    {
      "cell_type": "markdown",
      "metadata": {
        "id": "6FkfWlMKeWae",
        "colab_type": "text"
      },
      "source": [
        "## Modifying Globals Inside a Function\n",
        "Although you can access global variables inside or outside of a function, you cannot modify it inside a function.\n",
        "\n",
        "Here’s an example that tries to reassign a global variable inside a function."
      ]
    },
    {
      "cell_type": "code",
      "metadata": {
        "id": "0zGaGhHeeW5T",
        "colab_type": "code",
        "colab": {}
      },
      "source": [
        "x = 42          # global scope x\n",
        "def myfunc():\n",
        "    x = 0\n",
        "    print(x)    # local x is 0\n",
        "\n",
        "myfunc()\n",
        "print(x)        # global x is still 42"
      ],
      "execution_count": null,
      "outputs": []
    },
    {
      "cell_type": "markdown",
      "metadata": {
        "id": "BQBzC8EhecUd",
        "colab_type": "text"
      },
      "source": [
        "Here, the value of global variable x didn’t change. Because Python created a new local variable named x; which disappears when the function ends, and has no effect on the global variable.\n",
        "\n",
        "To access the global variable rather than the local one, you need to explicitly declare x global, using the global keyword."
      ]
    },
    {
      "cell_type": "code",
      "metadata": {
        "id": "KqlZt2ZQedeD",
        "colab_type": "code",
        "colab": {}
      },
      "source": [
        "x = 42          # global scope x\n",
        "def myfunc():\n",
        "    global x    # declare x global\n",
        "    x = 0\n",
        "    print(x)    # global x is now 0\n",
        "\n",
        "myfunc()\n",
        "print(x)        # x is 0"
      ],
      "execution_count": null,
      "outputs": []
    },
    {
      "cell_type": "markdown",
      "metadata": {
        "id": "2MVI_Gn4emYU",
        "colab_type": "text"
      },
      "source": [
        "## Enclosing Scope\n",
        "If a variable is declared in an enclosing function, it is nonlocal to nested functions. It allows you to assign to variables in an outer, but no-global, scope.\n",
        "\n",
        "Here’s an example that tries to reassign enclosing (outer) function’s local variable inside a nested (inner) function."
      ]
    },
    {
      "cell_type": "code",
      "metadata": {
        "id": "03WVhz7YenC4",
        "colab_type": "code",
        "colab": {}
      },
      "source": [
        "# enclosing function\n",
        "def f1():\n",
        "    x = 42\n",
        "    # nested function\n",
        "    def f2():\n",
        "        x = 0\n",
        "        print(x)    # x is 0\n",
        "    f2()\n",
        "    print(x)        # x is still 42\n",
        "    \n",
        "f1()"
      ],
      "execution_count": null,
      "outputs": []
    },
    {
      "cell_type": "markdown",
      "metadata": {
        "id": "2tadbJYOesxo",
        "colab_type": "text"
      },
      "source": [
        "Here, the value of existing variable x didn’t change. Because Python created a new local variable named x that shadows the variable in the outer scope.\n",
        "\n",
        "Preventing that behavior is where the nonlocal keyword comes in."
      ]
    },
    {
      "cell_type": "code",
      "metadata": {
        "id": "NoRuBigoeqNh",
        "colab_type": "code",
        "colab": {}
      },
      "source": [
        "# enclosing function\n",
        "def f1():\n",
        "    x = 42\n",
        "    # nested function\n",
        "    def f2():\n",
        "        nonlocal x\n",
        "        x = 0\n",
        "        print(x)    # x is now 0\n",
        "    f2()\n",
        "    print(x)        # x remains 0\n",
        "    \n",
        "f1()"
      ],
      "execution_count": null,
      "outputs": []
    },
    {
      "cell_type": "markdown",
      "metadata": {
        "id": "lrN6Vu1Ye3SV",
        "colab_type": "text"
      },
      "source": [
        "## Scoping Rule – LEGB Rule\n",
        "python scoping rule legb rule\n",
        "When a variable is referenced, Python follows LEGB rule and searches up to four scopes in this order:\n",
        "\n",
        "* first in the local (L) scope,\n",
        "\n",
        "* then in the local scopes of any enclosing (E) functions and lambdas,\n",
        "\n",
        "* then in the global (G) scope,\n",
        "\n",
        "* and finally in then the built-in (B) scope\n",
        "\n",
        "and stops at the first occurrence. If no match is found, Python raises a NameError exception."
      ]
    },
    {
      "cell_type": "markdown",
      "metadata": {
        "id": "5bTTjh5iZ4AR",
        "colab_type": "text"
      },
      "source": [
        "# Python Classes and Objects\n"
      ]
    },
    {
      "cell_type": "markdown",
      "metadata": {
        "id": "Vs6KZgzUZ5yi",
        "colab_type": "text"
      },
      "source": [
        "Classes and objects are the two main aspects of object-oriented programming.\n",
        "\n",
        "A class is the blueprint from which individual objects are created. In the real world, for example, there may be thousands of cars in existence, all of the same make and model.\n",
        "\n",
        "In object-oriented terms, we say that your car is an instance (object) of the class Car."
      ]
    },
    {
      "cell_type": "markdown",
      "metadata": {
        "id": "QtGPmCcIaBcK",
        "colab_type": "text"
      },
      "source": [
        "In Python, everything is an object – integers, strings, lists, functions, even classes themselves.\n",
        "\n",
        "However, Python hides the object machinery with the help of special syntax.\n",
        "\n",
        "For example, when you type num = 42, Python actually creates a new object of type integer with the value 42, and assign its reference to the name num.\n",
        "\n",
        "## Create a Class\n",
        "To create your own custom object in Python, you first need to define a class, using the keyword class.\n",
        "\n",
        "Suppose you want to create objects to represent information about cars. Each object will represent a single car. You’ll first need to define a class called Car.\n",
        "\n",
        "Here’s the simplest possible class (an empty one):"
      ]
    },
    {
      "cell_type": "code",
      "metadata": {
        "id": "boKI1GmwaPRt",
        "colab_type": "code",
        "colab": {}
      },
      "source": [
        "class Car:\n",
        "    pass\n",
        "# Here the pass statement is used to indicate that this class is empty."
      ],
      "execution_count": null,
      "outputs": []
    },
    {
      "cell_type": "markdown",
      "metadata": {
        "id": "y3W3et6OaXGe",
        "colab_type": "text"
      },
      "source": [
        "## The __init__() Method\n",
        "__init__() is the special method that initializes an individual object. This method runs automatically each time an object of a class is created.\n",
        "\n",
        "The __init__() method is generally used to perform operations that are necessary before the object is created."
      ]
    },
    {
      "cell_type": "code",
      "metadata": {
        "id": "gjsTmuAAaZcz",
        "colab_type": "code",
        "colab": {}
      },
      "source": [
        "class Car:\n",
        "    \n",
        "    # initializer\n",
        "    def __init__(self):\n",
        "        pass\n",
        "# When you define __init__() in a class definition, its first parameter should be self."
      ],
      "execution_count": null,
      "outputs": []
    },
    {
      "cell_type": "markdown",
      "metadata": {
        "id": "B9m3JGsLace3",
        "colab_type": "text"
      },
      "source": [
        "## The self Parameter\n",
        "The self parameter refers to the individual object itself. It is used to fetch or set attributes of the particular instance.\n",
        "\n",
        "This parameter doesn’t have to be called self, you can call it whatever you want, but it is standard practice, and you should probably stick with it.\n",
        "\n",
        "**self should always be the first parameter of any method in the class, even if the method does not use it.**"
      ]
    },
    {
      "cell_type": "markdown",
      "metadata": {
        "id": "Q9vRKFadajj6",
        "colab_type": "text"
      },
      "source": [
        "## Attributes\n",
        "Every class you write in Python has two basic features: attributes and methods.\n",
        "\n",
        "Attributes are the individual things that differentiate one object from another. They determine the appearance, state, or other qualities of that object.\n",
        "\n",
        "In our case, the ‘Car’ class might have the following attributes:\n",
        "\n",
        "* Style: Sedan, SUV, Coupe\n",
        "* Color: Silver, Black, White\n",
        "* Wheels: Four\n",
        "Attributes are defined in classes by variables, and each object can have its own values for those variables.\n",
        "\n",
        "There are two types of attributes: Instance attributes and Class attributes.\n",
        "\n",
        "## Instance Attribute\n",
        "The instance attribute is a variable that is unique to each object (instance). Every object of that class has its own copy of that variable. Any changes made to the variable don’t reflect in other objects of that class.\n",
        "\n",
        "In the case of our Car() class, each car has a specific color and style."
      ]
    },
    {
      "cell_type": "code",
      "metadata": {
        "id": "H6chrz3hajFU",
        "colab_type": "code",
        "colab": {}
      },
      "source": [
        "# A class with two instance attributes\n",
        "class Car:\n",
        "\n",
        "    # initializer with instance attributes\n",
        "    def __init__(self, color, style):\n",
        "        self.color = color\n",
        "        self.style = style"
      ],
      "execution_count": null,
      "outputs": []
    },
    {
      "cell_type": "markdown",
      "metadata": {
        "id": "qXV-oa6rasSy",
        "colab_type": "text"
      },
      "source": [
        "## Class Attribute\n",
        "The class attribute is a variable that is same for all objects. And there’s only one copy of that variable that is shared with all objects. Any changes made to that variable will reflect in all other objects.\n",
        "\n",
        "In the case of our Car() class, each car has 4 wheels."
      ]
    },
    {
      "cell_type": "code",
      "metadata": {
        "id": "L0HFXhptauR4",
        "colab_type": "code",
        "colab": {}
      },
      "source": [
        "# A class with one class attribute\n",
        "class Car:\n",
        "\n",
        "    # class attribute\n",
        "    wheels = 4\n",
        "\n",
        "    # initializer with instance attributes\n",
        "    def __init__(self, color, style):\n",
        "        self.color = color\n",
        "        self.style = style\n",
        "# So while each car has a unique style and color, every car will have 4 wheels."
      ],
      "execution_count": null,
      "outputs": []
    },
    {
      "cell_type": "markdown",
      "metadata": {
        "id": "OpiwAl8gaxgZ",
        "colab_type": "text"
      },
      "source": [
        "## Create an Object\n",
        "You create an object of a class by calling the class name and passing arguments as if it were a function."
      ]
    },
    {
      "cell_type": "code",
      "metadata": {
        "id": "rPu2ecnhaxGp",
        "colab_type": "code",
        "colab": {}
      },
      "source": [
        "# Create an object from the 'Car' class by passing style and color\n",
        "class Car:\n",
        "\n",
        "    # class attribute\n",
        "    wheels = 4\n",
        "\n",
        "    # initializer with instance attributes\n",
        "    def __init__(self, color, style):\n",
        "        self.color = color\n",
        "        self.style = style\n",
        "\n",
        "c = Car('Black', 'Sedan')"
      ],
      "execution_count": null,
      "outputs": []
    },
    {
      "cell_type": "markdown",
      "metadata": {
        "id": "7BiQgDGQa3j6",
        "colab_type": "text"
      },
      "source": [
        "Here, we created a new object from the Car class by passing strings for the style and color parameters. But, we didn’t pass in the self argument.\n",
        "\n",
        "This is because, when you create a new object, Python automatically determines what self is (our newly-created object in this case) and passes it to the __init__ method."
      ]
    },
    {
      "cell_type": "markdown",
      "metadata": {
        "id": "LLiSox4Ua5Iu",
        "colab_type": "text"
      },
      "source": [
        "## Access and Modify Attributes\n",
        "The attributes of an instance are accessed and assigned to by using dot . notation."
      ]
    },
    {
      "cell_type": "code",
      "metadata": {
        "id": "fPuth9dua9Dm",
        "colab_type": "code",
        "colab": {}
      },
      "source": [
        "c = Car('Black', 'Sedan')\n",
        "\n",
        "# Access attributes\n",
        "print(c.style)\n",
        "# Prints Sedan\n",
        "print(c.color)\n",
        "# Prints Black\n",
        "\n",
        "# Modify attribute\n",
        "c.style = 'SUV'\n",
        "print(c.style)\n",
        "# Prints SUV"
      ],
      "execution_count": null,
      "outputs": []
    },
    {
      "cell_type": "markdown",
      "metadata": {
        "id": "S0WR0sw7bDmF",
        "colab_type": "text"
      },
      "source": [
        "## Methods\n",
        "Methods determine what type of functionality a class has, how it handles its data, and its overall behavior. Without methods, a class would simply be a structure.\n",
        "\n",
        "In our case, the ‘Car’ class might have the following methods:\n",
        "\n",
        "* Change color\n",
        "* Start engine\n",
        "* Stop engine\n",
        "* Change gear\n",
        "\n",
        "Just as there are instance and class attributes, there are also instance and class methods.\n",
        "\n",
        "Instance methods operate on an instance of a class; whereas class methods operate on the class itself.\n",
        "\n",
        "## Instance Methods\n",
        "Instance methods are nothing but functions defined inside a class that operates on instances of that class.\n",
        "\n",
        "Now let’s add some methods to the class.\n",
        "\n",
        "* showDescription() method: to print the current values of all the instance attributes\n",
        "* changeColor() method: to change the value of ‘color’ attribute"
      ]
    },
    {
      "cell_type": "code",
      "metadata": {
        "id": "FLfv21sIbeqN",
        "colab_type": "code",
        "colab": {}
      },
      "source": [
        "class Car:\n",
        "\n",
        "    # class attribute\n",
        "    wheels = 4\n",
        "\n",
        "    # initializer / instance attributes\n",
        "    def __init__(self, color, style):\n",
        "        self.color = color\n",
        "        self.style = style\n",
        "\n",
        "    # method 1\n",
        "    def showDescription(self):\n",
        "        print(\"This car is a\", self.color, self.style)\n",
        "\n",
        "    # method 2\n",
        "    def changeColor(self, color):\n",
        "        self.color = color\n",
        "\n",
        "c = Car('Black', 'Sedan')\n",
        "\n",
        "# call method 1\n",
        "c.showDescription()\n",
        "# Prints This car is a Black Sedan\n",
        "\n",
        "# call method 2 and set color\n",
        "c.changeColor('White')\n",
        "\n",
        "c.showDescription()\n",
        "# Prints This car is a White Sedan"
      ],
      "execution_count": null,
      "outputs": []
    },
    {
      "cell_type": "markdown",
      "metadata": {
        "id": "IwkUX0oXcFYX",
        "colab_type": "text"
      },
      "source": [
        "## Delete Attributes and Objects"
      ]
    },
    {
      "cell_type": "code",
      "metadata": {
        "id": "-iGZ1s60cHOb",
        "colab_type": "code",
        "colab": {}
      },
      "source": [
        "#To delete any object attribute, use the del keyword.\n",
        "del c.color\n",
        "\n",
        "#You can delete the object completely with del keyword.\n",
        "del c"
      ],
      "execution_count": null,
      "outputs": []
    },
    {
      "cell_type": "markdown",
      "metadata": {
        "id": "o2djygFpcQMp",
        "colab_type": "text"
      },
      "source": [
        ""
      ]
    }
  ]
}