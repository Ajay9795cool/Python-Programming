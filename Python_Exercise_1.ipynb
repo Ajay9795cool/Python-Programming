{
  "nbformat": 4,
  "nbformat_minor": 0,
  "metadata": {
    "colab": {
      "name": "Python-Exercise-1.ipynb",
      "provenance": [],
      "authorship_tag": "ABX9TyOQAqmzKhxRb2fuBtaQAeUx",
      "include_colab_link": true
    },
    "kernelspec": {
      "name": "python3",
      "display_name": "Python 3"
    }
  },
  "cells": [
    {
      "cell_type": "markdown",
      "metadata": {
        "id": "view-in-github",
        "colab_type": "text"
      },
      "source": [
        "<a href=\"https://colab.research.google.com/github/Ajay9795cool/Python-Programming/blob/master/Python_Exercise_1.ipynb\" target=\"_parent\"><img src=\"https://colab.research.google.com/assets/colab-badge.svg\" alt=\"Open In Colab\"/></a>"
      ]
    },
    {
      "cell_type": "markdown",
      "metadata": {
        "id": "82_cjciXUalZ",
        "colab_type": "text"
      },
      "source": [
        "# Python Exercise 1"
      ]
    },
    {
      "cell_type": "markdown",
      "metadata": {
        "id": "fEP4oH3LUcVF",
        "colab_type": "text"
      },
      "source": [
        "## Question 1: Given a two integer numbers return their product and  if the product is greater than 1000, then return their sum\n",
        "\n",
        "Given:\n",
        "\n",
        "```\n",
        "number1 = 20\n",
        "number2 = 30\n",
        "```\n",
        "\n",
        "Expected Output:\n",
        "```\n",
        "The result is 600\n",
        "```\n",
        "\n",
        "Given:\n",
        "\n",
        "```\n",
        "number1 = 40\n",
        "number2 = 30\n",
        "```\n",
        "\n",
        "Expected Output:\n",
        "```\n",
        "The result is 70\n",
        "```"
      ]
    },
    {
      "cell_type": "code",
      "metadata": {
        "id": "SAxG7qAYVLHh",
        "colab_type": "code",
        "colab": {}
      },
      "source": [
        ""
      ],
      "execution_count": null,
      "outputs": []
    },
    {
      "cell_type": "markdown",
      "metadata": {
        "id": "4gbwwpMOVMH7",
        "colab_type": "text"
      },
      "source": [
        "## Question 2: Given a range of first 10 numbers, Iterate from start number to the end number and print the sum of the current number and previous number\n",
        "Expected Output:\n",
        "```\n",
        "Printing current and previous number sum in a given range(10)\n",
        "Current Number 0 Previous Number  0  Sum:  0\n",
        "Current Number 1 Previous Number  0  Sum:  1\n",
        "Current Number 2 Previous Number  1  Sum:  3\n",
        "Current Number 3 Previous Number  2  Sum:  5\n",
        "Current Number 4 Previous Number  3  Sum:  7\n",
        "Current Number 5 Previous Number  4  Sum:  9\n",
        "Current Number 6 Previous Number  5  Sum:  11\n",
        "Current Number 7 Previous Number  6  Sum:  13\n",
        "Current Number 8 Previous Number  7  Sum:  15\n",
        "Current Number 9 Previous Number  8  Sum:  17\n",
        "```\n",
        "\n"
      ]
    },
    {
      "cell_type": "code",
      "metadata": {
        "id": "8CNv9FUEVZ7Y",
        "colab_type": "code",
        "colab": {}
      },
      "source": [
        ""
      ],
      "execution_count": null,
      "outputs": []
    },
    {
      "cell_type": "markdown",
      "metadata": {
        "id": "v9tHMuUZVaCU",
        "colab_type": "text"
      },
      "source": [
        "## Question 3: Given a string, display only those characters which are present at an even index number.\n",
        "For example, if str = \"pynative\", then you should display ‘p’, ‘n’, ‘t’, ‘v’.\n",
        "\n",
        "Expected Output:\n",
        "\n",
        "```\n",
        "Orginal String is  pynative\n",
        "Printing only even index characters\n",
        "p\n",
        "n\n",
        "t\n",
        "v\n",
        "```\n",
        "\n"
      ]
    },
    {
      "cell_type": "code",
      "metadata": {
        "id": "TNnRvpzWVq1p",
        "colab_type": "code",
        "colab": {}
      },
      "source": [
        ""
      ],
      "execution_count": null,
      "outputs": []
    },
    {
      "cell_type": "markdown",
      "metadata": {
        "id": "DXLeFmYHVzlQ",
        "colab_type": "text"
      },
      "source": [
        "## Question 4: Given a string and an integer number n, remove characters from a string starting from zero up to n and return a new string\n",
        "\n",
        "For example, removeChars(\"pynative\", 4) so output must be tive. Note: n must be less than the length of the string.\n"
      ]
    },
    {
      "cell_type": "code",
      "metadata": {
        "id": "91WWi1-FV2Y3",
        "colab_type": "code",
        "colab": {}
      },
      "source": [
        ""
      ],
      "execution_count": null,
      "outputs": []
    },
    {
      "cell_type": "markdown",
      "metadata": {
        "id": "MRTz4xYxV40Q",
        "colab_type": "text"
      },
      "source": [
        "## Question 5: Given a list of numbers, return True if first and last number of a list is same\n",
        "\n",
        "Expected Output:\n",
        "\n",
        "```\n",
        "Given list is  [10, 20, 30, 40, 10]\n",
        "result is True\n",
        "Given list is  [10, 20, 30, 40, 50]\n",
        "result is False\n",
        "```\n",
        "\n"
      ]
    },
    {
      "cell_type": "code",
      "metadata": {
        "id": "m1CZoL7ZV9RG",
        "colab_type": "code",
        "colab": {}
      },
      "source": [
        ""
      ],
      "execution_count": null,
      "outputs": []
    },
    {
      "cell_type": "markdown",
      "metadata": {
        "id": "UqlOZNfAV8uP",
        "colab_type": "text"
      },
      "source": [
        "## Question 6: Given a list of numbers, Iterate it and print only those numbers which are divisible of 5\n",
        "Expected Output:\n",
        "\n",
        "```\n",
        "Given list is  [10, 20, 33, 46, 55]\n",
        "Divisible of 5 in a list\n",
        "10\n",
        "20\n",
        "55\n",
        "\n",
        "```\n",
        "\n"
      ]
    },
    {
      "cell_type": "code",
      "metadata": {
        "id": "Fduz1_toWFIV",
        "colab_type": "code",
        "colab": {}
      },
      "source": [
        ""
      ],
      "execution_count": null,
      "outputs": []
    },
    {
      "cell_type": "markdown",
      "metadata": {
        "id": "vksjdQAqWFNf",
        "colab_type": "text"
      },
      "source": [
        "## Question 7: Return the total count of sub-string “Emma” appears in the given string\n",
        "Given string is “Emma is good developer. Emma is a writer”\n",
        "\n",
        "Expected Output:\n",
        "\n",
        "```\n",
        "Emma appeared 2 times\n",
        "```\n",
        "\n"
      ]
    },
    {
      "cell_type": "code",
      "metadata": {
        "id": "_Q4Aw_3xWQPB",
        "colab_type": "code",
        "colab": {}
      },
      "source": [
        ""
      ],
      "execution_count": null,
      "outputs": []
    },
    {
      "cell_type": "markdown",
      "metadata": {
        "id": "2cZ3TLYiWQXT",
        "colab_type": "text"
      },
      "source": [
        "## Question 8: Print the following pattern\n",
        "\n",
        "\n",
        "```\n",
        "1 \n",
        "2 2 \n",
        "3 3 3 \n",
        "4 4 4 4 \n",
        "5 5 5 5 5\n",
        "```\n",
        "\n"
      ]
    },
    {
      "cell_type": "code",
      "metadata": {
        "id": "o3c4UCgTWToq",
        "colab_type": "code",
        "colab": {}
      },
      "source": [
        ""
      ],
      "execution_count": null,
      "outputs": []
    },
    {
      "cell_type": "markdown",
      "metadata": {
        "id": "uLYfeuC9WT8e",
        "colab_type": "text"
      },
      "source": [
        "## Question 9: Reverse a given number and return true if it is the same as the original number\n",
        "\n",
        "Expected Output:\n",
        "\n",
        "```\n",
        "original number 121\n",
        "The original and reverse number is the same\n",
        "\n",
        "original number 125\n",
        "The original and reverse number is not sam\n",
        "```\n",
        "\n"
      ]
    },
    {
      "cell_type": "code",
      "metadata": {
        "id": "LIcUkPbfWaBk",
        "colab_type": "code",
        "colab": {}
      },
      "source": [
        ""
      ],
      "execution_count": null,
      "outputs": []
    },
    {
      "cell_type": "markdown",
      "metadata": {
        "id": "7uJ-33YJWaGN",
        "colab_type": "text"
      },
      "source": [
        "## Question 10: Given a two list of numbers create a new list such that new list should contain only odd numbers from the first list and even numbers from the second list\n",
        "\n",
        "Expected Output:\n",
        "\n",
        "```\n",
        "First List  [10, 20, 23, 11, 17]\n",
        "Second List  [13, 43, 24, 36, 12]\n",
        "\n",
        "result List is [23, 11, 17, 24, 36, 12]\n",
        "```\n",
        "\n"
      ]
    },
    {
      "cell_type": "code",
      "metadata": {
        "id": "ekOxdJoCWigK",
        "colab_type": "code",
        "colab": {}
      },
      "source": [
        ""
      ],
      "execution_count": null,
      "outputs": []
    },
    {
      "cell_type": "markdown",
      "metadata": {
        "id": "TioZ3lDlWinH",
        "colab_type": "text"
      },
      "source": [
        "## Question 11: Write a code to extract each digit from an integer, in the reverse order\n",
        "\n",
        "For example, if the given int is 7536, the output shall be “6 3 5 7“, with a space separating the digits.\n",
        "\n",
        "\n"
      ]
    },
    {
      "cell_type": "code",
      "metadata": {
        "id": "JgeFVp4_WtN5",
        "colab_type": "code",
        "colab": {}
      },
      "source": [
        ""
      ],
      "execution_count": null,
      "outputs": []
    },
    {
      "cell_type": "markdown",
      "metadata": {
        "id": "OF7kq2fKWtSZ",
        "colab_type": "text"
      },
      "source": [
        "## Question 12: Print downward Half-Pyramid Pattern with Star (asterisk)\n",
        "\n",
        "```\n",
        "* * * * *  \n",
        "* * * *  \n",
        "* * *  \n",
        "* *  \n",
        "*\n",
        "```\n",
        "\n"
      ]
    },
    {
      "cell_type": "code",
      "metadata": {
        "id": "TNy2-qMjW4kl",
        "colab_type": "code",
        "colab": {}
      },
      "source": [
        ""
      ],
      "execution_count": null,
      "outputs": []
    },
    {
      "cell_type": "markdown",
      "metadata": {
        "id": "5N-X243KW3zS",
        "colab_type": "text"
      },
      "source": [
        "## Question 13: Write a function called exponent(base, exp) that returns an int value of base raised to the power of exp.\n",
        "Note here exp is a non-negative integer, and the base is an integer.\n",
        "\n",
        "Expected Output:\n",
        "\n",
        "Case 1:\n",
        "\n",
        "```\n",
        "base = 2\n",
        "exponent = 5\n",
        "\n",
        "2 raised to the power of 5 is: 32 i.e. (2 *2 * 2 *2 *2 = 32)\n",
        "```\n",
        "\n",
        "Case 2:\n",
        "\n",
        "```\n",
        "base = 5\n",
        "exponent = 4\n",
        "\n",
        "5 raised to the power of 4 is: 625 i.e. (5 *5 * 5 *5 = 625)\n",
        "```\n",
        "\n"
      ]
    }
  ]
}