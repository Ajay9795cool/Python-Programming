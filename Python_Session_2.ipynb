{
  "nbformat": 4,
  "nbformat_minor": 0,
  "metadata": {
    "colab": {
      "name": "Python-Session-2.ipynb",
      "provenance": [],
      "authorship_tag": "ABX9TyP/WFdMiLFP26NvM+cAp65O",
      "include_colab_link": true
    },
    "kernelspec": {
      "name": "python3",
      "display_name": "Python 3"
    }
  },
  "cells": [
    {
      "cell_type": "markdown",
      "metadata": {
        "id": "view-in-github",
        "colab_type": "text"
      },
      "source": [
        "<a href=\"https://colab.research.google.com/github/Ajay9795cool/Python-Programming/blob/master/Python_Session_2.ipynb\" target=\"_parent\"><img src=\"https://colab.research.google.com/assets/colab-badge.svg\" alt=\"Open In Colab\"/></a>"
      ]
    },
    {
      "cell_type": "markdown",
      "metadata": {
        "id": "FE_m4EFBU97r",
        "colab_type": "text"
      },
      "source": [
        "# String Formatting"
      ]
    },
    {
      "cell_type": "markdown",
      "metadata": {
        "id": "0UzmrhbYZISo",
        "colab_type": "text"
      },
      "source": [
        "## “New Style” String Formatting (str.format)\n",
        "\n",
        "This “new style” string formatting gets rid of the %-operator special syntax and makes the syntax for string formatting more regular. \n",
        "\n",
        "Formatting is now handled by calling .format() on a string object. You can use format() to do simple positional formatting:\n",
        "\n",
        "```\n",
        "'Hello, {}'.format(name)\n",
        "```\n",
        "The format() method takes the passed arguments, formats them, and places them in the string where the placeholders {} are:\n"
      ]
    },
    {
      "cell_type": "code",
      "metadata": {
        "id": "FvmPmvzTZZ7h",
        "colab_type": "code",
        "colab": {}
      },
      "source": [
        ""
      ],
      "execution_count": null,
      "outputs": []
    },
    {
      "cell_type": "markdown",
      "metadata": {
        "id": "gMZRZT-sZVPO",
        "colab_type": "text"
      },
      "source": [
        "Or, you can refer to your variable substitutions by name and use them in any order you want. This is quite a powerful feature as it allows for re-arranging the order of display without changing the arguments passed to format():\n",
        "\n",
        "```\n",
        "'Hey {name}, there is a 0x{errno:x} error!'.format(name=name, errno=errno)\n",
        "```\n",
        "\n"
      ]
    },
    {
      "cell_type": "code",
      "metadata": {
        "id": "YMVTX2dFZVmv",
        "colab_type": "code",
        "colab": {}
      },
      "source": [
        ""
      ],
      "execution_count": null,
      "outputs": []
    },
    {
      "cell_type": "markdown",
      "metadata": {
        "id": "vlaMqWJzgKqa",
        "colab_type": "text"
      },
      "source": [
        "You can use index numbers {0} to be sure the arguments are placed in the correct placeholders\n",
        "\n",
        "```\n",
        "quantity = 3\n",
        "itemno = 567\n",
        "price = 49.95\n",
        "myorder = \"I want to pay {2} dollars for {0} pieces of item {1}.\"\n",
        "print(myorder.format(quantity, itemno, price))\n",
        "```\n",
        "\n"
      ]
    },
    {
      "cell_type": "code",
      "metadata": {
        "id": "CvDSi56agi4k",
        "colab_type": "code",
        "colab": {}
      },
      "source": [
        ""
      ],
      "execution_count": null,
      "outputs": []
    },
    {
      "cell_type": "markdown",
      "metadata": {
        "id": "AEKPlHcJXqnN",
        "colab_type": "text"
      },
      "source": [
        "# Exercise - 1"
      ]
    },
    {
      "cell_type": "markdown",
      "metadata": {
        "id": "BFInVf1NaUsO",
        "colab_type": "text"
      },
      "source": [
        "You will need to write a format string which prints out the data using the following syntax: \n",
        "\n",
        "Hello My Name is **Name**. I wake up at **time** AM."
      ]
    },
    {
      "cell_type": "code",
      "metadata": {
        "id": "5aJdWi6NXqDx",
        "colab_type": "code",
        "colab": {}
      },
      "source": [
        "format_string = \"Hello\""
      ],
      "execution_count": null,
      "outputs": []
    },
    {
      "cell_type": "code",
      "metadata": {
        "id": "EiO8eHMCXFRT",
        "colab_type": "code",
        "colab": {}
      },
      "source": [
        "print()"
      ],
      "execution_count": null,
      "outputs": []
    },
    {
      "cell_type": "markdown",
      "metadata": {
        "id": "OSALRDjRaWEo",
        "colab_type": "text"
      },
      "source": [
        "# Basic String Operations"
      ]
    },
    {
      "cell_type": "markdown",
      "metadata": {
        "id": "DteFCe_PafaZ",
        "colab_type": "text"
      },
      "source": [
        "As you can see, the first thing you learned was printing a simple sentence. This sentence was stored by Python as a string. However, instead of immediately printing strings out, we will explore the various things you can do to them.\n",
        "\n",
        "## Length\n",
        "\n",
        "To get the length of a string, use the len() function.\n",
        "\n",
        "```\n",
        "astring = \"Hello world!\"\n",
        "print(len(astring))\n",
        "```\n",
        "Calculates including punctuation and spaces."
      ]
    },
    {
      "cell_type": "code",
      "metadata": {
        "id": "XTbkKL-Mct2q",
        "colab_type": "code",
        "colab": {}
      },
      "source": [
        ""
      ],
      "execution_count": null,
      "outputs": []
    },
    {
      "cell_type": "markdown",
      "metadata": {
        "id": "AN3-pT5tuld4",
        "colab_type": "text"
      },
      "source": [
        "\n",
        "## Index\n",
        "\n",
        "```\n",
        "print(astring.index(\"o\"))\n",
        "```\n",
        "That prints out 4, because the location of the first occurrence of the letter \"o\" is 4 characters away from the first character. Notice how there are actually two o's in the phrase - this method only recognizes the first.\n"
      ]
    },
    {
      "cell_type": "code",
      "metadata": {
        "id": "-fW5hBwTuuPz",
        "colab_type": "code",
        "colab": {}
      },
      "source": [
        ""
      ],
      "execution_count": null,
      "outputs": []
    },
    {
      "cell_type": "markdown",
      "metadata": {
        "id": "y45SggD4uyZ4",
        "colab_type": "text"
      },
      "source": [
        "But why didn't it print out 5? Isn't \"o\" the fifth character in the string? To make things more simple, Python (and most other programming languages) start things at 0 instead of 1. So the index of \"o\" is 4.\n",
        "\n",
        "## Count\n",
        "\n",
        "```\n",
        "print(astring.count(\"l\"))\n",
        "```\n",
        "This counts the number of l's in the string. Therefore, it should print 3.\n"
      ]
    },
    {
      "cell_type": "code",
      "metadata": {
        "id": "TBDELYP9vEum",
        "colab_type": "code",
        "colab": {}
      },
      "source": [
        ""
      ],
      "execution_count": null,
      "outputs": []
    },
    {
      "cell_type": "markdown",
      "metadata": {
        "id": "Up_vEcYLxlGM",
        "colab_type": "text"
      },
      "source": [
        "## String Slicing"
      ]
    },
    {
      "cell_type": "markdown",
      "metadata": {
        "id": "IdO-ZHaRvMyZ",
        "colab_type": "text"
      },
      "source": [
        "\n",
        "\n",
        "```\n",
        "print(astring[3:7])\n",
        "```\n",
        "This prints a slice of the string, starting at index 3, and ending at index 6. But why 6 and not 7? Again, most programming languages do this - it makes doing math inside those brackets easier.\n",
        "\n",
        "```\n",
        "print(astring[3])\n",
        "print(astring[3:])\n",
        "print(astring[:3])\n",
        "```\n",
        "\n",
        "If you just have one number in the brackets, it will give you the single character at that index. If you leave out the first number but keep the colon, it will give you a slice from the start to the number you left in. If you leave out the second number, it will give you a slice from the first number to the end.\n",
        "\n",
        "```\n",
        "print(astring[-3])\n",
        "print(astring[-3:3])\n",
        "\n",
        "```\n",
        "\n",
        "You can even put negative numbers inside the brackets. They are an easy way of starting at the end of the string instead of the beginning. This way, -3 means \"3rd character from the end\".\n"
      ]
    },
    {
      "cell_type": "code",
      "metadata": {
        "id": "hKwhOu07wJap",
        "colab_type": "code",
        "colab": {}
      },
      "source": [
        ""
      ],
      "execution_count": null,
      "outputs": []
    },
    {
      "cell_type": "markdown",
      "metadata": {
        "id": "rdbubdrDwJqR",
        "colab_type": "text"
      },
      "source": [
        "\n",
        "\n",
        "```\n",
        "print(astring[3:7:2])\n",
        "```\n",
        "This prints the characters of string from 3 to 7 skipping one character. This is extended slice syntax. The general form is [start:stop:step].\n",
        "\n",
        "```\n",
        "print(astring[2:7])\n",
        "print(astring[2:7:1])\n",
        "```\n",
        "Note that both of the above lines produce same output\n",
        "\n"
      ]
    },
    {
      "cell_type": "code",
      "metadata": {
        "id": "OqwDcN9IwUQo",
        "colab_type": "code",
        "colab": {}
      },
      "source": [
        ""
      ],
      "execution_count": null,
      "outputs": []
    },
    {
      "cell_type": "markdown",
      "metadata": {
        "id": "Z60S8NowwdM8",
        "colab_type": "text"
      },
      "source": [
        "There is no function like strrev in C to reverse a string. But with the above mentioned type of slice syntax you can easily reverse a string like this\n",
        "\n",
        "\n",
        "```\n",
        "print(astring[::-1])\n",
        "```\n",
        "\n"
      ]
    },
    {
      "cell_type": "code",
      "metadata": {
        "id": "GW2JdWszwkTG",
        "colab_type": "code",
        "colab": {}
      },
      "source": [
        ""
      ],
      "execution_count": null,
      "outputs": []
    },
    {
      "cell_type": "code",
      "metadata": {
        "id": "QJ2B-u1uxstX",
        "colab_type": "code",
        "colab": {}
      },
      "source": [
        ""
      ],
      "execution_count": null,
      "outputs": []
    },
    {
      "cell_type": "markdown",
      "metadata": {
        "id": "JasfD79Sxpso",
        "colab_type": "text"
      },
      "source": [
        "## Other basic string functions"
      ]
    },
    {
      "cell_type": "markdown",
      "metadata": {
        "id": "L04bML6fwkjb",
        "colab_type": "text"
      },
      "source": [
        "\n",
        "\n",
        "```\n",
        "print(astring.upper())\n",
        "print(astring.lower())\n",
        "```\n",
        "These make a new string with all letters converted to uppercase and lowercase, respectively.\n",
        "\n",
        "\n",
        "```\n",
        "print(astring.swapcase())\n",
        "```\n",
        "\n",
        "\n"
      ]
    },
    {
      "cell_type": "code",
      "metadata": {
        "id": "B7kdEoTDwopt",
        "colab_type": "code",
        "colab": {}
      },
      "source": [
        ""
      ],
      "execution_count": null,
      "outputs": []
    },
    {
      "cell_type": "markdown",
      "metadata": {
        "id": "PYZFN09xwo1X",
        "colab_type": "text"
      },
      "source": [
        "\n",
        "\n",
        "```\n",
        "print(astring.startswith(\"hello\"))\n",
        "print(astring.endswith(\"python\"))\n",
        "```\n",
        "This is used to determine whether the string starts with something or ends with something, respectively. The first one will print True, as the string starts with \"Hello\". The second one will print False, as the string certainly does not end with \"python\".\n"
      ]
    },
    {
      "cell_type": "code",
      "metadata": {
        "id": "Lwa4ivTYw-Q7",
        "colab_type": "code",
        "colab": {}
      },
      "source": [
        ""
      ],
      "execution_count": null,
      "outputs": []
    },
    {
      "cell_type": "markdown",
      "metadata": {
        "id": "nUj-2Qr7w-hb",
        "colab_type": "text"
      },
      "source": [
        "\n",
        "\n",
        "```\n",
        "astring = \"Hello world!\"\n",
        "afewwords = astring.split(\" \")\n",
        "```\n",
        "This splits the string into a bunch of strings grouped together in a list. Since this example splits at a space, the first item in the list will be \"Hello\", and the second will be \"world!\".\n"
      ]
    },
    {
      "cell_type": "markdown",
      "metadata": {
        "id": "QxRhsnKNzsHr",
        "colab_type": "text"
      },
      "source": [
        "# Excercise - 2"
      ]
    },
    {
      "cell_type": "markdown",
      "metadata": {
        "id": "eqtq7XmczuEZ",
        "colab_type": "text"
      },
      "source": [
        "\n",
        "Try to fix the code to print out the correct information by changing the print functions.\n",
        "\n"
      ]
    },
    {
      "cell_type": "code",
      "metadata": {
        "id": "wgP_Iv19xGx_",
        "colab_type": "code",
        "colab": {}
      },
      "source": [
        "s = \"Hello World!\"\n",
        "\n",
        "# Length of the string\n",
        "print()\n",
        "\n",
        "# First occurrence of \"a\" \n",
        "print()\n",
        "\n",
        "# Number of a's\n",
        "print()\n",
        "\n",
        "# Slicing the string into bits\n",
        "\n",
        "# The characters from Start to 5\n",
        "print() \n",
        "# The characters from 5 to 10\n",
        "print() \n",
        "# Just number 12\n",
        "print() \n",
        "# The characters with odd index are (0-based indexing)\n",
        "print() \n",
        "# The last five characters are (5th-from-last to end)\n",
        "\n",
        "# Convert everything to uppercase\n",
        "print()\n",
        "\n",
        "# Convert everything to lowercase\n",
        "print()\n",
        "\n",
        "# Check if string starts with \"hello\"\n",
        "\n",
        "\n",
        "# Check if string starts with \"world!\"\n",
        "\n",
        "# Split the string into three separate strings,\n",
        "# each containing only a word\n",
        "print()"
      ],
      "execution_count": null,
      "outputs": []
    },
    {
      "cell_type": "markdown",
      "metadata": {
        "id": "EzLbtQgm1M0Z",
        "colab_type": "text"
      },
      "source": [
        "# Conditions"
      ]
    },
    {
      "cell_type": "markdown",
      "metadata": {
        "id": "WRaBCBL11vsR",
        "colab_type": "text"
      },
      "source": [
        "Python supports the usual logical conditions from mathematics:\n",
        "\n",
        "* Equals: a == b\n",
        "* Not Equals: a != b\n",
        "* Less than: a < b\n",
        "* Less than or equal to: a <= b\n",
        "* Greater than: a > b\n",
        "* Greater than or equal to: a >= b\n",
        "\n",
        "Python uses boolean variables to evaluate conditions. The boolean values True and False are returned when an expression is compared or evaluated. For example:\n",
        "```\n",
        "x = 2\n",
        "print(x == 2) # prints out True\n",
        "print(x == 3) # prints out False\n",
        "print(x < 3) # prints out True\n",
        "```\n"
      ]
    },
    {
      "cell_type": "code",
      "metadata": {
        "id": "7Z0ORiEU4NPQ",
        "colab_type": "code",
        "colab": {}
      },
      "source": [
        ""
      ],
      "execution_count": null,
      "outputs": []
    },
    {
      "cell_type": "markdown",
      "metadata": {
        "id": "iGYmN-8q4No9",
        "colab_type": "text"
      },
      "source": [
        "Notice that variable assignment is done using a single equals operator \"=\", whereas comparison between two variables is done using the double equals operator \"==\". The \"not equals\" operator is marked as \"!=\".\n",
        "\n",
        "A statement is evaulated as true if one of the following is correct: 1. The \"True\" boolean variable is given, or calculated using an expression, such as an arithmetic comparison. 2. An object which is not considered \"empty\" is passed.\n",
        "\n",
        "Here are some examples for objects which are considered as empty: 1. An empty string: \"\" 2. An empty list: [] 3. The number zero: 0 4. The false boolean variable: False\n",
        "\n",
        "## Boolean operators\n",
        "The \"and\" and \"or\" boolean operators allow building complex boolean expressions, for example:\n",
        "\n",
        "```\n",
        "name = \"John\"\n",
        "age = 23\n",
        "if name == \"John\" and age == 23:\n",
        "    print(\"Your name is John, and you are also 23 years old.\")\n",
        "\n",
        "if name == \"John\" or name == \"Rick\":\n",
        "    print(\"Your name is either John or Rick.\")\n",
        "```"
      ]
    },
    {
      "cell_type": "code",
      "metadata": {
        "id": "XfLHjLm34mfq",
        "colab_type": "code",
        "colab": {}
      },
      "source": [
        ""
      ],
      "execution_count": null,
      "outputs": []
    },
    {
      "cell_type": "markdown",
      "metadata": {
        "id": "YHpEWHf34mpj",
        "colab_type": "text"
      },
      "source": [
        "## The \"in\" operator\n",
        "\n",
        "The \"in\" operator could be used to check if a specified object exists within an iterable object container, such as a list:\n",
        "\n",
        "```\n",
        "name = \"John\"\n",
        "if name in [\"John\", \"Rick\"]:\n",
        "    print(\"Your name is either John or Rick.\")\n",
        "```\n",
        "\n"
      ]
    },
    {
      "cell_type": "code",
      "metadata": {
        "id": "tTJiENND4r3N",
        "colab_type": "code",
        "colab": {}
      },
      "source": [
        ""
      ],
      "execution_count": null,
      "outputs": []
    },
    {
      "cell_type": "markdown",
      "metadata": {
        "id": "u7ouT7fz7hNc",
        "colab_type": "text"
      },
      "source": [
        "## The 'is' operator\n",
        "\n",
        "Unlike the double equals operator \"==\", the \"is\" operator does not match the values of the variables, but the instances themselves. For example:\n",
        "\n",
        "\n",
        "```\n",
        "x = [1,2,3]\n",
        "y = [1,2,3]\n",
        "print(x == y) # Prints out True\n",
        "print(x is y) # Prints out False\n",
        "```\n",
        "\n"
      ]
    },
    {
      "cell_type": "code",
      "metadata": {
        "id": "YXjGccpE7lRS",
        "colab_type": "code",
        "colab": {}
      },
      "source": [
        ""
      ],
      "execution_count": null,
      "outputs": []
    },
    {
      "cell_type": "markdown",
      "metadata": {
        "id": "vnsTMJ3Y7lc8",
        "colab_type": "text"
      },
      "source": [
        "## The \"not\" operator\n",
        "\n",
        "Using \"not\" before a boolean expression inverts it:\n",
        "\n",
        "\n",
        "```\n",
        "print(not False) # Prints out True\n",
        "print((not False) == (False)) # Prints out False\n",
        "```\n",
        "\n"
      ]
    },
    {
      "cell_type": "markdown",
      "metadata": {
        "id": "BtNcRrA1Nfle",
        "colab_type": "text"
      },
      "source": [
        "## if"
      ]
    },
    {
      "cell_type": "markdown",
      "metadata": {
        "id": "0Gt6ps033_Ez",
        "colab_type": "text"
      },
      "source": [
        "\n",
        "An \"if statement\" is written by using the if keyword.\n",
        "\n",
        "\n",
        "\n",
        "```\n",
        "a = 33\n",
        "b = 200\n",
        "if b > a:\n",
        "  print(\"b is greater than a\")\n",
        "```"
      ]
    },
    {
      "cell_type": "code",
      "metadata": {
        "id": "lMP9_-2916zZ",
        "colab_type": "code",
        "colab": {}
      },
      "source": [
        ""
      ],
      "execution_count": null,
      "outputs": []
    },
    {
      "cell_type": "markdown",
      "metadata": {
        "id": "EPd2tPgU168Q",
        "colab_type": "text"
      },
      "source": [
        "In this example we use two variables, a and b, which are used as part of the if statement to test whether b is greater than a. As a is 33, and b is 200, we know that 200 is greater than 33, and so we print to screen that \"b is greater than a\"."
      ]
    },
    {
      "cell_type": "markdown",
      "metadata": {
        "id": "kDBho8cV1-Cx",
        "colab_type": "text"
      },
      "source": [
        "Python relies on indentation (whitespace at the beginning of a line) to define scope in the code. Other programming languages often use curly-brackets for this purpose.\n",
        "\n",
        "```\n",
        "a = 33\n",
        "b = 200\n",
        "if b > a:\n",
        "print(\"b is greater than a\") # you will get an error\n",
        "```\n",
        "\n"
      ]
    },
    {
      "cell_type": "code",
      "metadata": {
        "id": "aFDpq5GI2C2X",
        "colab_type": "code",
        "colab": {}
      },
      "source": [
        ""
      ],
      "execution_count": null,
      "outputs": []
    },
    {
      "cell_type": "markdown",
      "metadata": {
        "id": "AqKbWtjI2DAe",
        "colab_type": "text"
      },
      "source": [
        "## elif\n",
        "\n",
        "The elif keyword is pythons way of saying \"if the previous conditions were not true, then try this condition\".\n",
        "\n",
        "```\n",
        "a = 33\n",
        "b = 33\n",
        "if b > a:\n",
        "  print(\"b is greater than a\")\n",
        "elif a == b:\n",
        "  print(\"a and b are equal\")\n",
        "```\n",
        "\n"
      ]
    },
    {
      "cell_type": "code",
      "metadata": {
        "id": "E3wBQ2I32IxV",
        "colab_type": "code",
        "colab": {}
      },
      "source": [
        ""
      ],
      "execution_count": null,
      "outputs": []
    },
    {
      "cell_type": "markdown",
      "metadata": {
        "id": "1d3ugP-G2I8Z",
        "colab_type": "text"
      },
      "source": [
        "In this example a is equal to b, so the first condition is not true, but the elif condition is true, so we print to screen that \"a and b are equal\".\n",
        "\n",
        "## else\n",
        "\n",
        "```\n",
        "a = 200\n",
        "b = 33\n",
        "if b > a:\n",
        "  print(\"b is greater than a\")\n",
        "elif a == b:\n",
        "  print(\"a and b are equal\")\n",
        "else:\n",
        "  print(\"a is greater than b\")\n",
        "```\n",
        "\n",
        "The else keyword catches anything which isn't caught by the preceding conditions."
      ]
    },
    {
      "cell_type": "code",
      "metadata": {
        "id": "JLH4P20O2RgS",
        "colab_type": "code",
        "colab": {}
      },
      "source": [
        ""
      ],
      "execution_count": null,
      "outputs": []
    },
    {
      "cell_type": "markdown",
      "metadata": {
        "id": "h2q6PjVM2RqY",
        "colab_type": "text"
      },
      "source": [
        "In this example a is greater than b, so the first condition is not true, also the elif condition is not true, so we go to the else condition and print to screen that \"a is greater than b\".\n",
        "\n",
        "You can also have an else without the elif:\n",
        "\n",
        "```\n",
        "a = 200\n",
        "b = 33\n",
        "if b > a:\n",
        "  print(\"b is greater than a\")\n",
        "else:\n",
        "  print(\"b is not greater than a\")\n",
        "```\n",
        "\n"
      ]
    },
    {
      "cell_type": "code",
      "metadata": {
        "id": "0RECvgdS2ZX3",
        "colab_type": "code",
        "colab": {}
      },
      "source": [
        ""
      ],
      "execution_count": null,
      "outputs": []
    },
    {
      "cell_type": "markdown",
      "metadata": {
        "id": "K0jqcqYj2Zjo",
        "colab_type": "text"
      },
      "source": [
        "## Short Hand If\n",
        "If you have only one statement to execute, you can put it on the same line as the if statement.\n",
        "\n",
        "```\n",
        "if a > b: print(\"a is greater than b\")\n",
        "```\n",
        "\n"
      ]
    },
    {
      "cell_type": "code",
      "metadata": {
        "id": "i0kw-FyE2cBH",
        "colab_type": "code",
        "colab": {}
      },
      "source": [
        ""
      ],
      "execution_count": null,
      "outputs": []
    },
    {
      "cell_type": "markdown",
      "metadata": {
        "id": "LV_TwTiV2cMV",
        "colab_type": "text"
      },
      "source": [
        "## Short Hand If ... Else\n",
        "If you have only one statement to execute, one for if, and one for else, you can put it all on the same line:\n",
        "\n",
        "```\n",
        "a = 2\n",
        "b = 330\n",
        "print(\"A\") if a > b else print(\"B\")\n",
        "```\n",
        "\n"
      ]
    },
    {
      "cell_type": "code",
      "metadata": {
        "id": "2Q9ZNeaJ2h66",
        "colab_type": "code",
        "colab": {}
      },
      "source": [
        ""
      ],
      "execution_count": null,
      "outputs": []
    },
    {
      "cell_type": "markdown",
      "metadata": {
        "id": "YXmJAB9Z2iDz",
        "colab_type": "text"
      },
      "source": [
        "This technique is known as Ternary Operators, or Conditional Expressions.\n",
        "\n",
        "You can also have multiple else statements on the same line:\n",
        "\n",
        "```\n",
        "a = 330\n",
        "b = 330\n",
        "print(\"A\") if a > b else print(\"=\") if a == b else print(\"B\")\n",
        "```\n",
        "\n",
        "One line if else statement, with 3 conditions:"
      ]
    },
    {
      "cell_type": "code",
      "metadata": {
        "id": "NKqpyE0B2sgU",
        "colab_type": "code",
        "colab": {}
      },
      "source": [
        ""
      ],
      "execution_count": null,
      "outputs": []
    },
    {
      "cell_type": "code",
      "metadata": {
        "id": "S0gC-BNR3M-F",
        "colab_type": "code",
        "colab": {}
      },
      "source": [
        ""
      ],
      "execution_count": null,
      "outputs": []
    },
    {
      "cell_type": "code",
      "metadata": {
        "id": "nIdr_H0t3ZNt",
        "colab_type": "code",
        "colab": {}
      },
      "source": [
        ""
      ],
      "execution_count": null,
      "outputs": []
    },
    {
      "cell_type": "markdown",
      "metadata": {
        "id": "-RUSu_3r3ZZO",
        "colab_type": "text"
      },
      "source": [
        "## Nested If\n",
        "\n",
        "You can have if statements inside if statements, this is called nested if statements.\n",
        "\n",
        "\n",
        "```\n",
        "x = 41\n",
        "\n",
        "if x > 10:\n",
        "  print(\"Above ten,\")\n",
        "  if x > 20:\n",
        "    print(\"and also above 20!\")\n",
        "  else:\n",
        "    print(\"but not above 20.\")\n",
        "```\n",
        "\n"
      ]
    },
    {
      "cell_type": "code",
      "metadata": {
        "id": "eKmqmUB33hvP",
        "colab_type": "code",
        "colab": {}
      },
      "source": [
        ""
      ],
      "execution_count": null,
      "outputs": []
    },
    {
      "cell_type": "markdown",
      "metadata": {
        "id": "DJfrII9c3h42",
        "colab_type": "text"
      },
      "source": [
        "## The pass Statement\n",
        "\n",
        "if statements cannot be empty, but if you for some reason have an if statement with no content, put in the pass statement to avoid getting an error.\n",
        "\n",
        "\n",
        "```\n",
        "a = 33\n",
        "b = 200\n",
        "\n",
        "if b > a:\n",
        "  pass\n",
        "else:\n",
        "  print(\"b is lesser than a\")\n",
        "```\n",
        "\n",
        "\n"
      ]
    },
    {
      "cell_type": "code",
      "metadata": {
        "id": "zlJdeoB83x76",
        "colab_type": "code",
        "colab": {}
      },
      "source": [
        ""
      ],
      "execution_count": null,
      "outputs": []
    },
    {
      "cell_type": "markdown",
      "metadata": {
        "id": "GSNa9TnR7zIJ",
        "colab_type": "text"
      },
      "source": [
        "# Excercise - 3"
      ]
    },
    {
      "cell_type": "markdown",
      "metadata": {
        "id": "tT6R4uL-71T2",
        "colab_type": "text"
      },
      "source": [
        "Change the variables in the first section, so that each condition resolves as True."
      ]
    },
    {
      "cell_type": "code",
      "metadata": {
        "id": "tb23AJDj72MO",
        "colab_type": "code",
        "colab": {}
      },
      "source": [
        "# change this code\n",
        "number = 10\n",
        "second_number = 10\n",
        "first_array = []\n",
        "second_array = [1,2,3]"
      ],
      "execution_count": null,
      "outputs": []
    },
    {
      "cell_type": "code",
      "metadata": {
        "id": "aWnIkSBI76vk",
        "colab_type": "code",
        "colab": {}
      },
      "source": [
        "## testing code\n",
        "if number > 15:\n",
        "    print(\"True\")\n",
        "\n",
        "if first_array:\n",
        "    print(\"True\")\n",
        "\n",
        "if len(second_array) == 2:\n",
        "    print(\"True\")\n",
        "\n",
        "if len(first_array) + len(second_array) == 5:\n",
        "    print(\"True\"))\n",
        "\n",
        "if first_array and first_array[0] == 1:\n",
        "    print(\"True\")\n",
        "\n",
        "if not second_number:\n",
        "    print(\"True\")"
      ],
      "execution_count": null,
      "outputs": []
    },
    {
      "cell_type": "markdown",
      "metadata": {
        "id": "lBH4PpdeHYd1",
        "colab_type": "text"
      },
      "source": [
        "# Loops"
      ]
    },
    {
      "cell_type": "markdown",
      "metadata": {
        "id": "HU9sjeIYHaJ_",
        "colab_type": "text"
      },
      "source": [
        "There are two types of loops in Python, for and while.\n",
        "\n",
        "## for loop\n",
        "\n",
        "The \"for\" loop\n",
        "For loops iterate over a given sequence. Here is an example:\n",
        "\n",
        "\n",
        "```\n",
        "primes = [2, 3, 5, 7]\n",
        "for prime in primes:\n",
        "    print(prime)\n",
        "```\n",
        "\n"
      ]
    },
    {
      "cell_type": "code",
      "metadata": {
        "id": "WtftVWNrHZjt",
        "colab_type": "code",
        "colab": {}
      },
      "source": [
        ""
      ],
      "execution_count": null,
      "outputs": []
    },
    {
      "cell_type": "markdown",
      "metadata": {
        "id": "WLsPnEwYHoYt",
        "colab_type": "text"
      },
      "source": [
        "For loops can iterate over a sequence of numbers using the \"range\" and \"xrange\" functions. The difference between range and xrange is that the range function returns a new list with numbers of that specified range, whereas xrange returns an iterator, which is more efficient. (Python 3 uses the range function, which acts like xrange). Note that the range function is zero based.\n",
        "\n",
        "\n",
        "\n",
        "```\n",
        "# Prints out the numbers 0,1,2,3,4\n",
        "for x in range(5):\n",
        "    print(x)\n",
        "\n",
        "# Prints out 3,4,5\n",
        "for x in range(3, 6):\n",
        "    print(x)\n",
        "\n",
        "# Prints out 3,5,7\n",
        "for x in range(3, 8, 2):\n",
        "    print(x)\n",
        "```\n",
        "\n"
      ]
    },
    {
      "cell_type": "code",
      "metadata": {
        "id": "mjIYO0C-HtZS",
        "colab_type": "code",
        "colab": {}
      },
      "source": [
        ""
      ],
      "execution_count": null,
      "outputs": []
    },
    {
      "cell_type": "markdown",
      "metadata": {
        "id": "uCgwaUYYHtlF",
        "colab_type": "text"
      },
      "source": [
        "## while loop\n",
        "\n",
        "While loops repeat as long as a certain boolean condition is met. For example:\n",
        "\n",
        "\n",
        "\n",
        "```\n",
        "# Prints out 0,1,2,3,4\n",
        "\n",
        "count = 0\n",
        "while count < 5:\n",
        "    print(count)\n",
        "    count += 1  # This is the same as count = count + 1\n",
        "```\n",
        "\n"
      ]
    },
    {
      "cell_type": "code",
      "metadata": {
        "id": "ldi2N1imHzbQ",
        "colab_type": "code",
        "colab": {}
      },
      "source": [
        ""
      ],
      "execution_count": null,
      "outputs": []
    },
    {
      "cell_type": "markdown",
      "metadata": {
        "id": "9y5gKXvfHzli",
        "colab_type": "text"
      },
      "source": [
        "## break and continue statements\n",
        "break is used to exit a for loop or a while loop, whereas continue is used to skip the current block, and return to the \"for\" or \"while\" statement. A few examples:\n",
        "\n",
        "\n",
        "\n",
        "```\n",
        "# Prints out 0,1,2,3,4\n",
        "\n",
        "count = 0\n",
        "while True:\n",
        "    print(count)\n",
        "    count += 1\n",
        "    if count >= 5:\n",
        "        break\n",
        "\n",
        "# Prints out only odd numbers - 1,3,5,7,9\n",
        "for x in range(10):\n",
        "    # Check if x is even\n",
        "    if x % 2 == 0:\n",
        "        continue\n",
        "    print(x)\n",
        "```\n",
        "\n"
      ]
    },
    {
      "cell_type": "code",
      "metadata": {
        "id": "K2-Nf2pTH5qg",
        "colab_type": "code",
        "colab": {}
      },
      "source": [
        ""
      ],
      "execution_count": null,
      "outputs": []
    },
    {
      "cell_type": "markdown",
      "metadata": {
        "id": "FpvE-CN4H7aq",
        "colab_type": "text"
      },
      "source": [
        "can we use \"else\" clause for loops?\n",
        "unlike languages like C,CPP.. we can use else for loops. When the loop condition of \"for\" or \"while\" statement fails then code part in \"else\" is executed. If break statement is executed inside for loop then the \"else\" part is skipped. Note that \"else\" part is executed even if there is a continue statement.\n",
        "\n",
        "Here are a few examples:\n",
        "\n"
      ]
    },
    {
      "cell_type": "code",
      "metadata": {
        "id": "w2Uduc7sH-Be",
        "colab_type": "code",
        "colab": {}
      },
      "source": [
        "# Prints out 0,1,2,3,4 and then it prints \"count value reached 5\"\n",
        "\n",
        "count=0\n",
        "while(count<5):\n",
        "    print(count)\n",
        "    count +=1\n",
        "else:\n",
        "    print(\"count value reached %d\" %(count))\n",
        "\n",
        "# Prints out 1,2,3,4\n",
        "for i in range(1, 10):\n",
        "    if(i%5==0):\n",
        "        break\n",
        "    print(i)\n",
        "else:\n",
        "    print(\"this is not printed because for loop is terminated because of break but not due to fail in condition\")"
      ],
      "execution_count": null,
      "outputs": []
    },
    {
      "cell_type": "markdown",
      "metadata": {
        "id": "lIsRTrFAIAsh",
        "colab_type": "text"
      },
      "source": [
        "# Excercise - 4\n"
      ]
    },
    {
      "cell_type": "markdown",
      "metadata": {
        "id": "1yu7Pms7IDDB",
        "colab_type": "text"
      },
      "source": [
        "Loop through and print out all even numbers from the numbers list in the same order they are received. Don't print any numbers that come after 237 in the sequence."
      ]
    },
    {
      "cell_type": "code",
      "metadata": {
        "id": "j_VSbzokIFzR",
        "colab_type": "code",
        "colab": {}
      },
      "source": [
        "numbers = [\n",
        "    951, 402, 984, 651, 360, 69, 408, 319, 601, 485, 980, 507, 725, 547, 544,\n",
        "    615, 83, 165, 141, 501, 263, 617, 865, 575, 219, 390, 984, 592, 236, 105, 942, 941,\n",
        "    386, 462, 47, 418, 907, 344, 236, 375, 823, 566, 597, 978, 328, 615, 953, 345,\n",
        "    399, 162, 758, 219, 918, 237, 412, 566, 826, 248, 866, 950, 626, 949, 687, 217,\n",
        "    815, 67, 104, 58, 512, 24, 892, 894, 767, 553, 81, 379, 843, 831, 445, 742, 717,\n",
        "    958, 609, 842, 451, 688, 753, 854, 685, 93, 857, 440, 380, 126, 721, 328, 753, 470,\n",
        "    743, 527\n",
        "]\n",
        "\n",
        "# your code goes here"
      ],
      "execution_count": null,
      "outputs": []
    }
  ]
}