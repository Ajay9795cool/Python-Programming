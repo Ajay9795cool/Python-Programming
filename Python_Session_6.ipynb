{
  "nbformat": 4,
  "nbformat_minor": 0,
  "metadata": {
    "colab": {
      "name": "Python_Session_6.ipynb",
      "provenance": [],
      "authorship_tag": "ABX9TyNOOJYKWTXkxMoyIcVSum+g",
      "include_colab_link": true
    },
    "kernelspec": {
      "name": "python3",
      "display_name": "Python 3"
    }
  },
  "cells": [
    {
      "cell_type": "markdown",
      "metadata": {
        "id": "view-in-github",
        "colab_type": "text"
      },
      "source": [
        "<a href=\"https://colab.research.google.com/github/Ajay9795cool/Python-Programming/blob/master/Python_Session_6.ipynb\" target=\"_parent\"><img src=\"https://colab.research.google.com/assets/colab-badge.svg\" alt=\"Open In Colab\"/></a>"
      ]
    },
    {
      "cell_type": "markdown",
      "metadata": {
        "id": "AVeF_uPVr2Ym",
        "colab_type": "text"
      },
      "source": [
        "# Code Introspection\n",
        "\n",
        "Code introspection is the ability to examine classes, functions and keywords to know what they are, what they do and what they know.\n",
        "\n",
        "Python provides several functions and utilities for code introspection.\n",
        "\n"
      ]
    },
    {
      "cell_type": "markdown",
      "metadata": {
        "id": "teUQKyqIr9au",
        "colab_type": "text"
      },
      "source": [
        "## help()\n",
        "\n",
        "Executes the built-in help system.\n",
        "\n",
        "The python help function is used to display the documentation of modules, functions, classes, keywords etc.\n",
        "\n",
        "\n",
        "```\n",
        "help([object])\n",
        "```\n",
        "\n"
      ]
    },
    {
      "cell_type": "code",
      "metadata": {
        "id": "yNHTijinsJo3",
        "colab_type": "code",
        "colab": {}
      },
      "source": [
        ""
      ],
      "execution_count": null,
      "outputs": []
    },
    {
      "cell_type": "markdown",
      "metadata": {
        "id": "og7o9gnZsdJF",
        "colab_type": "text"
      },
      "source": [
        "## dir()\n",
        "\n",
        "Returns a list of the specified object's properties and methods\n",
        "\n",
        "The dir() function returns all properties and methods of the specified object, without the values.\n",
        "\n",
        "This function will return all the properties and methods, even built-in properties which are default for all object.\n",
        "\n",
        "\n",
        "```\n",
        "dir(object)\n",
        "```"
      ]
    },
    {
      "cell_type": "code",
      "metadata": {
        "id": "gLQgoI-Xsk9t",
        "colab_type": "code",
        "colab": {}
      },
      "source": [
        ""
      ],
      "execution_count": null,
      "outputs": []
    },
    {
      "cell_type": "markdown",
      "metadata": {
        "id": "6Z6fhU-5r4nq",
        "colab_type": "text"
      },
      "source": [
        "## hasattr()\n",
        "\n",
        "Returns True if the specified object has the specified attribute (property/method)\n",
        "\n",
        "\n",
        "```\n",
        "hasattr(object, attribute) \n",
        "```\n",
        "Related Functions:\n",
        "\n",
        "* The delattr() function, to remove an attribute\n",
        "\n",
        "* The getattr() function, to get the value of an attribute\n",
        "\n",
        "* The setattr() function, to set the value of an attribute\n"
      ]
    },
    {
      "cell_type": "code",
      "metadata": {
        "id": "jvrp3Yal0Ynx",
        "colab_type": "code",
        "colab": {}
      },
      "source": [
        ""
      ],
      "execution_count": null,
      "outputs": []
    },
    {
      "cell_type": "markdown",
      "metadata": {
        "id": "D6EP6Iln1TAr",
        "colab_type": "text"
      },
      "source": [
        "## id()\n",
        "\n",
        "Returns the id of an object\n",
        "\n",
        "The id() function returns a unique id for the specified object.\n",
        "\n",
        "All objects in Python has its own unique id.\n",
        "\n",
        "The id is assigned to the object when it is created.\n",
        "\n",
        "The id is the object's memory address, and will be different for each time you run the program. (except for some object that has a constant unique id, like integers from -5 to 256)\n",
        "\n",
        "\n",
        "\n",
        "```\n",
        "id(object)\n",
        "```\n",
        "\n"
      ]
    },
    {
      "cell_type": "code",
      "metadata": {
        "id": "YMXhG2F61dLB",
        "colab_type": "code",
        "colab": {}
      },
      "source": [
        ""
      ],
      "execution_count": null,
      "outputs": []
    },
    {
      "cell_type": "markdown",
      "metadata": {
        "id": "GWGLgneV1iqh",
        "colab_type": "text"
      },
      "source": [
        "## type() \n",
        "\n",
        "Returns the type of an object\n",
        "\n",
        "```\n",
        "type(object, bases, dict) \n",
        "```\n",
        "\n",
        "* object(Required) - If only one parameter is specified, the type() function returns the type of this object\n",
        "* bases(Optional) - Specifies the base classes\n",
        "* dict(Optional) - Specifies the namespace with the definition for the class\n",
        "\n"
      ]
    },
    {
      "cell_type": "code",
      "metadata": {
        "id": "eeu7-KHz2Hr7",
        "colab_type": "code",
        "colab": {}
      },
      "source": [
        ""
      ],
      "execution_count": null,
      "outputs": []
    },
    {
      "cell_type": "markdown",
      "metadata": {
        "id": "U3SRXIDT2HyQ",
        "colab_type": "text"
      },
      "source": [
        "## Returns a readable version of an object"
      ]
    },
    {
      "cell_type": "markdown",
      "metadata": {
        "id": "h0etkFsm3Czr",
        "colab_type": "text"
      },
      "source": [
        "# Exercise\n",
        "\n",
        "Print a list of all attributes of the given Vehicle object."
      ]
    },
    {
      "cell_type": "code",
      "metadata": {
        "id": "lpKAJwk53H6s",
        "colab_type": "code",
        "colab": {}
      },
      "source": [
        "# Use the help function to see what each function does.\n",
        "# Delete this when you are done.\n",
        "help(dir)\n",
        "help(hasattr)\n",
        "help(id)\n",
        "\n",
        "# Define the Vehicle class.\n",
        "class Vehicle:\n",
        "    name = \"\"\n",
        "    kind = \"car\"\n",
        "    color = \"\"\n",
        "    value = 100.00\n",
        "    def description(self):\n",
        "        desc_str = \"%s is a %s %s worth $%.2f.\" % (self.name, self.color, self.kind, self.value)\n",
        "        return desc_str\n",
        "\n",
        "# Print a list of all attributes of the Vehicle class.\n",
        "# Your code goes here"
      ],
      "execution_count": null,
      "outputs": []
    },
    {
      "cell_type": "markdown",
      "metadata": {
        "id": "gXVmIrwN3Q4G",
        "colab_type": "text"
      },
      "source": [
        "# Exception Handling\n",
        "\n",
        "When programming, errors happen. It's just a fact of life. Perhaps the user gave bad input. Maybe a network resource was unavailable. Maybe the program ran out of memory. Or the programmer may have even made a mistake!\n",
        "\n",
        "Python's solution to errors are exceptions. You might have seen an exception before."
      ]
    },
    {
      "cell_type": "code",
      "metadata": {
        "id": "1HBf8s423xvh",
        "colab_type": "code",
        "colab": {}
      },
      "source": [
        "print(a)\n",
        "\n",
        "#error\n",
        "Traceback (most recent call last):\n",
        "  File \"<stdin>\", line 1, in <module>\n",
        "NameError: name 'a' is not defined\n",
        "</module></stdin>"
      ],
      "execution_count": null,
      "outputs": []
    },
    {
      "cell_type": "markdown",
      "metadata": {
        "id": "PUG85XwR31Wx",
        "colab_type": "text"
      },
      "source": [
        "Oops! Forgot to assign a value to the 'a' variable.\n",
        "\n",
        "But sometimes you don't want exceptions to completely stop the program. You might want to do something special when an exception is raised. This is done in a try/except block.\n",
        "\n",
        "Here's a trivial example: Suppose you're iterating over a list. You need to iterate over 20 numbers, but the list is made from user input, and might not have 20 numbers in it. After you reach the end of the list, you just want the rest of the numbers to be interpreted as a 0. Here's how you could do that:"
      ]
    },
    {
      "cell_type": "code",
      "metadata": {
        "id": "jpWeWhBA33hT",
        "colab_type": "code",
        "colab": {
          "base_uri": "https://localhost:8080/",
          "height": 492
        },
        "outputId": "b2380105-1f78-4265-870a-2a45aaf5e6fb"
      },
      "source": [
        "def do_stuff_with_number(n):\n",
        "    print(n)\n",
        "\n",
        "def catch_this():\n",
        "    the_list = (1, 2, 3, 4, 5)\n",
        "    count = 0\n",
        "    for i in range(7):\n",
        "        try:\n",
        "            count += 1\n",
        "            do_stuff_with_number(the_list[i])\n",
        "        except IndexError: # Raised when accessing a non-existing index of a list\n",
        "            do_stuff_with_number(0)\n",
        "\n",
        "    if count == 7:\n",
        "      try:\n",
        "        raise NameError('HiThere')\n",
        "      except NameError:\n",
        "        print('An exception flew by!')\n",
        "        raise\n",
        "\n",
        "catch_this()"
      ],
      "execution_count": 5,
      "outputs": [
        {
          "output_type": "stream",
          "text": [
            "1\n",
            "2\n",
            "3\n",
            "4\n",
            "5\n",
            "0\n",
            "0\n",
            "An exception flew by!\n"
          ],
          "name": "stdout"
        },
        {
          "output_type": "error",
          "ename": "NameError",
          "evalue": "ignored",
          "traceback": [
            "\u001b[0;31m---------------------------------------------------------------------------\u001b[0m",
            "\u001b[0;31mNameError\u001b[0m                                 Traceback (most recent call last)",
            "\u001b[0;32m<ipython-input-5-53bf58306c94>\u001b[0m in \u001b[0;36m<module>\u001b[0;34m()\u001b[0m\n\u001b[1;32m     19\u001b[0m         \u001b[0;32mraise\u001b[0m\u001b[0;34m\u001b[0m\u001b[0;34m\u001b[0m\u001b[0m\n\u001b[1;32m     20\u001b[0m \u001b[0;34m\u001b[0m\u001b[0m\n\u001b[0;32m---> 21\u001b[0;31m \u001b[0mcatch_this\u001b[0m\u001b[0;34m(\u001b[0m\u001b[0;34m)\u001b[0m\u001b[0;34m\u001b[0m\u001b[0;34m\u001b[0m\u001b[0m\n\u001b[0m",
            "\u001b[0;32m<ipython-input-5-53bf58306c94>\u001b[0m in \u001b[0;36mcatch_this\u001b[0;34m()\u001b[0m\n\u001b[1;32m     14\u001b[0m     \u001b[0;32mif\u001b[0m \u001b[0mcount\u001b[0m \u001b[0;34m==\u001b[0m \u001b[0;36m7\u001b[0m\u001b[0;34m:\u001b[0m\u001b[0;34m\u001b[0m\u001b[0;34m\u001b[0m\u001b[0m\n\u001b[1;32m     15\u001b[0m       \u001b[0;32mtry\u001b[0m\u001b[0;34m:\u001b[0m\u001b[0;34m\u001b[0m\u001b[0;34m\u001b[0m\u001b[0m\n\u001b[0;32m---> 16\u001b[0;31m         \u001b[0;32mraise\u001b[0m \u001b[0mNameError\u001b[0m\u001b[0;34m(\u001b[0m\u001b[0;34m'HiThere'\u001b[0m\u001b[0;34m)\u001b[0m\u001b[0;34m\u001b[0m\u001b[0;34m\u001b[0m\u001b[0m\n\u001b[0m\u001b[1;32m     17\u001b[0m       \u001b[0;32mexcept\u001b[0m \u001b[0mNameError\u001b[0m\u001b[0;34m:\u001b[0m\u001b[0;34m\u001b[0m\u001b[0;34m\u001b[0m\u001b[0m\n\u001b[1;32m     18\u001b[0m         \u001b[0mprint\u001b[0m\u001b[0;34m(\u001b[0m\u001b[0;34m'An exception flew by!'\u001b[0m\u001b[0;34m)\u001b[0m\u001b[0;34m\u001b[0m\u001b[0;34m\u001b[0m\u001b[0m\n",
            "\u001b[0;31mNameError\u001b[0m: HiThere"
          ]
        }
      ]
    },
    {
      "cell_type": "markdown",
      "metadata": {
        "id": "5azxyOU95dOz",
        "colab_type": "text"
      },
      "source": [
        "# Exercise\n",
        "Handle all the exception! Think back to the previous lessons to return the last name of the actor.\n"
      ]
    },
    {
      "cell_type": "code",
      "metadata": {
        "id": "OICrgAWx5kBt",
        "colab_type": "code",
        "colab": {}
      },
      "source": [
        "# Setup\n",
        "actor = {\"name\": \"John Cleese\", \"rank\": \"awesome\"}\n",
        "\n",
        "# Function to modify!!!\n",
        "def get_last_name(): \n",
        "    return actor[\"last_name\"]\n",
        "\n",
        "# Test code\n",
        "get_last_name()\n",
        "print(\"All exceptions caught! Good job!\")\n",
        "print(\"The actor's last name is %s\" % get_last_name())"
      ],
      "execution_count": null,
      "outputs": []
    }
  ]
}