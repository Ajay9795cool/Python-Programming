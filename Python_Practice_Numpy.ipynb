{
  "nbformat": 4,
  "nbformat_minor": 0,
  "metadata": {
    "colab": {
      "name": "Python_Practice_Numpy.ipynb",
      "provenance": [],
      "authorship_tag": "ABX9TyNhtmGGQqCICYANSeJlN8oZ",
      "include_colab_link": true
    },
    "kernelspec": {
      "name": "python3",
      "display_name": "Python 3"
    }
  },
  "cells": [
    {
      "cell_type": "markdown",
      "metadata": {
        "id": "view-in-github",
        "colab_type": "text"
      },
      "source": [
        "<a href=\"https://colab.research.google.com/github/Ajay9795cool/Python-Programming/blob/master/Python_Practice_Numpy.ipynb\" target=\"_parent\"><img src=\"https://colab.research.google.com/assets/colab-badge.svg\" alt=\"Open In Colab\"/></a>"
      ]
    },
    {
      "cell_type": "markdown",
      "metadata": {
        "id": "XgjH4mMz3h2Z",
        "colab_type": "text"
      },
      "source": [
        "## Python NumPy"
      ]
    },
    {
      "cell_type": "markdown",
      "metadata": {
        "id": "zx7g7OES3jL6",
        "colab_type": "text"
      },
      "source": [
        "## Question 1: Create a 4X2 integer array and Prints its attributes\n",
        "\n",
        "Note: The element must be a type of unsigned int16. And print the following Attributes: –\n",
        "\n",
        "* The shape of an array.\n",
        "* Array dimensions.\n",
        "* The Length of each element of the array in bytes.\n",
        "\n",
        "Expected Output:\n",
        "\n",
        "\n",
        "```\n",
        "Printing Array\n",
        "\n",
        "[[64392 31655]\n",
        " [32579     0]\n",
        " [49248   462]\n",
        " [    0     0]]\n",
        "\n",
        "\n",
        "Printing NumPy array Attributes\n",
        "\n",
        "1> Array Shape is:  (4, 2)\n",
        "2>. Array dimensions are  2\n",
        "3>. Length of each element of array in bytes is  2\n",
        "```\n",
        "\n",
        "\n"
      ]
    },
    {
      "cell_type": "code",
      "metadata": {
        "id": "P6kgYBYd30fv",
        "colab_type": "code",
        "colab": {}
      },
      "source": [
        "import numpy\n",
        "\n",
        "firstArray = numpy.empty([4,2], dtype = numpy.uint16) \n",
        "print(\"Printing Array\")\n",
        "print(firstArray)\n",
        "\n",
        "print(\"Printing numpy array Attributes\")\n",
        "print(\"1> Array Shape is: \", firstArray.shape)\n",
        "print(\"2>. Array dimensions are \", firstArray.ndim)\n",
        "print(\"3>. Length of each element of array in bytes is \", firstArray.itemsize)"
      ],
      "execution_count": null,
      "outputs": []
    },
    {
      "cell_type": "markdown",
      "metadata": {
        "id": "TLgmSb2A31PY",
        "colab_type": "text"
      },
      "source": [
        "## Question 2: Create a 5X2 integer array from a range between 100 to 200 such that the difference between each element is 10\n",
        "\n",
        "Expected Output:\n",
        "\n",
        "```\n",
        "Creating 5X2 array using numpy.arange\n",
        "[[100 110]\n",
        " [120 130]\n",
        " [140 150]\n",
        " [160 170]\n",
        " [180 190]]\n",
        "```\n",
        "\n"
      ]
    },
    {
      "cell_type": "code",
      "metadata": {
        "id": "dc-g3qjC33Dd",
        "colab_type": "code",
        "colab": {}
      },
      "source": [
        "import numpy\n",
        "\n",
        "print(\"Creating 5X2 array using numpy.arange\")\n",
        "sampleArray = numpy.arange(100, 200, 10)\n",
        "sampleArray = sampleArray.reshape(5,2)\n",
        "print (sampleArray)"
      ],
      "execution_count": null,
      "outputs": []
    },
    {
      "cell_type": "markdown",
      "metadata": {
        "id": "q5aHaT0T38Nh",
        "colab_type": "text"
      },
      "source": [
        "## Question 3: Following is the provided numPy array. return array of items in the third column from all rows\n",
        "\n",
        "```\n",
        "import numpy\n",
        "sampleArray = numpy.array([[11 ,22, 33], [44, 55, 66], [77, 88, 99]])\n",
        "\n",
        "```\n",
        "Expected Output:\n",
        "\n",
        "```\n",
        "Printing Input Array\n",
        "[[11 22 33]\n",
        " [44 55 66]\n",
        " [77 88 99]]\n",
        "\n",
        " Printing array of items in the third column from all rows\n",
        "[22 55 88]\n",
        "```\n",
        "\n"
      ]
    },
    {
      "cell_type": "code",
      "metadata": {
        "id": "n-H_Jyif4D1z",
        "colab_type": "code",
        "colab": {}
      },
      "source": [
        "import numpy\n",
        "\n",
        "sampleArray = numpy.array([[11 ,22, 33], [44, 55, 66], [77, 88, 99]]) \n",
        "print(\"Printing Input Array\")\n",
        "print(sampleArray)\n",
        "\n",
        "print(\"\\n Printing array of items in the third column from all rows\")\n",
        "newArray = sampleArray[...,1]\n",
        "print(newArray)"
      ],
      "execution_count": null,
      "outputs": []
    },
    {
      "cell_type": "markdown",
      "metadata": {
        "id": "9XOvwSWR4ETk",
        "colab_type": "text"
      },
      "source": [
        "## Question 4: Following is the given numpy array return array of odd rows and even columns\n",
        "\n",
        "```\n",
        "import numpy\n",
        "\n",
        "sampleArray = numpy.array([[3 ,6, 9, 12], [15 ,18, 21, 24], \n",
        "[27 ,30, 33, 36], [39 ,42, 45, 48], [51 ,54, 57, 60]])\n",
        "```\n",
        "Expected Output:\n",
        "\n",
        "```\n",
        "Printing Input Array\n",
        "[[ 3  6  9 12]\n",
        " [15 18 21 24]\n",
        " [27 30 33 36]\n",
        " [39 42 45 48]\n",
        " [51 54 57 60]]\n",
        "\n",
        " Printing array of odd rows and even columns\n",
        "[[ 6 12]\n",
        " [30 36]\n",
        " [54 60]]\n",
        "```\n",
        "\n"
      ]
    },
    {
      "cell_type": "code",
      "metadata": {
        "id": "-4BY5B_74Lvd",
        "colab_type": "code",
        "colab": {}
      },
      "source": [
        "import numpy\n",
        "\n",
        "sampleArray = numpy.array([[3 ,6, 9, 12], [15 ,18, 21, 24], \n",
        "[27 ,30, 33, 36], [39 ,42, 45, 48], [51 ,54, 57, 60]]) \n",
        "print(\"Printing Input Array\")\n",
        "print(sampleArray)\n",
        "\n",
        "print(\"\\n Printing array of odd rows and even columns\")\n",
        "newArray = sampleArray[::2, 1::2]\n",
        "print(newArray)"
      ],
      "execution_count": null,
      "outputs": []
    },
    {
      "cell_type": "markdown",
      "metadata": {
        "id": "0dA3Xi_84Nhl",
        "colab_type": "text"
      },
      "source": [
        "## Question 5: Add the following two NumPy arrays and Modify a result array by calculating the square of each element\n",
        "\n",
        "```\n",
        "import numpy\n",
        "\n",
        "arrayOne = numpy.array([[5, 6, 9], [21 ,18, 27]])\n",
        "arrayTwo = numpy.array([[15 ,33, 24], [4 ,7, 1]])\n",
        "```\n",
        "\n",
        "Expected Output:\n",
        "\n",
        "\n",
        "\n",
        "```\n",
        "addition of two arrays is \n",
        "\n",
        "[[20 39 33]\n",
        " [25 25 28]]\n",
        "\n",
        "Result array after calculating the square root of all elements\n",
        "\n",
        "[[ 400 1521 1089]\n",
        " [ 625  625  784]]\n",
        "```\n",
        "\n"
      ]
    },
    {
      "cell_type": "code",
      "metadata": {
        "id": "i-LWOwDL4S3B",
        "colab_type": "code",
        "colab": {}
      },
      "source": [
        "import numpy\n",
        "\n",
        "arrayOne = numpy.array([[5, 6, 9], [21 ,18, 27]])\n",
        "arrayTwo = numpy.array([[15 ,33, 24], [4 ,7, 1]])\n",
        "\n",
        "resultArray  = arrayOne + arrayTwo\n",
        "print(\"addition of two arrays is \\n\")\n",
        "print(resultArray)\n",
        "\n",
        "for num in numpy.nditer(resultArray, op_flags = ['readwrite']):\n",
        "   num[...] = num*num\n",
        "print(\"\\nResult array after calculating the square root of all elements\\n\")\n",
        "print(resultArray)"
      ],
      "execution_count": null,
      "outputs": []
    },
    {
      "cell_type": "markdown",
      "metadata": {
        "id": "Wj0kLPcx4Ux5",
        "colab_type": "text"
      },
      "source": [
        "## Question 6: Split the array into four equal-sized sub-arrays\n",
        "\n",
        "Note: Create an 8X3 integer array from a range between 10 to 34 such that the difference between each element is 1 and then Split the array into four equal-sized sub-arrays.\n",
        "\n",
        "Expected Output:\n",
        "```\n",
        "Creating 8X3 array using numpy.arange\n",
        "[[10 11 12]\n",
        " [13 14 15]\n",
        " [16 17 18]\n",
        " [19 20 21]\n",
        " [22 23 24]\n",
        " [25 26 27]\n",
        " [28 29 30]\n",
        " [31 32 33]]\n",
        "\n",
        "Dividing 8X3 array into 4 sub array\n",
        "\n",
        "[array([[10, 11, 12],[13, 14, 15]]), \n",
        "array([[16, 17, 18],[19, 20, 21]]), \n",
        "array([[22, 23, 24],[25, 26, 27]]), \n",
        "array([[28, 29, 30],[31, 32, 33]])]\n",
        "```\n",
        "\n"
      ]
    },
    {
      "cell_type": "code",
      "metadata": {
        "id": "Fh4LG_dT4ZpJ",
        "colab_type": "code",
        "colab": {}
      },
      "source": [
        "import numpy\n",
        "\n",
        "print(\"Creating 8X3 array using numpy.arange\")\n",
        "sampleArray = numpy.arange(10, 34, 1)\n",
        "sampleArray = sampleArray.reshape(8,3)\n",
        "print (sampleArray)\n",
        "\n",
        "print(\"\\nDividing 8X3 array into 4 sub array\\n\")\n",
        "subArrays = numpy.split(sampleArray, 4) \n",
        "print(subArrays)"
      ],
      "execution_count": null,
      "outputs": []
    },
    {
      "cell_type": "markdown",
      "metadata": {
        "id": "mGZf0iZ24Pia",
        "colab_type": "text"
      },
      "source": [
        "## Question 7; Sort following NumPy array\n",
        "\n",
        "* 7.1- by the second row and\n",
        "* 7.2-by the second column\n",
        "\n",
        "```\n",
        "import numpy\n",
        "sampleArray = numpy.array([[34,43,73],[82,22,12],[53,94,66]])\n",
        "```\n",
        "\n",
        "Expected Output:\n",
        "\n",
        "```\n",
        "Printing Original array\n",
        "[[34 43 73]\n",
        " [82 22 12]\n",
        " [53 94 66]]\n",
        "\n",
        "Sorting Original array by secoond row\n",
        "[[73 43 34]\n",
        " [12 22 82]\n",
        " [66 94 53]]\n",
        "\n",
        "Sorting Original array by secoond column\n",
        "[[82 22 12]\n",
        " [34 43 73]\n",
        " [53 94 66]]\n",
        "```\n",
        "\n"
      ]
    },
    {
      "cell_type": "code",
      "metadata": {
        "id": "gwUrTnY04kBr",
        "colab_type": "code",
        "colab": {}
      },
      "source": [
        "import numpy\n",
        "\n",
        "print(\"Printing Original array\")\n",
        "sampleArray = numpy.array([[34,43,73],[82,22,12],[53,94,66]]) \n",
        "print (sampleArray)\n",
        "\n",
        "sortArrayByRow = sampleArray[:,sampleArray[1,:].argsort()]\n",
        "print(\"Sorting Original array by secoond row\")\n",
        "print(sortArrayByRow)\n",
        "\n",
        "print(\"Sorting Original array by secoond column\")\n",
        "sortArrayByColumn = sampleArray[sampleArray[:,1].argsort()]\n",
        "print(sortArrayByColumn)"
      ],
      "execution_count": null,
      "outputs": []
    },
    {
      "cell_type": "markdown",
      "metadata": {
        "id": "N8OEHTAL4nrp",
        "colab_type": "text"
      },
      "source": [
        "## Question 8: Following is the 2-D array. Print max from axis 0 and min from axis 1\n",
        "\n",
        "```\n",
        "import numpy\n",
        "sampleArray = numpy.array([[34,43,73],[82,22,12],[53,94,66]])\n",
        "```\n",
        "\n",
        "Expected Output:\n",
        "\n",
        "```\n",
        "Printing Original array\n",
        "[[34 43 73]\n",
        " [82 22 12]\n",
        " [53 94 66]]\n",
        "Printing amin Of Axis 1\n",
        "[34 12 53]\n",
        "Printing amax Of Axis 0\n",
        "[82 94 73]\n",
        "```\n",
        "\n"
      ]
    },
    {
      "cell_type": "code",
      "metadata": {
        "id": "Awf_g09v4u5H",
        "colab_type": "code",
        "colab": {}
      },
      "source": [
        "import numpy\n",
        "\n",
        "print(\"Printing Original array\")\n",
        "sampleArray = numpy.array([[34,43,73],[82,22,12],[53,94,66]]) \n",
        "print (sampleArray)\n",
        "\n",
        "\n",
        "minOfAxisOne = numpy.amin(sampleArray, 1) \n",
        "print(\"Printing amin Of Axis 1\")\n",
        "print(minOfAxisOne)\n",
        "\n",
        "maxOfAxisOne = numpy.amax(sampleArray, 0) \n",
        "print(\"Printing amax Of Axis 0\")\n",
        "print(maxOfAxisOne)"
      ],
      "execution_count": null,
      "outputs": []
    },
    {
      "cell_type": "markdown",
      "metadata": {
        "id": "idfOfeyS4zFN",
        "colab_type": "text"
      },
      "source": [
        "## Question 9: Following is the input NumPy array delete column two and insert following new column in its place.\n",
        "\n",
        "\n",
        "\n",
        "```\n",
        "import numpy\n",
        "sampleArray = numpy.array([[34,43,73],[82,22,12],[53,94,66]]) \n",
        "\n",
        "newColumn = numpy.array([[10,10,10]])\n",
        "```\n",
        "\n",
        "\n",
        "\n",
        "Expected Output:\n",
        "\n",
        "\n",
        "```\n",
        "\n",
        "Printing Original array\n",
        "[[34 43 73]\n",
        " [82 22 12]\n",
        " [53 94 66]]\n",
        "\n",
        "Array after deleting column 2 on axis 1\n",
        "\n",
        "[[34 73]\n",
        " [82 12]\n",
        " [53 66]]\n",
        "Array after inserting column 2 on axis 1\n",
        "\n",
        "[[34 10 73]\n",
        " [82 10 12]\n",
        " [53 10 66]]\n",
        "```\n",
        "\n"
      ]
    },
    {
      "cell_type": "code",
      "metadata": {
        "id": "i8XkHAfs42Oj",
        "colab_type": "code",
        "colab": {}
      },
      "source": [
        "import numpy\n",
        "\n",
        "print(\"Printing Original array\")\n",
        "sampleArray = numpy.array([[34,43,73],[82,22,12],[53,94,66]]) \n",
        "print (sampleArray)\n",
        "\n",
        "print(\"Array after deleting column 2 on axis 1\")\n",
        "sampleArray = numpy.delete(sampleArray , 1, axis = 1) \n",
        "print (sampleArray)\n",
        "\n",
        "arr = numpy.array([[10,10,10]])\n",
        "\n",
        "print(\"Array after inserting column 2 on axis 1\")\n",
        "sampleArray = numpy.insert(sampleArray , 1, arr, axis = 1) \n",
        "print (sampleArray)"
      ],
      "execution_count": null,
      "outputs": []
    }
  ]
}