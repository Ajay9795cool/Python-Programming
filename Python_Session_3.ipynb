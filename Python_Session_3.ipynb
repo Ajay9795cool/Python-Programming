{
  "nbformat": 4,
  "nbformat_minor": 0,
  "metadata": {
    "colab": {
      "name": "Python_Session_3",
      "provenance": [],
      "authorship_tag": "ABX9TyOeB7QberpYDAXn129FG3r2",
      "include_colab_link": true
    },
    "kernelspec": {
      "name": "python3",
      "display_name": "Python 3"
    }
  },
  "cells": [
    {
      "cell_type": "markdown",
      "metadata": {
        "id": "view-in-github",
        "colab_type": "text"
      },
      "source": [
        "<a href=\"https://colab.research.google.com/github/Ajay9795cool/Python-Programming/blob/master/Python_Session_3.ipynb\" target=\"_parent\"><img src=\"https://colab.research.google.com/assets/colab-badge.svg\" alt=\"Open In Colab\"/></a>"
      ]
    },
    {
      "cell_type": "markdown",
      "metadata": {
        "id": "arhvY6jeX6YJ",
        "colab_type": "text"
      },
      "source": [
        "# Functions"
      ]
    },
    {
      "cell_type": "markdown",
      "metadata": {
        "id": "bU_uD8zYX8ki",
        "colab_type": "text"
      },
      "source": [
        "## What are Functions?\n",
        "Functions are a convenient way to divide your code into useful blocks, allowing us to order our code, make it more readable, reuse it and save some time. Also functions are a key way to define interfaces so programmers can share their code.\n",
        "\n",
        "## How do you write functions in Python?\n",
        "As we have seen on previous tutorials, Python makes use of blocks.\n",
        "\n",
        "A block is a area of code of written in the format of:\n",
        "\n",
        "```\n",
        "block_head:\n",
        "    1st block line\n",
        "    2nd block line\n",
        "    ...\n",
        "```\n",
        "\n",
        "Where a block line is more Python code (even another block), and the block head is of the following format: block_keyword block_name(argument1,argument2, ...) Block keywords you already know are \"if\", \"for\", and \"while\".\n",
        "\n",
        "Functions in python are defined using the block keyword \"def\", followed with the function's name as the block's name. For example:\n",
        "\n",
        "\n",
        "```\n",
        "def my_function():\n",
        "    print(\"Hello From My Function!\")\n",
        "```\n",
        "\n",
        "\n",
        "\n"
      ]
    },
    {
      "cell_type": "code",
      "metadata": {
        "id": "oF2zBKH9YKUJ",
        "colab_type": "code",
        "colab": {}
      },
      "source": [
        ""
      ],
      "execution_count": null,
      "outputs": []
    },
    {
      "cell_type": "markdown",
      "metadata": {
        "id": "Oikuzw8iYK2j",
        "colab_type": "text"
      },
      "source": [
        "Functions may also receive arguments (variables passed from the caller to the function). For example:\n",
        "\n",
        "```\n",
        "def my_function_with_args(username, greeting):\n",
        "    print(\"Hello, {} , From My Function!, I wish you {}\".format(username, greeting))\n",
        "```\n",
        "\n"
      ]
    },
    {
      "cell_type": "code",
      "metadata": {
        "id": "y7JfBV6sYZfT",
        "colab_type": "code",
        "colab": {}
      },
      "source": [
        ""
      ],
      "execution_count": null,
      "outputs": []
    },
    {
      "cell_type": "markdown",
      "metadata": {
        "id": "_Z2NhWc1YZyL",
        "colab_type": "text"
      },
      "source": [
        "Functions may return a value to the caller, using the keyword- 'return' . For example:\n",
        "\n",
        "\n",
        "```\n",
        "def sum_two_numbers(a, b):\n",
        "    return a + b\n",
        "```\n",
        "\n"
      ]
    },
    {
      "cell_type": "code",
      "metadata": {
        "id": "uDW8HZQmYepZ",
        "colab_type": "code",
        "colab": {}
      },
      "source": [
        ""
      ],
      "execution_count": null,
      "outputs": []
    },
    {
      "cell_type": "markdown",
      "metadata": {
        "id": "eT0K72a6YfOC",
        "colab_type": "text"
      },
      "source": [
        "## How do you call functions in Python?\n",
        "Simply write the function's name followed by (), placing any required arguments within the brackets. For example, lets call the functions written above (in the previous example):\n",
        "\n",
        "\n"
      ]
    },
    {
      "cell_type": "code",
      "metadata": {
        "id": "NUmajH1ZYrSS",
        "colab_type": "code",
        "colab": {}
      },
      "source": [
        "# Define our 3 functions\n",
        "def my_function():\n",
        "    print(\"Hello From My Function!\")\n",
        "\n",
        "def my_function_with_args(username, greeting):\n",
        "    print(\"Hello, %s , From My Function!, I wish you %s\"%(username, greeting))\n",
        "\n",
        "def sum_two_numbers(a, b):\n",
        "    return a + b\n",
        "\n",
        "# print(a simple greeting)\n",
        "my_function()\n",
        "\n",
        "#prints - \"Hello, John Doe, From My Function!, I wish you a great year!\"\n",
        "my_function_with_args(\"John Doe\", \"a great year!\")\n",
        "\n",
        "# after this line x will hold the value 3!\n",
        "x = sum_two_numbers(1,2)"
      ],
      "execution_count": null,
      "outputs": []
    },
    {
      "cell_type": "markdown",
      "metadata": {
        "id": "O5z3Dd4YYsJd",
        "colab_type": "text"
      },
      "source": [
        "# Exercise"
      ]
    },
    {
      "cell_type": "markdown",
      "metadata": {
        "id": "9XEnkWGkYyzz",
        "colab_type": "text"
      },
      "source": [
        "In this exercise you'll use an existing function, and while adding your own to create a fully functional program.\n",
        "\n",
        "Add a function named list_benefits() that returns the following list of strings: \"More organized code\", \"More readable code\", \"Easier code reuse\", \"Allowing programmers to share and connect code together\"\n",
        "\n",
        "Add a function named build_sentence(info) which receives a single argument containing a string and returns a sentence starting with the given string and ending with the string \" is a benefit of functions!\"\n",
        "\n",
        "Run and see all the functions work together!"
      ]
    },
    {
      "cell_type": "code",
      "metadata": {
        "id": "d1BlqanIY1Ul",
        "colab_type": "code",
        "colab": {}
      },
      "source": [
        "# Modify this function to return a list of strings as defined above\n",
        "def list_benefits():\n",
        "    pass\n",
        "\n",
        "# Modify this function to concatenate to each benefit - \" is a benefit of functions!\"\n",
        "def build_sentence(benefit):\n",
        "    pass\n",
        "\n",
        "def name_the_benefits_of_functions():\n",
        "    list_of_benefits = list_benefits()\n",
        "    for benefit in list_of_benefits:\n",
        "        print(build_sentence(benefit))\n",
        "\n",
        "name_the_benefits_of_functions()"
      ],
      "execution_count": null,
      "outputs": []
    },
    {
      "cell_type": "markdown",
      "metadata": {
        "id": "3Xd1h_tkZEXB",
        "colab_type": "text"
      },
      "source": [
        "# Classes and Objects"
      ]
    },
    {
      "cell_type": "markdown",
      "metadata": {
        "id": "x-_ezxiwd1oO",
        "colab_type": "text"
      },
      "source": [
        "Objects are an encapsulation of variables and functions into a single entity. Objects get their variables and functions from classes. Classes are essentially a template to create your objects.\n",
        "\n",
        "A very basic class would look something like this:\n",
        "\n",
        "```\n",
        "class MyClass:\n",
        "    variable = \"blah\"\n",
        "\n",
        "    def function(self):\n",
        "        print(\"This is a message inside the class.\")\n",
        "```\n",
        "We'll explain why you have to include that \"self\" as a parameter a little bit later. First, to assign the above class(template) to an object you would do the following:\n",
        "\n",
        "\n",
        "\n",
        "\n"
      ]
    },
    {
      "cell_type": "code",
      "metadata": {
        "id": "yieObmRAZDvZ",
        "colab_type": "code",
        "colab": {}
      },
      "source": [
        "class MyClass:\n",
        "    variable = \"blah\"\n",
        "\n",
        "    def function(self):\n",
        "        print(\"This is a message inside the class.\")\n",
        "\n",
        "myobjectx = MyClass()"
      ],
      "execution_count": null,
      "outputs": []
    },
    {
      "cell_type": "markdown",
      "metadata": {
        "id": "1ZUIcl0veBCu",
        "colab_type": "text"
      },
      "source": [
        "Now the variable \"myobjectx\" holds an object of the class \"MyClass\" that contains the variable and the function defined within the class called \"MyClass\".\n",
        "\n",
        "## Accessing Object Variables\n",
        "\n",
        "To access the variable inside of the newly created object \"myobjectx\" you would do the following:\n",
        "\n",
        "```\n",
        "myobjectx.variable\n",
        "```\n",
        "\n",
        "So for instance the below would output the string \"blah\":"
      ]
    },
    {
      "cell_type": "code",
      "metadata": {
        "id": "VTRGKNPjeAlO",
        "colab_type": "code",
        "colab": {}
      },
      "source": [
        "print(myobjectx.variable)"
      ],
      "execution_count": null,
      "outputs": []
    },
    {
      "cell_type": "markdown",
      "metadata": {
        "id": "2kWxmbm4eWIB",
        "colab_type": "text"
      },
      "source": [
        "You can create multiple different objects that are of the same class(have the same variables and functions defined). However, each object contains independent copies of the variables defined in the class. For instance, if we were to define another object with the \"MyClass\" class and then change the string in the variable above:"
      ]
    },
    {
      "cell_type": "code",
      "metadata": {
        "id": "FNmENQKYeYv0",
        "colab_type": "code",
        "colab": {}
      },
      "source": [
        "class MyClass:\n",
        "    variable = \"blah\"\n",
        "\n",
        "    def function(self):\n",
        "        print(\"This is a message inside the class.\")\n",
        "\n",
        "myobjectx = MyClass()\n",
        "myobjecty = MyClass()\n",
        "\n",
        "myobjecty.variable = \"yackity\"\n",
        "\n",
        "# Then print out both values\n",
        "print(myobjectx.variable)\n",
        "print(myobjecty.variable)"
      ],
      "execution_count": null,
      "outputs": []
    },
    {
      "cell_type": "markdown",
      "metadata": {
        "id": "GuoRKoNxea87",
        "colab_type": "text"
      },
      "source": [
        "## Accessing Object Functions\n",
        "To access a function inside of an object you use notation similar to accessing a variable:\n",
        "\n",
        "\n",
        "```\n",
        "myobjectx.function()\n",
        "```\n",
        "\n"
      ]
    },
    {
      "cell_type": "code",
      "metadata": {
        "id": "_gwMbYwfffdM",
        "colab_type": "code",
        "colab": {}
      },
      "source": [
        ""
      ],
      "execution_count": null,
      "outputs": []
    },
    {
      "cell_type": "markdown",
      "metadata": {
        "id": "VPoPkH7WeLhX",
        "colab_type": "text"
      },
      "source": [
        "The above would print out the message, \"This is a message inside the class.\""
      ]
    },
    {
      "cell_type": "markdown",
      "metadata": {
        "id": "qW7olFcifgw8",
        "colab_type": "text"
      },
      "source": [
        "# Exercise\n"
      ]
    },
    {
      "cell_type": "markdown",
      "metadata": {
        "id": "07PjYb05fj3B",
        "colab_type": "text"
      },
      "source": [
        "We have a class defined for vehicles. Create two new vehicles called car1 and car2. Set car1 to be a red convertible worth 60000 USD with a name of Fer, and car2 to be a blue van named Jump worth 10000 USD"
      ]
    },
    {
      "cell_type": "code",
      "metadata": {
        "id": "hXlZrvkVfmpM",
        "colab_type": "code",
        "colab": {}
      },
      "source": [
        "# define the Vehicle class\n",
        "class Vehicle:\n",
        "    name = \"\"\n",
        "    kind = \"car\"\n",
        "    color = \"\"\n",
        "    value = 100.00\n",
        "    def description(self):\n",
        "        desc_str = \"{} is a {} {} worth {}.\" % (self.name, self.color, self.kind, self.value)\n",
        "        return desc_str\n",
        "# your code goes here\n"
      ],
      "execution_count": null,
      "outputs": []
    },
    {
      "cell_type": "code",
      "metadata": {
        "id": "OlB5F-ypgsvt",
        "colab_type": "code",
        "colab": {}
      },
      "source": [
        "# test code\n",
        "print(car1.description())\n",
        "print(car2.description())"
      ],
      "execution_count": null,
      "outputs": []
    }
  ]
}