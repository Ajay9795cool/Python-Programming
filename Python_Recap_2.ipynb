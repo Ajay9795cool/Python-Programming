{
  "nbformat": 4,
  "nbformat_minor": 0,
  "metadata": {
    "colab": {
      "name": "Python-Recap-2.ipynb",
      "provenance": [],
      "authorship_tag": "ABX9TyNPz1VYgvzNQFYaY6tQ00oS",
      "include_colab_link": true
    },
    "kernelspec": {
      "name": "python3",
      "display_name": "Python 3"
    }
  },
  "cells": [
    {
      "cell_type": "markdown",
      "metadata": {
        "id": "view-in-github",
        "colab_type": "text"
      },
      "source": [
        "<a href=\"https://colab.research.google.com/github/Ajay9795cool/Python-Programming/blob/master/Python_Recap_2.ipynb\" target=\"_parent\"><img src=\"https://colab.research.google.com/assets/colab-badge.svg\" alt=\"Open In Colab\"/></a>"
      ]
    },
    {
      "cell_type": "markdown",
      "metadata": {
        "id": "UJNPGojYS-yq",
        "colab_type": "text"
      },
      "source": [
        "# String"
      ]
    },
    {
      "cell_type": "markdown",
      "metadata": {
        "id": "YdrpvCjlTA_U",
        "colab_type": "text"
      },
      "source": [
        "A string is a sequence of characters.\n"
      ]
    },
    {
      "cell_type": "code",
      "metadata": {
        "id": "lQcsDXlhTIjt",
        "colab_type": "code",
        "colab": {}
      },
      "source": [
        "S = 'Hello, World!'   # single quotes\n",
        "print(S)\n",
        "S = \"Hello, World!\"   # double quotes\n",
        "print(S)\n",
        "\n",
        "S = \"\"\"String literals can\n",
        "span multiple lines.\"\"\"\n",
        "print(S)\n",
        "# String literals can\n",
        "# span multiple lines."
      ],
      "execution_count": null,
      "outputs": []
    },
    {
      "cell_type": "markdown",
      "metadata": {
        "id": "KKzaY_n0UjOT",
        "colab_type": "text"
      },
      "source": [
        "## String Formatting"
      ]
    },
    {
      "cell_type": "code",
      "metadata": {
        "id": "TEO0Nnm_Ukf9",
        "colab_type": "code",
        "colab": {}
      },
      "source": [
        "# printf-style % string formatting\n",
        "S = '%s is %d years old.' % ('Bob', 25)\n",
        "print(S)\n",
        "# Prints Bob is 25 years old.\n",
        "\n",
        "# format() Built-in Method\n",
        "S = '{1} is {0} years old.'.format(25, 'Bob')\n",
        "print(S)\n",
        "# Prints Bob is 25 years old.\n",
        "\n",
        "# f-String Formatter\n",
        "name = 'Bob'\n",
        "age = 25\n",
        "S = f\"{name} is {age} years old.\"\n",
        "print(S)\n",
        "# Prints Bob is 25 years old."
      ],
      "execution_count": null,
      "outputs": []
    },
    {
      "cell_type": "markdown",
      "metadata": {
        "id": "U5561opYUzEm",
        "colab_type": "text"
      },
      "source": [
        "## Basic String Functions"
      ]
    },
    {
      "cell_type": "code",
      "metadata": {
        "id": "Wt16v5IaU1BX",
        "colab_type": "code",
        "colab": {
          "base_uri": "https://localhost:8080/",
          "height": 84
        },
        "outputId": "e6faa626-3b2e-42c1-e8f1-2d62e6970bce"
      },
      "source": [
        "# String Length\n",
        "S = 'Supercalifragilisticexpialidocious'\n",
        "print(len(S))\n",
        "# Prints 34\n",
        "\n",
        "# String Index\n",
        "print(S.index('r'))\n",
        "# Prints 4\n",
        "\n",
        "# String Count\n",
        "print(S.count('li'))\n",
        "# Prints 3\n",
        "\n",
        "# Match and Replace\n",
        "S = 'Hello, World!'\n",
        "x = S.replace('World', 'Universe')\n",
        "print(x)\n",
        "# Prints Hello, Universe!\n",
        "\n",
        "# Split the string on comma\n",
        "S = 'red,green,blue,yellow'\n",
        "x = S.split(',')\n",
        "print(x)\n",
        "# Prints ['red', 'green', 'blue', 'yellow']"
      ],
      "execution_count": 3,
      "outputs": [
        {
          "output_type": "stream",
          "text": [
            "34\n",
            "4\n",
            "3\n",
            "Hello, Universe!\n"
          ],
          "name": "stdout"
        }
      ]
    },
    {
      "cell_type": "code",
      "metadata": {
        "id": "Ecy3adt4VbLi",
        "colab_type": "code",
        "colab": {}
      },
      "source": [
        "S = 'Hello, World!'\n",
        "print(S.lower())\n",
        "# Prints hello, world!\n",
        "\n",
        "S = 'Hello, World!'\n",
        "print(S.upper())\n",
        "# Prints HELLO, WORLD!\n",
        "\n",
        "S = 'Hello, World!'\n",
        "print(S.capitalize())\n",
        "# Prints Hello, world!\n",
        "\n",
        "S = 'Hello, World!'\n",
        "print(S.swapcase())\n",
        "# Prints hELLO, wORLD!\n",
        "\n",
        "S = 'hello, world!'\n",
        "print(S.title())\n",
        "# Prints Hello, World!"
      ],
      "execution_count": null,
      "outputs": []
    },
    {
      "cell_type": "code",
      "metadata": {
        "id": "y4CSjeP6Vg0r",
        "colab_type": "code",
        "colab": {}
      },
      "source": [
        "# Check if Substring Contains in a String\n",
        "S = 'Hello, World!'\n",
        "print('Hello' in S)\n",
        "# Prints True\n",
        "\n",
        "# Search for a substring within a string\n",
        "S = 'Stay Hungry, Stay Foolish'\n",
        "x = S.find('Foolish')\n",
        "print(x)\n",
        "# Prints 18\n",
        "\n",
        "# Print each character in a string\n",
        "S = 'Hello, World!'\n",
        "for letter in S:\n",
        "    print(letter, end=' ')\n",
        "# H e l l o ,   W o r l d ! "
      ],
      "execution_count": null,
      "outputs": []
    },
    {
      "cell_type": "markdown",
      "metadata": {
        "id": "KQf2Rf8JV1lo",
        "colab_type": "text"
      },
      "source": [
        "## The str() Constructor"
      ]
    },
    {
      "cell_type": "code",
      "metadata": {
        "id": "A5Pi0w0bTN08",
        "colab_type": "code",
        "colab": {}
      },
      "source": [
        "# an integer to a string\n",
        "S = str(42)\n",
        "print(S)\n",
        "# Prints '42'\n",
        "\n",
        "# a complex number to a string\n",
        "S = str(3+4j)\n",
        "print(S)\n",
        "# Prints '(3+4j)\n",
        "\n",
        "# a list to a string\n",
        "S = str([1,1])\n",
        "print(S)\n",
        "# Prints '[1, 1]'"
      ],
      "execution_count": null,
      "outputs": []
    },
    {
      "cell_type": "markdown",
      "metadata": {
        "id": "O7wM74tVV5Xv",
        "colab_type": "text"
      },
      "source": [
        "## Access Characters by Index"
      ]
    },
    {
      "cell_type": "code",
      "metadata": {
        "id": "BdWIYS12TQab",
        "colab_type": "code",
        "colab": {
          "base_uri": "https://localhost:8080/",
          "height": 151
        },
        "outputId": "ff7ef12b-d3fa-4dd7-c99b-5c01465972a8"
      },
      "source": [
        "# Indexing\n",
        "S = 'ABCDEFGHI'\n",
        "print(S[0])    # Prints A\n",
        "print(S[4])    # Prints E\n",
        "\n",
        "# Negative Indexing\n",
        "S = 'ABCDEFGHI'\n",
        "print(S[-1])    # Prints I\n",
        "print(S[-6])    # Prints D\n",
        "\n",
        "# String Slicing\n",
        "print(S[2:5])      # Prints CDE\n",
        "print(S[5:-1])     # Prints FGH\n",
        "print(S[1:6:2])    # Prints BDF\n",
        "\n",
        "# Reverse a string\n",
        "print(S[::-1])   "
      ],
      "execution_count": 7,
      "outputs": [
        {
          "output_type": "stream",
          "text": [
            "A\n",
            "E\n",
            "I\n",
            "D\n",
            "CDE\n",
            "FGH\n",
            "BDF\n",
            "IHGFEDCBA\n"
          ],
          "name": "stdout"
        }
      ]
    },
    {
      "cell_type": "markdown",
      "metadata": {
        "id": "1C0oqocMV7a3",
        "colab_type": "text"
      },
      "source": [
        "## Other string functions"
      ]
    },
    {
      "cell_type": "code",
      "metadata": {
        "id": "Us010qnqTbrZ",
        "colab_type": "code",
        "colab": {
          "base_uri": "https://localhost:8080/",
          "height": 84
        },
        "outputId": "95462d25-c8a4-4441-e421-489c4557d913"
      },
      "source": [
        "# concatenation operator\n",
        "S = 'Hello,' + ' World!'\n",
        "print(S)\n",
        "# Hello, World!\n",
        "\n",
        "# augmented assignment operator\n",
        "S = 'Hello,'\n",
        "S += ' World!'\n",
        "print(S)\n",
        "# Prints Hello, World!\n",
        "\n",
        "# replicate string\n",
        "# the hard way\n",
        "S = '--------------------'\n",
        "print(S)\n",
        "# the easy way\n",
        "S = '-' * 20\n",
        "print(S)\n"
      ],
      "execution_count": 5,
      "outputs": [
        {
          "output_type": "stream",
          "text": [
            "Hello, World!\n",
            "Hello, World!\n",
            "--------------------\n",
            "--------------------\n"
          ],
          "name": "stdout"
        }
      ]
    },
    {
      "cell_type": "markdown",
      "metadata": {
        "id": "v6kM4lm3WKpZ",
        "colab_type": "text"
      },
      "source": [
        "# if else elif Statement"
      ]
    },
    {
      "cell_type": "markdown",
      "metadata": {
        "id": "VQde6YvgWjku",
        "colab_type": "text"
      },
      "source": [
        "Often you need to execute some statements, only when certain condition holds. You can use following conditional statements in your code to do this.\n",
        "\n",
        "* if Statement: use it to execute a block of code, if a specified condition is true\n",
        "* else Statement: use it to execute a block of code, if the same condition is false\n",
        "* elif (else if) Statement: use it to specify a new condition to test, if the previous condition is false"
      ]
    },
    {
      "cell_type": "code",
      "metadata": {
        "id": "gdmRkvoIWs7y",
        "colab_type": "code",
        "colab": {}
      },
      "source": [
        "x, y = 7, 5\n",
        "if x > y:\n",
        "\tprint('x is greater')\n",
        "\n",
        "# Prints x is greater"
      ],
      "execution_count": null,
      "outputs": []
    },
    {
      "cell_type": "markdown",
      "metadata": {
        "id": "9UUXicjYW0qK",
        "colab_type": "text"
      },
      "source": [
        "In Python, any non-zero value or nonempty container is considered TRUE, whereas Zero, None, and empty container is considered FALSE. That’s why all the below if statements are valid."
      ]
    },
    {
      "cell_type": "code",
      "metadata": {
        "id": "e1SIdEIuW1F1",
        "colab_type": "code",
        "colab": {}
      },
      "source": [
        "# any non-zero value\n",
        "if -3:\n",
        "    print('True')\n",
        "# Prints True\n",
        "\n",
        "# mathematical expression\n",
        "x, y = 7, 5\n",
        "if x + y:\n",
        "    print('True')\n",
        "# Prints True\n",
        "\n",
        "# nonempty container\n",
        "L = ['red','green']\n",
        "if L:\n",
        "    print('True')\n",
        "# Prints True"
      ],
      "execution_count": null,
      "outputs": []
    },
    {
      "cell_type": "code",
      "metadata": {
        "id": "rVVL6ULqW6Sl",
        "colab_type": "code",
        "colab": {}
      },
      "source": [
        "# Nested if\n",
        "x, y, z = 7, 4, 2\n",
        "if x > y:\n",
        "    print(\"x is greater than y\")\n",
        "    if x > z:\n",
        "        print(\"x is greater than y and z\")\n",
        "\n",
        "# Prints x is greater than y\n",
        "# Prints x is greater than y and z"
      ],
      "execution_count": null,
      "outputs": []
    },
    {
      "cell_type": "code",
      "metadata": {
        "id": "xl-TbGm2W-z7",
        "colab_type": "code",
        "colab": {}
      },
      "source": [
        "# else statement\n",
        "x, y = 7, 5\n",
        "if x < y:\n",
        "    print('y is greater')\n",
        "else:\n",
        "    print('x is greater')\n",
        "\n",
        "# Prints x is greater"
      ],
      "execution_count": null,
      "outputs": []
    },
    {
      "cell_type": "code",
      "metadata": {
        "id": "CM_MKKmBXByK",
        "colab_type": "code",
        "colab": {}
      },
      "source": [
        "# elif statement\n",
        "x, y = 5, 5\n",
        "if x > y:\n",
        "    print('x is greater')\n",
        "elif x < y:\n",
        "    print('y is greater')\n",
        "else:\n",
        "    print('x and y are equal')\n",
        "\n",
        "# Prints x and y are equal"
      ],
      "execution_count": null,
      "outputs": []
    },
    {
      "cell_type": "code",
      "metadata": {
        "id": "3o-2GCTvXIbf",
        "colab_type": "code",
        "colab": {
          "base_uri": "https://localhost:8080/",
          "height": 50
        },
        "outputId": "49fa5ee0-5f00-45a6-ab1b-33add10d290b"
      },
      "source": [
        "# if all the conditions are True.\n",
        "x, y, z = 7, 4, 2\n",
        "if x > y and x > z:\n",
        "    print('x is greater')\n",
        "# Prints x is greater\n",
        "\n",
        "# if at least one of the conditions is True\n",
        "x, y, z = 7, 4, 9\n",
        "if x > y or x > z:\n",
        "    print('x is greater than y or z')\n",
        "# Prints x is greater than y or z\n",
        "\n",
        "# if the condition is false\n",
        "x, y = 7, 5\n",
        "if not x < y:\n",
        "    print('x is greater')\n",
        "# Prints x is greater"
      ],
      "execution_count": 8,
      "outputs": [
        {
          "output_type": "stream",
          "text": [
            "x is greater\n",
            "x is greater than y or z\n"
          ],
          "name": "stdout"
        }
      ]
    },
    {
      "cell_type": "markdown",
      "metadata": {
        "id": "mffQy_tRXhHG",
        "colab_type": "text"
      },
      "source": [
        "## Shorthand If"
      ]
    },
    {
      "cell_type": "code",
      "metadata": {
        "id": "ar4wrMQcXjD2",
        "colab_type": "code",
        "colab": {}
      },
      "source": [
        "# Short Hand If - single statement\n",
        "x, y = 7, 5\n",
        "if x > y: print('x is greater')\n",
        "# Prints x is greater\n",
        "\n",
        "# Short Hand If - multiple statements using semicolon\n",
        "x, y = 7, 5\n",
        "if x > y: print('x is greater'); print('y is smaller'); print('x and y are not equal')\n",
        "\n",
        "# Prints x is greater\n",
        "# Prints y is smaller\n",
        "# Prints x and y are not equal"
      ],
      "execution_count": null,
      "outputs": []
    },
    {
      "cell_type": "code",
      "metadata": {
        "id": "DPkvL28PX992",
        "colab_type": "code",
        "colab": {}
      },
      "source": [
        "# Short Hand If Else\n",
        "x, y = 7, 5\n",
        "print('x is greater') if x > y else print('y is greater')\n",
        "# Prints x is greater\n",
        "\n",
        "x, y = 7, 5\n",
        "max = x if x > y else y\n",
        "print(max)\n",
        "# Prints 7"
      ],
      "execution_count": null,
      "outputs": []
    },
    {
      "cell_type": "markdown",
      "metadata": {
        "id": "Jts3Xx6UYNE9",
        "colab_type": "text"
      },
      "source": [
        "# While Loop"
      ]
    },
    {
      "cell_type": "markdown",
      "metadata": {
        "id": "XHgSFgfRYO4-",
        "colab_type": "text"
      },
      "source": [
        "A while loop is used when you want to perform a task indefinitely, until a particular condition is met. It’s a condition-controlled loop."
      ]
    },
    {
      "cell_type": "code",
      "metadata": {
        "id": "XoVqgUepYT_J",
        "colab_type": "code",
        "colab": {}
      },
      "source": [
        "# Iterate until x becomes 0\n",
        "x = 6\n",
        "while x:\n",
        "    print(x)\n",
        "    x -= 1\n",
        "# Prints 6 5 4 3 2 1\n",
        "\n",
        "# Iterate until list is empty\n",
        "L = ['red', 'green', 'blue']\n",
        "while L:\n",
        "    print(L.pop())\n",
        "# Prints blue green red\n",
        "\n",
        "# Iterate until string is empty\n",
        "x = 'blue'\n",
        "while x:\n",
        "    print(x)\n",
        "    x = x[1:]\n",
        "# Prints blue\n",
        "# Prints lue\n",
        "# Prints ue\n",
        "# Prints e\n",
        "\n",
        "# Exit condition is false at the start\n",
        "x = 0\n",
        "while x:\n",
        "    print(x)\n",
        "    x -= 1"
      ],
      "execution_count": null,
      "outputs": []
    },
    {
      "cell_type": "markdown",
      "metadata": {
        "id": "YQwQP8-vYf1m",
        "colab_type": "text"
      },
      "source": [
        "## Break in while Loop\n",
        "Python break statement is used to exit the loop immediately. It simply jumps out of the loop altogether, and the program continues after the loop."
      ]
    },
    {
      "cell_type": "code",
      "metadata": {
        "id": "KZ_pY3e7Yg69",
        "colab_type": "code",
        "colab": {}
      },
      "source": [
        "# Exit when x becomes 3\n",
        "x = 6\n",
        "while x:\n",
        "    print(x)\n",
        "    x -= 1\n",
        "    if x == 3:\n",
        "        break\n",
        "# Prints 6 5 4"
      ],
      "execution_count": null,
      "outputs": []
    },
    {
      "cell_type": "markdown",
      "metadata": {
        "id": "yAFSGczXYj0p",
        "colab_type": "text"
      },
      "source": [
        "## Continue in while Loop\n",
        "The continue statement skips the current iteration of a loop and continues with the next iteration."
      ]
    },
    {
      "cell_type": "code",
      "metadata": {
        "id": "uvmuKn2MYlY9",
        "colab_type": "code",
        "colab": {}
      },
      "source": [
        "# Skip odd numbers\n",
        "x = 6\n",
        "while x:\n",
        "\tx -= 1\n",
        "\tif x % 2 != 0:\n",
        "\t\tcontinue\n",
        "\tprint(x)\n",
        "# Prints 4 2 0"
      ],
      "execution_count": null,
      "outputs": []
    },
    {
      "cell_type": "markdown",
      "metadata": {
        "id": "r1FXWRuLYpCg",
        "colab_type": "text"
      },
      "source": [
        "## Else in While Loop\n",
        "Python allows an optional else clause at the end of a while loop. The else clause will be executed when the loop terminates normally (the condition becomes false)."
      ]
    },
    {
      "cell_type": "code",
      "metadata": {
        "id": "2hohyr3vYplh",
        "colab_type": "code",
        "colab": {}
      },
      "source": [
        "x = 6\n",
        "while x:\n",
        "    print(x)\n",
        "    x -= 1\n",
        "else:\n",
        "    print('Done!')\n",
        "# Prints 6 5 4 3 2 1\n",
        "# Prints Done!"
      ],
      "execution_count": null,
      "outputs": []
    },
    {
      "cell_type": "code",
      "metadata": {
        "id": "tt3ZlnC7Y3UY",
        "colab_type": "code",
        "colab": {}
      },
      "source": [
        "# The else clause will still be executed if the condition is false at the start.\n",
        "x = 0\n",
        "while x:\n",
        "    print(x)\n",
        "    x -= 1\n",
        "else:\n",
        "    print('Done!')\n",
        "# Prints Done!"
      ],
      "execution_count": null,
      "outputs": []
    },
    {
      "cell_type": "code",
      "metadata": {
        "id": "bD6o8UiUY5DP",
        "colab_type": "code",
        "colab": {}
      },
      "source": [
        "# If the loop terminates prematurely with break, the else clause won’t be executed.\n",
        "x = 6\n",
        "while x:\n",
        "    print(x)\n",
        "    x -= 1\n",
        "    if x == 3:\n",
        "        break\n",
        "else:\n",
        "    print('Done!')\n",
        "# Prints 6 5 4"
      ],
      "execution_count": null,
      "outputs": []
    },
    {
      "cell_type": "markdown",
      "metadata": {
        "id": "UPDq5pzaY7Gt",
        "colab_type": "text"
      },
      "source": [
        "# For Loop"
      ]
    },
    {
      "cell_type": "markdown",
      "metadata": {
        "id": "zR0KTw1PY9Ze",
        "colab_type": "text"
      },
      "source": [
        "Rather than iterating over a numeric progression, Python’s for statement iterates over the items of any iterable (list, tuple, dictionary, set, or string). The items are iterated in the order that they appear in the iterable."
      ]
    },
    {
      "cell_type": "code",
      "metadata": {
        "id": "fKwb_TPxZDnq",
        "colab_type": "code",
        "colab": {}
      },
      "source": [
        "# Iterate through a list\n",
        "colors = ['red', 'green', 'blue', 'yellow']\n",
        "for x in colors:\n",
        "    print(x)\n",
        "# Prints red green blue yellow\n",
        "\n",
        "# Iterate through a string\n",
        "S = 'python'\n",
        "for x in S:\n",
        "    print(x)\n",
        "# Prints p y t h o n"
      ],
      "execution_count": null,
      "outputs": []
    },
    {
      "cell_type": "markdown",
      "metadata": {
        "id": "K5kc7J7PZIPn",
        "colab_type": "text"
      },
      "source": [
        "## Break in for Loop\n",
        "Python break statement is used to exit the loop immediately. It simply jumps out of the loop altogether, and the program continues after the loop."
      ]
    },
    {
      "cell_type": "code",
      "metadata": {
        "id": "ekrS4a5vZFMf",
        "colab_type": "code",
        "colab": {}
      },
      "source": [
        "# Break the loop at 'blue'\n",
        "colors = ['red', 'green', 'blue', 'yellow']\n",
        "for x in colors:\n",
        "    if x == 'blue':\n",
        "        break\n",
        "    print(x)\n",
        "# Prints red green"
      ],
      "execution_count": null,
      "outputs": []
    },
    {
      "cell_type": "markdown",
      "metadata": {
        "id": "XuTqBGDNZJ7K",
        "colab_type": "text"
      },
      "source": [
        "## Continue in for Loop\n",
        "The continue statement skips the current iteration of a loop and continues with the next iteration."
      ]
    },
    {
      "cell_type": "code",
      "metadata": {
        "id": "Q7JnoiAVZMP1",
        "colab_type": "code",
        "colab": {}
      },
      "source": [
        "# Skip 'blue'\n",
        "colors = ['red', 'green', 'blue', 'yellow']\n",
        "for x in colors:\n",
        "    if x == 'blue':\n",
        "        continue\n",
        "    print(x)\n",
        "# Prints red green yellow"
      ],
      "execution_count": null,
      "outputs": []
    },
    {
      "cell_type": "markdown",
      "metadata": {
        "id": "RJqEco4EZNtQ",
        "colab_type": "text"
      },
      "source": [
        "## Else in for Loop\n",
        "Python allows an optional else clause at the end of a for loop. The else clause will be executed if the loop terminates naturally (through exhaustion)."
      ]
    },
    {
      "cell_type": "code",
      "metadata": {
        "id": "gnJjPWAHZPZx",
        "colab_type": "code",
        "colab": {}
      },
      "source": [
        "colors = ['red', 'green', 'blue', 'yellow']\n",
        "for x in colors:\n",
        "    print(x)\n",
        "else:\n",
        "    print('Done!')\n",
        "# Prints red green blue yellow\n",
        "# Prints Done!"
      ],
      "execution_count": null,
      "outputs": []
    },
    {
      "cell_type": "code",
      "metadata": {
        "id": "b7oARww7ZSlE",
        "colab_type": "code",
        "colab": {}
      },
      "source": [
        "# If the loop terminates prematurely with break, the else clause won’t be executed.\n",
        "colors = ['red', 'green', 'blue', 'yellow']\n",
        "for x in colors:\n",
        "    if x == 'blue':\n",
        "        break\n",
        "    print(x)\n",
        "else:\n",
        "    print('Done!')\n",
        "# Prints red green"
      ],
      "execution_count": null,
      "outputs": []
    },
    {
      "cell_type": "markdown",
      "metadata": {
        "id": "1pn3AGuqZXKw",
        "colab_type": "text"
      },
      "source": [
        "## range() function in for loop\n",
        "If you need to execute a group of statements for a specified number of times, use built-in function range().\n",
        "\n",
        "The range(start,stop,step) function generates a sequence of numbers from 0 up to (but not including) specified number."
      ]
    },
    {
      "cell_type": "code",
      "metadata": {
        "id": "Z3QwyhmsZYtj",
        "colab_type": "code",
        "colab": {}
      },
      "source": [
        "# Generate a sequence of numbers from 0 6\n",
        "for x in range(7):\n",
        "    print(x)\n",
        "# Prints 0 1 2 3 4 5 6\n",
        "\n",
        "# Print 'Hello!' three times\n",
        "for x in range(3):\n",
        "    print('Hello!')\n",
        "# Prints Hello!\n",
        "# Prints Hello!\n",
        "# Prints Hello!"
      ],
      "execution_count": null,
      "outputs": []
    },
    {
      "cell_type": "markdown",
      "metadata": {
        "id": "ZC--6B1rZe0G",
        "colab_type": "text"
      },
      "source": [
        "The range starts from 0 by default. But, you can start the range at another number by specifying start parameter."
      ]
    },
    {
      "cell_type": "code",
      "metadata": {
        "id": "8hYI74hpZgeb",
        "colab_type": "code",
        "colab": {}
      },
      "source": [
        "# Generate a sequence of numbers from 2 to 6\n",
        "for x in range(2, 7):\n",
        "    print(x)\n",
        "# Prints 2 3 4 5 6\n",
        "\n",
        "for x in range(-5,0):\n",
        "    print(x)\n",
        "# Prints -5 -4 -3 -2 -1\n",
        "\n",
        "# Increment the range with 2\n",
        "for x in range(2, 7, 2):\n",
        "    print(x)\n",
        "# Prints 2 4 6"
      ],
      "execution_count": null,
      "outputs": []
    },
    {
      "cell_type": "markdown",
      "metadata": {
        "id": "1eSBkKW7aeqJ",
        "colab_type": "text"
      },
      "source": [
        "## Nested for Loop\n",
        "A loop inside another loop is called a nested loop."
      ]
    },
    {
      "cell_type": "code",
      "metadata": {
        "id": "mF2_zLcSafyh",
        "colab_type": "code",
        "colab": {}
      },
      "source": [
        "# Flatten a nested list\n",
        "list = [[1, 2, 3],[4, 5, 6],[7, 8, 9]]   \n",
        "for sublist in list:\n",
        "    for number in sublist:\n",
        "        print(number)\n",
        "# Prints 1 2 3 4 5 6 7 8 9"
      ],
      "execution_count": null,
      "outputs": []
    },
    {
      "cell_type": "markdown",
      "metadata": {
        "id": "g6x6bd26aiLS",
        "colab_type": "text"
      },
      "source": [
        "## Access Index in for Loop\n",
        "To iterate over the indices of a sequence, you can combine range() and len() as follows:"
      ]
    },
    {
      "cell_type": "code",
      "metadata": {
        "id": "155Tv42uai6C",
        "colab_type": "code",
        "colab": {}
      },
      "source": [
        "colors = ['red', 'green', 'blue']\n",
        "for index in range(len(colors)):\n",
        "    print(index, colors[index])\n",
        "# Prints 0 red\n",
        "# Prints 1 green\n",
        "# Prints 2 blue"
      ],
      "execution_count": null,
      "outputs": []
    },
    {
      "cell_type": "code",
      "metadata": {
        "id": "3tN1H8DTarZt",
        "colab_type": "code",
        "colab": {}
      },
      "source": [
        "# Loop through two lists at once\n",
        "name = ['Bob', 'Sam', 'Max']\n",
        "age = [25, 35, 30]\n",
        "for x, y in zip(name, age):\n",
        "    print(x, y)\n",
        "# Prints Bob 25\n",
        "# Prints Sam 35\n",
        "# Prints Max 30"
      ],
      "execution_count": null,
      "outputs": []
    }
  ]
}