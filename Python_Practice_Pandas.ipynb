{
  "nbformat": 4,
  "nbformat_minor": 0,
  "metadata": {
    "colab": {
      "name": "Python_Practice_Pandas.ipynb",
      "provenance": [],
      "authorship_tag": "ABX9TyMCONr7rQaKaFAxUAE6qlny",
      "include_colab_link": true
    },
    "kernelspec": {
      "name": "python3",
      "display_name": "Python 3"
    }
  },
  "cells": [
    {
      "cell_type": "markdown",
      "metadata": {
        "id": "view-in-github",
        "colab_type": "text"
      },
      "source": [
        "<a href=\"https://colab.research.google.com/github/Ajay9795cool/Python-Programming/blob/master/Python_Practice_Pandas.ipynb\" target=\"_parent\"><img src=\"https://colab.research.google.com/assets/colab-badge.svg\" alt=\"Open In Colab\"/></a>"
      ]
    },
    {
      "cell_type": "markdown",
      "metadata": {
        "id": "Rto2waNa7eJq",
        "colab_type": "text"
      },
      "source": [
        "## Upload files to Google Colab"
      ]
    },
    {
      "cell_type": "code",
      "metadata": {
        "id": "2u-thO977ZUq",
        "colab_type": "code",
        "colab": {}
      },
      "source": [
        "from google.colab import files\n",
        "uploaded = files.upload()"
      ],
      "execution_count": null,
      "outputs": []
    },
    {
      "cell_type": "code",
      "metadata": {
        "id": "Q5p-BZKe5PjP",
        "colab_type": "code",
        "colab": {}
      },
      "source": [
        "import pandas as pd\n",
        "df = pd.read_csv(\"Automobile_data.csv\")\n",
        "df.info(5)"
      ],
      "execution_count": null,
      "outputs": []
    },
    {
      "cell_type": "code",
      "metadata": {
        "id": "RVQfwF9e7sVN",
        "colab_type": "code",
        "colab": {}
      },
      "source": [
        "import pandas as pd\n",
        "df = pd.read_csv(\"https://raw.githubusercontent.com/Ajay9795cool/Python-Programming/master/Automobile_data.csv\")\n",
        "df.info(5)"
      ],
      "execution_count": null,
      "outputs": []
    },
    {
      "cell_type": "markdown",
      "metadata": {
        "id": "x3lGZJkL5Q3C",
        "colab_type": "text"
      },
      "source": [
        "Question: From given data set print first and last five rows"
      ]
    },
    {
      "cell_type": "code",
      "metadata": {
        "id": "P2s47qfB8Mxy",
        "colab_type": "code",
        "colab": {}
      },
      "source": [
        "df.head(5)"
      ],
      "execution_count": null,
      "outputs": []
    },
    {
      "cell_type": "code",
      "metadata": {
        "id": "ZKO71MGh8S6t",
        "colab_type": "code",
        "colab": {}
      },
      "source": [
        "df.tail(5)"
      ],
      "execution_count": null,
      "outputs": []
    },
    {
      "cell_type": "markdown",
      "metadata": {
        "id": "6JqqsYeU8VRU",
        "colab_type": "text"
      },
      "source": [
        "## Question: Find the most expensive car company name\n",
        "\n",
        "Print most expensive car’s company name and price."
      ]
    },
    {
      "cell_type": "code",
      "metadata": {
        "id": "uLg6CXZ_8U2C",
        "colab_type": "code",
        "colab": {}
      },
      "source": [
        "result = df [['company','price']][df.price==df['price'].max()]\n",
        "result"
      ],
      "execution_count": null,
      "outputs": []
    },
    {
      "cell_type": "markdown",
      "metadata": {
        "id": "6GBZ5Hpa8j6O",
        "colab_type": "text"
      },
      "source": [
        "## Question: Print All Toyota Cars details"
      ]
    },
    {
      "cell_type": "code",
      "metadata": {
        "id": "z2YCniDB8mPL",
        "colab_type": "code",
        "colab": {}
      },
      "source": [
        "car_Manufacturers = df.groupby('company')\n",
        "toyotaDf = car_Manufacturers.get_group('toyota')\n",
        "toyotaDf"
      ],
      "execution_count": null,
      "outputs": []
    },
    {
      "cell_type": "markdown",
      "metadata": {
        "id": "ao3WNlE78oYt",
        "colab_type": "text"
      },
      "source": [
        "## Question: Count total cars per company"
      ]
    },
    {
      "cell_type": "code",
      "metadata": {
        "id": "zX7hPL7h8stj",
        "colab_type": "code",
        "colab": {}
      },
      "source": [
        "df['company'].value_counts()"
      ],
      "execution_count": null,
      "outputs": []
    },
    {
      "cell_type": "markdown",
      "metadata": {
        "id": "TSwmTiiA8vO_",
        "colab_type": "text"
      },
      "source": [
        "## Question: Find each company’s Higesht price car"
      ]
    },
    {
      "cell_type": "code",
      "metadata": {
        "id": "LnLIHF5e8xc1",
        "colab_type": "code",
        "colab": {}
      },
      "source": [
        "car_Manufacturers = df.groupby('company')\n",
        "priceDf = car_Manufacturers['company','price'].max()\n",
        "priceDf"
      ],
      "execution_count": null,
      "outputs": []
    },
    {
      "cell_type": "markdown",
      "metadata": {
        "id": "dpLOO-kA80Mh",
        "colab_type": "text"
      },
      "source": [
        "## Question: Find the average mileage of each car making company"
      ]
    },
    {
      "cell_type": "code",
      "metadata": {
        "id": "QFLn2m7u82Hq",
        "colab_type": "code",
        "colab": {}
      },
      "source": [
        "car_Manufacturers = df.groupby('company')\n",
        "mileageDf = car_Manufacturers['company','average-mileage'].mean()\n",
        "mileageDf"
      ],
      "execution_count": null,
      "outputs": []
    },
    {
      "cell_type": "markdown",
      "metadata": {
        "id": "fzx-5ZpF84_w",
        "colab_type": "text"
      },
      "source": [
        "## Question: Sort all cars by Price column"
      ]
    },
    {
      "cell_type": "code",
      "metadata": {
        "id": "ty546aes86rc",
        "colab_type": "code",
        "colab": {}
      },
      "source": [
        "carsDf = carsDf.sort_values(by=['price', 'horsepower'], ascending=False)\n",
        "carsDf.head(5)"
      ],
      "execution_count": null,
      "outputs": []
    },
    {
      "cell_type": "markdown",
      "metadata": {
        "id": "lP_02PRn89u4",
        "colab_type": "text"
      },
      "source": [
        "## Question: Concatenate two data frames using the following conditions\n",
        "\n",
        "Create two data frames using the following two Dicts, Concatenate those two data frames and create a key for each data frame.\n",
        "\n",
        "\n",
        "```\n",
        "GermanCars = {'Company': ['Ford', 'Mercedes', 'BMV', 'Audi'], 'Price': [23845, 171995, 135925 , 71400]}\n",
        "japaneseCars = {'Company': ['Toyota', 'Honda', 'Nissan', 'Mitsubishi '], 'Price': [29995, 23600, 61500 , 58900]}\n",
        "```\n",
        "\n"
      ]
    },
    {
      "cell_type": "code",
      "metadata": {
        "id": "w6Ns8DLd9FYl",
        "colab_type": "code",
        "colab": {}
      },
      "source": [
        "GermanCars = {'Company': ['Ford', 'Mercedes', 'BMV', 'Audi'], 'Price': [23845, 171995, 135925 , 71400]}\n",
        "carsDf1 = pd.DataFrame.from_dict(GermanCars)\n",
        "\n",
        "japaneseCars = {'Company': ['Toyota', 'Honda', 'Nissan', 'Mitsubishi '], 'Price': [29995, 23600, 61500 , 58900]}\n",
        "carsDf2 = pd.DataFrame.from_dict(japaneseCars)\n",
        "\n",
        "carsDf = pd.concat([carsDf1, carsDf2], keys=[\"Germany\", \"Japan\"])\n",
        "carsDf"
      ],
      "execution_count": null,
      "outputs": []
    },
    {
      "cell_type": "markdown",
      "metadata": {
        "id": "D-9hDPdz9IA1",
        "colab_type": "text"
      },
      "source": [
        "## Question: Merge two data frames using the following condition\n",
        "\n",
        "Create two data frames using the following two Dicts, Merge two data frames, and append the second data frame as a new column to the first data frame.\n",
        "\n",
        "```\n",
        "Car_Price = {'Company': ['Toyota', 'Honda', 'BMV', 'Audi'], 'Price': [23845, 17995, 135925 , 71400]}\n",
        "car_Horsepower = {'Company': ['Toyota', 'Honda', 'BMV', 'Audi'], 'horsepower': [141, 80, 182 , 160]}\n",
        "```\n",
        "\n"
      ]
    },
    {
      "cell_type": "code",
      "metadata": {
        "id": "9XyoFbEi9Hqh",
        "colab_type": "code",
        "colab": {}
      },
      "source": [
        "Car_Price = {'Company': ['Toyota', 'Honda', 'BMV', 'Audi'], 'Price': [23845, 17995, 135925 , 71400]}\n",
        "carPriceDf = pd.DataFrame.from_dict(Car_Price)\n",
        "\n",
        "car_Horsepower = {'Company': ['Toyota', 'Honda', 'BMV', 'Audi'], 'horsepower': [141, 80, 182 , 160]}\n",
        "carsHorsepowerDf = pd.DataFrame.from_dict(car_Horsepower)\n",
        "\n",
        "carsDf = pd.merge(carPriceDf, carsHorsepowerDf, on=\"Company\")\n",
        "carsDf"
      ],
      "execution_count": null,
      "outputs": []
    }
  ]
}