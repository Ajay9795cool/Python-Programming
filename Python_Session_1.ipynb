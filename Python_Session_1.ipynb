{
  "nbformat": 4,
  "nbformat_minor": 0,
  "metadata": {
    "kernelspec": {
      "display_name": "Python 3",
      "language": "python",
      "name": "python3"
    },
    "language_info": {
      "codemirror_mode": {
        "name": "ipython",
        "version": 3
      },
      "file_extension": ".py",
      "mimetype": "text/x-python",
      "name": "python",
      "nbconvert_exporter": "python",
      "pygments_lexer": "ipython3",
      "version": "3.7.6"
    },
    "colab": {
      "name": "Python-Session-1.ipynb",
      "provenance": [],
      "collapsed_sections": [
        "XMceRiPvJ_GG",
        "HE4pk2koJ_GP",
        "02rQfBNlJ_Gc",
        "-fLvF64NJ_Gn",
        "vzCNjw7QJ_G3",
        "O7cEDZ0sJ_G9",
        "rUlgnLvFJ_HH",
        "9frQtHUJLFuf",
        "akHGP6HnJ_Hg",
        "_k9jdsrkJ_H3",
        "rcL15bUEJ_IS",
        "C_NcAKYfJ_If",
        "i0SgD5gGJ_Iz",
        "Lod_3UT0J_I0",
        "64O7Lt4uJ_JJ",
        "Yj3xX9wkJ_Ja",
        "xNi5Vi7pJ_Jp"
      ],
      "include_colab_link": true
    }
  },
  "cells": [
    {
      "cell_type": "markdown",
      "metadata": {
        "id": "view-in-github",
        "colab_type": "text"
      },
      "source": [
        "<a href=\"https://colab.research.google.com/github/Ajay9795cool/Python-Programming/blob/master/Python_Session_1.ipynb\" target=\"_parent\"><img src=\"https://colab.research.google.com/assets/colab-badge.svg\" alt=\"Open In Colab\"/></a>"
      ]
    },
    {
      "cell_type": "markdown",
      "metadata": {
        "id": "XMceRiPvJ_GG",
        "colab_type": "text"
      },
      "source": [
        "# The Notebook Interface"
      ]
    },
    {
      "cell_type": "markdown",
      "metadata": {
        "id": "4OqtXvm0LrH3",
        "colab_type": "text"
      },
      "source": [
        "## Basics"
      ]
    },
    {
      "cell_type": "markdown",
      "metadata": {
        "id": "3Dqr0xomJ_GI",
        "colab_type": "text"
      },
      "source": [
        "Why not take a look around? Check out the menus to get a feel for it."
      ]
    },
    {
      "cell_type": "markdown",
      "metadata": {
        "id": "roQr8mjmJ_GK",
        "colab_type": "text"
      },
      "source": [
        "There are two fairly prominent terms that you should notice **cells** and **kernels** are key both to understanding Jupyter and to what makes it more than just a word processor. "
      ]
    },
    {
      "cell_type": "markdown",
      "metadata": {
        "id": "5e0LBIZiJ_GL",
        "colab_type": "text"
      },
      "source": [
        "A **kernel** is a “computational engine” that executes the code contained in a notebook document.\n",
        "\n",
        "A **cell** is a container for text to be displayed in the notebook or code to be executed by the notebook’s kernel."
      ]
    },
    {
      "cell_type": "markdown",
      "metadata": {
        "id": "QI3NL1HDJ_GN",
        "colab_type": "text"
      },
      "source": [
        "## Cells"
      ]
    },
    {
      "cell_type": "markdown",
      "metadata": {
        "id": "adw-7Wo_J_GO",
        "colab_type": "text"
      },
      "source": [
        "A **code cell** contains code to be executed in the kernel and displays its output below.\n",
        "\n",
        "A **Markdown cell** contains text formatted using Markdown and displays its output in-place when it is run."
      ]
    },
    {
      "cell_type": "markdown",
      "metadata": {
        "id": "HE4pk2koJ_GP",
        "colab_type": "text"
      },
      "source": [
        "# Hello World!"
      ]
    },
    {
      "cell_type": "markdown",
      "metadata": {
        "id": "YSSY_cdIJ_GR",
        "colab_type": "text"
      },
      "source": [
        "**print** - The simplest directive in Python is the \"print\" directive - it simply prints out a line\n",
        "\n",
        "Classic hello world example. Type `print('Hello World!')` into the cell and click the run button in the toolbar above or press Ctrl + Enter. "
      ]
    },
    {
      "cell_type": "code",
      "metadata": {
        "id": "iSarq_ynJ_GS",
        "colab_type": "code",
        "colab": {}
      },
      "source": [
        ""
      ],
      "execution_count": null,
      "outputs": []
    },
    {
      "cell_type": "markdown",
      "metadata": {
        "id": "eshrwBJ_J_Gb",
        "colab_type": "text"
      },
      "source": [
        "When you ran the cell, its output will have been displayed below and the label to its left will have changed from \n",
        "In [ ] to In [1]. "
      ]
    },
    {
      "cell_type": "markdown",
      "metadata": {
        "id": "02rQfBNlJ_Gc",
        "colab_type": "text"
      },
      "source": [
        "## Running State"
      ]
    },
    {
      "cell_type": "markdown",
      "metadata": {
        "id": "mgPdwFsEJ_Gd",
        "colab_type": "text"
      },
      "source": [
        "Try out the following code to see what happens. Do you notice anything different?\n",
        "```\n",
        "import time\n",
        "time.sleep(3)\n",
        "```"
      ]
    },
    {
      "cell_type": "code",
      "metadata": {
        "id": "xbwHQ5ioJ_Gf",
        "colab_type": "code",
        "colab": {}
      },
      "source": [
        ""
      ],
      "execution_count": null,
      "outputs": []
    },
    {
      "cell_type": "markdown",
      "metadata": {
        "id": "vTBQN6AsJ_Gl",
        "colab_type": "text"
      },
      "source": [
        "This cell doesn’t produce any output, but it does take three seconds to execute. Notice how Jupyter signifies that the cell is currently running by changing its label to In [*]."
      ]
    },
    {
      "cell_type": "markdown",
      "metadata": {
        "id": "-fLvF64NJ_Gn",
        "colab_type": "text"
      },
      "source": [
        "## Keyboard Shortcuts"
      ]
    },
    {
      "cell_type": "markdown",
      "metadata": {
        "id": "tFKLmqG7J_Go",
        "colab_type": "text"
      },
      "source": [
        "Toggle between edit and command mode with Esc and Enter, respectively.\n",
        "\n",
        "Once in command mode:\n",
        "\n",
        "Scroll up and down your cells with your Up and Down keys.\n",
        "\n",
        "Press A or B to insert a new cell above or below the active cell.\n",
        "\n",
        "M will transform the active cell to a Markdown cell.\n",
        "\n",
        "Y will set the active cell to a code cell.\n",
        "\n",
        "D + D (D twice) will delete the active cell.\n",
        "\n",
        "Z will undo cell deletion.\n"
      ]
    },
    {
      "cell_type": "code",
      "metadata": {
        "id": "Aodx74oIJ_Gp",
        "colab_type": "code",
        "colab": {}
      },
      "source": [
        "# line 1"
      ],
      "execution_count": null,
      "outputs": []
    },
    {
      "cell_type": "code",
      "metadata": {
        "id": "ROReTSeaJ_Gx",
        "colab_type": "code",
        "colab": {}
      },
      "source": [
        "# line 2"
      ],
      "execution_count": null,
      "outputs": []
    },
    {
      "cell_type": "markdown",
      "metadata": {
        "id": "vzCNjw7QJ_G3",
        "colab_type": "text"
      },
      "source": [
        "# Markdown Basics"
      ]
    },
    {
      "cell_type": "markdown",
      "metadata": {
        "id": "uZlHODXsJ_G6",
        "colab_type": "text"
      },
      "source": [
        "\"# This is a level 1 heading\"\n",
        " \n",
        "\"## This is a level 2 heading\"\n",
        " \n",
        "This is some plain text that forms a paragraph.\n",
        " \n",
        "Add emphasis via '**bold**' and '__bold__', or '*italic*' and '_italic_.'\n",
        " \n",
        "Paragraphs must be separated by an empty line."
      ]
    },
    {
      "cell_type": "markdown",
      "metadata": {
        "id": "Sljxl1imJ_G7",
        "colab_type": "text"
      },
      "source": [
        "* Sometimes we want to include lists.\n",
        "* Which can be indented."
      ]
    },
    {
      "cell_type": "markdown",
      "metadata": {
        "id": "2NcuUDXQJ_G8",
        "colab_type": "text"
      },
      "source": [
        "1. Lists can also be numbered.\n",
        "2. For ordered lists."
      ]
    },
    {
      "cell_type": "markdown",
      "metadata": {
        "id": "O7cEDZ0sJ_G9",
        "colab_type": "text"
      },
      "source": [
        "## Indentation"
      ]
    },
    {
      "cell_type": "markdown",
      "metadata": {
        "id": "8EgGNvF6J_G_",
        "colab_type": "text"
      },
      "source": [
        "Python uses indentation for blocks, instead of curly braces. Both tabs and spaces are supported, but the standard indentation requires standard Python code to use four spaces. For example:\n",
        "```\n",
        "x = 1\n",
        "if x == 1:\n",
        "    # indented four spaces\n",
        "    print(\"x is 1.\")\n",
        "```"
      ]
    },
    {
      "cell_type": "code",
      "metadata": {
        "id": "GM3mveVHJ_HA",
        "colab_type": "code",
        "colab": {}
      },
      "source": [
        ""
      ],
      "execution_count": null,
      "outputs": []
    },
    {
      "cell_type": "markdown",
      "metadata": {
        "id": "rUlgnLvFJ_HH",
        "colab_type": "text"
      },
      "source": [
        "# Variables and Types"
      ]
    },
    {
      "cell_type": "markdown",
      "metadata": {
        "id": "yANoLb17J_HI",
        "colab_type": "text"
      },
      "source": [
        "Python is completely object oriented, and not \"statically typed\". You do not need to declare variables before using them, or declare their type. Every variable in Python is an object"
      ]
    },
    {
      "cell_type": "markdown",
      "metadata": {
        "id": "9frQtHUJLFuf",
        "colab_type": "text"
      },
      "source": [
        "## Numbers"
      ]
    },
    {
      "cell_type": "markdown",
      "metadata": {
        "id": "Am_pbRS-J_HP",
        "colab_type": "text"
      },
      "source": [
        "Python supports two types of numbers - integers and floating point numbers.\n",
        "To define an integer, use the following syntax:\n",
        "```\n",
        "myint = 7\n",
        "print(myint)\n",
        "```"
      ]
    },
    {
      "cell_type": "code",
      "metadata": {
        "id": "2pg26JgyJ_HR",
        "colab_type": "code",
        "colab": {}
      },
      "source": [
        ""
      ],
      "execution_count": null,
      "outputs": []
    },
    {
      "cell_type": "markdown",
      "metadata": {
        "id": "CVKWEXexJ_HY",
        "colab_type": "text"
      },
      "source": [
        "To define a floating point number, you may use one of the following notations:\n",
        "```\n",
        "# method 1\n",
        "myfloat = 7.0\n",
        "print(myfloat)\n",
        "# method 2\n",
        "myfloat = float(7)\n",
        "print(myfloat)\n",
        "```"
      ]
    },
    {
      "cell_type": "code",
      "metadata": {
        "id": "aVvv33mUJ_Ha",
        "colab_type": "code",
        "colab": {}
      },
      "source": [
        ""
      ],
      "execution_count": null,
      "outputs": []
    },
    {
      "cell_type": "markdown",
      "metadata": {
        "id": "akHGP6HnJ_Hg",
        "colab_type": "text"
      },
      "source": [
        "## Strings"
      ]
    },
    {
      "cell_type": "markdown",
      "metadata": {
        "id": "2K-zEp_-J_Hh",
        "colab_type": "text"
      },
      "source": [
        "Strings are defined either with a single quote or a double quotes.\n",
        "```\n",
        "# method 1\n",
        "mystring = 'hello'\n",
        "print(mystring)\n",
        "# method 2\n",
        "mystring = \"hello\"\n",
        "print(mystring)\n",
        "```"
      ]
    },
    {
      "cell_type": "code",
      "metadata": {
        "id": "3JODZmTuJ_Hi",
        "colab_type": "code",
        "colab": {}
      },
      "source": [
        ""
      ],
      "execution_count": null,
      "outputs": []
    },
    {
      "cell_type": "markdown",
      "metadata": {
        "id": "dcjNndN7J_Ho",
        "colab_type": "text"
      },
      "source": [
        "The difference between the two is that using double quotes makes it easy to include apostrophes (whereas these would terminate the string if using single quotes)\n",
        "```\n",
        "mystring = \"Don't worry about apostrophes\"\n",
        "print(mystring)\n",
        "```"
      ]
    },
    {
      "cell_type": "code",
      "metadata": {
        "id": "2leHQOS8J_Hq",
        "colab_type": "code",
        "colab": {}
      },
      "source": [
        ""
      ],
      "execution_count": null,
      "outputs": []
    },
    {
      "cell_type": "markdown",
      "metadata": {
        "id": "On4Lf_wZJ_Hw",
        "colab_type": "text"
      },
      "source": [
        "Assignments can be done on more than one variable \"simultaneously\" on the same line like this\n",
        "```\n",
        "a, b = 3, 4\n",
        "print(a,b)\n",
        "```"
      ]
    },
    {
      "cell_type": "code",
      "metadata": {
        "id": "feYuPyQrJ_Hx",
        "colab_type": "code",
        "colab": {}
      },
      "source": [
        ""
      ],
      "execution_count": null,
      "outputs": []
    },
    {
      "cell_type": "markdown",
      "metadata": {
        "id": "_k9jdsrkJ_H3",
        "colab_type": "text"
      },
      "source": [
        "# Exercise - 1"
      ]
    },
    {
      "cell_type": "markdown",
      "metadata": {
        "id": "Obcc2jGaJ_H4",
        "colab_type": "text"
      },
      "source": [
        "The target of this exercise is to create a string, an integer, and a floating point number. The string should be named mystring and should contain the word \"hello\". The floating point number should be named myfloat and should contain the number 10.0, and the integer should be named myint and should contain the number 20."
      ]
    },
    {
      "cell_type": "code",
      "metadata": {
        "id": "obeHJGF4J_H5",
        "colab_type": "code",
        "colab": {}
      },
      "source": [
        "# change this code\n",
        "mystring = None\n",
        "myfloat = None\n",
        "myint = None"
      ],
      "execution_count": null,
      "outputs": []
    },
    {
      "cell_type": "code",
      "metadata": {
        "id": "Rgrc7YlSJ_IH",
        "colab_type": "code",
        "colab": {}
      },
      "source": [
        "# testing code\n",
        "if mystring == \"hello\":\n",
        "    print(\"String: %s\" % mystring)\n",
        "if isinstance(myfloat, float) and myfloat == 10.0:\n",
        "    print(\"Float: %f\" % myfloat)\n",
        "if isinstance(myint, int) and myint == 20:\n",
        "    print(\"Integer: %d\" % myint)"
      ],
      "execution_count": null,
      "outputs": []
    },
    {
      "cell_type": "markdown",
      "metadata": {
        "id": "rcL15bUEJ_IS",
        "colab_type": "text"
      },
      "source": [
        "# Lists"
      ]
    },
    {
      "cell_type": "markdown",
      "metadata": {
        "id": "IvgaLlk9J_IT",
        "colab_type": "text"
      },
      "source": [
        "They can contain any type of variable, and they can contain as many variables as you wish. Lists can also be iterated over in a very simple manner. Here is an example of how to build a list.\n",
        "```\n",
        "mylist = []\n",
        "mylist.append(1)\n",
        "mylist.append(2)\n",
        "mylist.append(3)\n",
        "print(mylist[0]) # prints 1\n",
        "print(mylist[1]) # prints 2\n",
        "print(mylist[2]) # prints 3\n",
        "```"
      ]
    },
    {
      "cell_type": "code",
      "metadata": {
        "id": "gem4n5YNJ_IU",
        "colab_type": "code",
        "colab": {}
      },
      "source": [
        ""
      ],
      "execution_count": null,
      "outputs": []
    },
    {
      "cell_type": "markdown",
      "metadata": {
        "id": "RL8amAoxJ_IZ",
        "colab_type": "text"
      },
      "source": [
        "Accessing an index which does not exist generates an exception (an error).\n",
        "```\n",
        "mylist = [1,2,3]\n",
        "print(mylist[10])\n",
        "```"
      ]
    },
    {
      "cell_type": "code",
      "metadata": {
        "id": "8akqSYlvJ_Ia",
        "colab_type": "code",
        "colab": {}
      },
      "source": [
        ""
      ],
      "execution_count": null,
      "outputs": []
    },
    {
      "cell_type": "markdown",
      "metadata": {
        "id": "C_NcAKYfJ_If",
        "colab_type": "text"
      },
      "source": [
        "# Exercise - 2"
      ]
    },
    {
      "cell_type": "markdown",
      "metadata": {
        "id": "DBVOhIRQJ_Ig",
        "colab_type": "text"
      },
      "source": [
        "In this exercise, you will need to add numbers and strings to the correct lists using the \"append\" list method. You must add the numbers 1,2, and 3 to the \"numbers\" list, and the words 'hello' and 'world' to the strings variable.\n",
        "\n",
        "You will also have to fill in the variable second_name with the second name in the names list, using the brackets operator []. Note that the index is zero-based, so if you want to access the second item in the list, its index will be 1."
      ]
    },
    {
      "cell_type": "code",
      "metadata": {
        "id": "FqwXchVcJ_Ii",
        "colab_type": "code",
        "colab": {}
      },
      "source": [
        "# change this code\n",
        "numbers = []\n",
        "strings = []\n",
        "names = [\"John\", \"Eric\", \"Jessica\"]\n",
        "\n",
        "second_name = None"
      ],
      "execution_count": null,
      "outputs": []
    },
    {
      "cell_type": "code",
      "metadata": {
        "id": "9czfWcIYJ_In",
        "colab_type": "code",
        "colab": {},
        "outputId": "43dec979-c81b-4fc2-af9a-dbc39f58d314"
      },
      "source": [
        "# testing code\n",
        "print(numbers)\n",
        "print(strings)\n",
        "print(\"The second name on the names list is %s\" % second_name)"
      ],
      "execution_count": null,
      "outputs": [
        {
          "output_type": "stream",
          "text": [
            "[]\n",
            "[]\n",
            "The second name on the names list is None\n"
          ],
          "name": "stdout"
        }
      ]
    },
    {
      "cell_type": "markdown",
      "metadata": {
        "id": "i0SgD5gGJ_Iz",
        "colab_type": "text"
      },
      "source": [
        "# Basic Operators"
      ]
    },
    {
      "cell_type": "markdown",
      "metadata": {
        "id": "Lod_3UT0J_I0",
        "colab_type": "text"
      },
      "source": [
        "## Arithmetic Operators on Numbers"
      ]
    },
    {
      "cell_type": "markdown",
      "metadata": {
        "id": "i9vLihevJ_I1",
        "colab_type": "text"
      },
      "source": [
        "Just as any other programming languages, the addition, subtraction, multiplication, and division operators can be used with numbers.\n",
        "```\n",
        "number = 1 + 2 * 3 / 4.0\n",
        "print(number)\n",
        "```"
      ]
    },
    {
      "cell_type": "code",
      "metadata": {
        "id": "kXMg87D-J_I3",
        "colab_type": "code",
        "colab": {}
      },
      "source": [
        ""
      ],
      "execution_count": null,
      "outputs": []
    },
    {
      "cell_type": "markdown",
      "metadata": {
        "id": "v4ah7B5pJ_I8",
        "colab_type": "text"
      },
      "source": [
        "Another operator available is the modulo (%) operator, which returns the integer remainder of the division. dividend % divisor = remainder.\n",
        "```\n",
        "remainder = 11 % 3\n",
        "print(remainder)\n",
        "```"
      ]
    },
    {
      "cell_type": "code",
      "metadata": {
        "id": "ANkMPY_WJ_I9",
        "colab_type": "code",
        "colab": {}
      },
      "source": [
        ""
      ],
      "execution_count": null,
      "outputs": []
    },
    {
      "cell_type": "markdown",
      "metadata": {
        "id": "9-gwL-8uJ_JD",
        "colab_type": "text"
      },
      "source": [
        "Using two multiplication symbols makes a power relationship.\n",
        "```\n",
        "squared = 7 ** 2\n",
        "cubed = 2 ** 3\n",
        "print(squared)\n",
        "print(cubed)\n",
        "```"
      ]
    },
    {
      "cell_type": "code",
      "metadata": {
        "id": "_cR1xA14J_JE",
        "colab_type": "code",
        "colab": {}
      },
      "source": [
        ""
      ],
      "execution_count": null,
      "outputs": []
    },
    {
      "cell_type": "markdown",
      "metadata": {
        "id": "64O7Lt4uJ_JJ",
        "colab_type": "text"
      },
      "source": [
        "## Using Operators with Strings"
      ]
    },
    {
      "cell_type": "markdown",
      "metadata": {
        "id": "d9IuIJWnJ_JK",
        "colab_type": "text"
      },
      "source": [
        "Python supports concatenating strings using the addition operator:\n",
        "```\n",
        "helloworld = \"hello\" + \" \" + \"world\"\n",
        "print(helloworld)\n",
        "```"
      ]
    },
    {
      "cell_type": "code",
      "metadata": {
        "id": "TR9i59esJ_JM",
        "colab_type": "code",
        "colab": {}
      },
      "source": [
        ""
      ],
      "execution_count": null,
      "outputs": []
    },
    {
      "cell_type": "markdown",
      "metadata": {
        "id": "k9E3uIMpJ_JU",
        "colab_type": "text"
      },
      "source": [
        "Python also supports multiplying strings to form a string with a repeating sequence:\n",
        "```\n",
        "lotsofhellos = \"hello\" * 10\n",
        "print(lotsofhellos)\n",
        "```"
      ]
    },
    {
      "cell_type": "code",
      "metadata": {
        "id": "QhS3hXzaJ_JV",
        "colab_type": "code",
        "colab": {}
      },
      "source": [
        ""
      ],
      "execution_count": null,
      "outputs": []
    },
    {
      "cell_type": "markdown",
      "metadata": {
        "id": "Yj3xX9wkJ_Ja",
        "colab_type": "text"
      },
      "source": [
        "## Using Operators with Lists"
      ]
    },
    {
      "cell_type": "markdown",
      "metadata": {
        "id": "HXI1kaIMJ_Jb",
        "colab_type": "text"
      },
      "source": [
        "Lists can be joined with the addition operators:\n",
        "```\n",
        "even_numbers = [2,4,6,8]\n",
        "odd_numbers = [1,3,5,7]\n",
        "all_numbers = odd_numbers + even_numbers\n",
        "print(all_numbers)\n",
        "```"
      ]
    },
    {
      "cell_type": "code",
      "metadata": {
        "id": "w5RNlyCDJ_Jc",
        "colab_type": "code",
        "colab": {}
      },
      "source": [
        ""
      ],
      "execution_count": null,
      "outputs": []
    },
    {
      "cell_type": "markdown",
      "metadata": {
        "id": "KqP024sCJ_Jj",
        "colab_type": "text"
      },
      "source": [
        "Just as in strings, Python supports forming new lists with a repeating sequence using the multiplication operator:\n",
        "```\n",
        "print([1,2,3] * 3)\n",
        "```"
      ]
    },
    {
      "cell_type": "code",
      "metadata": {
        "id": "2ps5SHyOJ_Jk",
        "colab_type": "code",
        "colab": {}
      },
      "source": [
        ""
      ],
      "execution_count": null,
      "outputs": []
    },
    {
      "cell_type": "markdown",
      "metadata": {
        "id": "xNi5Vi7pJ_Jp",
        "colab_type": "text"
      },
      "source": [
        "# Exercise - 3"
      ]
    },
    {
      "cell_type": "markdown",
      "metadata": {
        "id": "Zhy31CEuJ_Jq",
        "colab_type": "text"
      },
      "source": [
        "The target of this exercise is to create two lists called x_list and y_list, which contain 10 instances of the variables x and y, respectively. You are also required to create a list called big_list, which contains the variables x and y, 10 times each, by concatenating the two lists you have created"
      ]
    },
    {
      "cell_type": "code",
      "metadata": {
        "id": "CcKvS6SuJ_Jr",
        "colab_type": "code",
        "colab": {}
      },
      "source": [
        "#change this code\n",
        "\n",
        "x = object()\n",
        "y = object()\n",
        "\n",
        "x_list = [x]\n",
        "y_list = [y]\n",
        "big_list = []"
      ],
      "execution_count": null,
      "outputs": []
    },
    {
      "cell_type": "code",
      "metadata": {
        "id": "ynQSQDSfJ_Jx",
        "colab_type": "code",
        "colab": {},
        "outputId": "431133ed-a1c6-43a2-d6a6-c2f2ad8d08eb"
      },
      "source": [
        "# testing code\n",
        "print(\"x_list contains %d objects\" % len(x_list))\n",
        "print(\"y_list contains %d objects\" % len(y_list))\n",
        "print(\"big_list contains %d objects\" % len(big_list))\n",
        " \n",
        "if x_list.count(x) == 10 and y_list.count(y) == 10:\n",
        "    print(\"Almost there...\")\n",
        "if big_list.count(x) == 10 and big_list.count(y) == 10:\n",
        "    print(\"Great!\")\n",
        "    print(big_list)"
      ],
      "execution_count": null,
      "outputs": [
        {
          "output_type": "stream",
          "text": [
            "x_list contains 1 objects\n",
            "y_list contains 1 objects\n",
            "big_list contains 0 objects\n"
          ],
          "name": "stdout"
        }
      ]
    }
  ]
}