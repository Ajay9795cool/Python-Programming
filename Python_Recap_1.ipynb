{
  "nbformat": 4,
  "nbformat_minor": 0,
  "metadata": {
    "colab": {
      "name": "Python-Recap-1.ipynb",
      "provenance": [],
      "authorship_tag": "ABX9TyPciJEGCy4XdczWkrS3WgOv",
      "include_colab_link": true
    },
    "kernelspec": {
      "name": "python3",
      "display_name": "Python 3"
    }
  },
  "cells": [
    {
      "cell_type": "markdown",
      "metadata": {
        "id": "view-in-github",
        "colab_type": "text"
      },
      "source": [
        "<a href=\"https://colab.research.google.com/github/Ajay9795cool/Python-Programming/blob/master/Python_Recap_1.ipynb\" target=\"_parent\"><img src=\"https://colab.research.google.com/assets/colab-badge.svg\" alt=\"Open In Colab\"/></a>"
      ]
    },
    {
      "cell_type": "markdown",
      "metadata": {
        "id": "boe3hjn8PQ4s",
        "colab_type": "text"
      },
      "source": [
        "# Numbers"
      ]
    },
    {
      "cell_type": "markdown",
      "metadata": {
        "id": "Sy0qDB3KPF4n",
        "colab_type": "text"
      },
      "source": [
        "\n",
        "\n",
        "In Python, there are three distinct numeric types:\n",
        "\n",
        "* Integers\n",
        "* Floating-point numbers\n",
        "* Complex numbers\n",
        "\n",
        "## Integers\n",
        "An integer is a whole number that can be positive or negative.\n"
      ]
    },
    {
      "cell_type": "code",
      "metadata": {
        "id": "DfdU6ZdHPTuP",
        "colab_type": "code",
        "colab": {}
      },
      "source": [
        "# Following numbers are integers\n",
        "x = 10\n",
        "y = -10\n",
        "z = 123456789"
      ],
      "execution_count": null,
      "outputs": []
    },
    {
      "cell_type": "markdown",
      "metadata": {
        "id": "5NyoDQs7PUvv",
        "colab_type": "text"
      },
      "source": [
        "In Python 3, there is no limit to how long an integer value can be. It can grow to have as many digits as your computer’s memory space allows."
      ]
    },
    {
      "cell_type": "code",
      "metadata": {
        "id": "M3WHHy5vPWlX",
        "colab_type": "code",
        "colab": {}
      },
      "source": [
        "# Integers have unlimited precision\n",
        "x = 99999999999999999999999999999999999999999999999999999999999999999999999999999999"
      ],
      "execution_count": null,
      "outputs": []
    },
    {
      "cell_type": "markdown",
      "metadata": {
        "id": "a0gfBDf7PZKP",
        "colab_type": "text"
      },
      "source": [
        "## Floating-Point Numbers\n",
        "Floating-point number or Float is a positive or negative number with a fractional part.\n"
      ]
    },
    {
      "cell_type": "code",
      "metadata": {
        "id": "EkkjAwhLPdJo",
        "colab_type": "code",
        "colab": {}
      },
      "source": [
        "# Following numbers are floats\n",
        "x = 10.1\n",
        "y = -10.5\n",
        "z = 1.123456"
      ],
      "execution_count": null,
      "outputs": []
    },
    {
      "cell_type": "markdown",
      "metadata": {
        "id": "XxyC-GNmPqkw",
        "colab_type": "text"
      },
      "source": [
        "In addition, Boolean is a sub-type of integers."
      ]
    },
    {
      "cell_type": "code",
      "metadata": {
        "id": "fpKL-iC5PrCT",
        "colab_type": "code",
        "colab": {}
      },
      "source": [
        "# Boolean in python\n",
        "x = True\n",
        "x = False"
      ],
      "execution_count": null,
      "outputs": []
    },
    {
      "cell_type": "markdown",
      "metadata": {
        "id": "VIlHjQ4yPdfy",
        "colab_type": "text"
      },
      "source": [
        "## Complex Numbers\n",
        "A complex number is specified as real_part + imaginary_part, where the imaginary_part is written with a j or J."
      ]
    },
    {
      "cell_type": "code",
      "metadata": {
        "id": "UL9JBCP7PicW",
        "colab_type": "code",
        "colab": {}
      },
      "source": [
        "# Following numbers are complex numbers\n",
        "x = 2j\n",
        "y = 3+4j"
      ],
      "execution_count": null,
      "outputs": []
    },
    {
      "cell_type": "markdown",
      "metadata": {
        "id": "a4CS37-kPkgn",
        "colab_type": "text"
      },
      "source": [
        "To extract real and imaginary parts from a complex number x, use x.real and x.imag"
      ]
    },
    {
      "cell_type": "code",
      "metadata": {
        "id": "fPfP_hB1PkCK",
        "colab_type": "code",
        "colab": {}
      },
      "source": [
        "x = 3+4j\n",
        "\n",
        "# real part\n",
        "print(x.real)\n",
        "# Prints 3.0\n",
        "\n",
        "# imaginary part\n",
        "print(x.imag)\n",
        "# Prints 4.0"
      ],
      "execution_count": null,
      "outputs": []
    },
    {
      "cell_type": "markdown",
      "metadata": {
        "id": "RoZ5yVdTP3tg",
        "colab_type": "text"
      },
      "source": [
        "# Operators"
      ]
    },
    {
      "cell_type": "markdown",
      "metadata": {
        "id": "90VEfl83P2zE",
        "colab_type": "text"
      },
      "source": [
        "Operators are used to perform operations on values and variables. The Python operators are classified into seven different categories:\n",
        "\n",
        "* Arithmetic operators\n",
        "* Assignment operators\n",
        "* Comparison operators\n",
        "* Logical operators\n",
        "* Identity operators\n",
        "* Membership operators"
      ]
    },
    {
      "cell_type": "markdown",
      "metadata": {
        "id": "uYH6MgwaQLsm",
        "colab_type": "text"
      },
      "source": [
        "## Arithmetic Operators\n",
        "Arithmetic operators are used to perform simple mathematical operations on numeric values (except complex)."
      ]
    },
    {
      "cell_type": "code",
      "metadata": {
        "id": "eelXcO30QOUy",
        "colab_type": "code",
        "colab": {}
      },
      "source": [
        "# Some examples\n",
        "\n",
        "x = 6\n",
        "y = 2\n",
        "\n",
        "# addition\n",
        "print(x + y)\t\t# 8\n",
        "\n",
        "# subtraction\n",
        "print(x - y)\t\t# 4\n",
        "\n",
        "# multiplication\n",
        "print(x * y)\t\t# 12\n",
        "\n",
        "# division\n",
        "print(x / y)\t\t# 3\n",
        "\n",
        "# modulus\n",
        "print(x % y)\t\t# 0\n",
        "\n",
        "# exponentiation\n",
        "print(x ** y)\t\t# 36\n",
        "\n",
        "# floor division\n",
        "print(x // y)\t\t# 3"
      ],
      "execution_count": null,
      "outputs": []
    },
    {
      "cell_type": "markdown",
      "metadata": {
        "id": "y0x1cheXQSPT",
        "colab_type": "text"
      },
      "source": [
        "## Assignment Operators\n",
        "Assignment operators are used to assign new values to variables."
      ]
    },
    {
      "cell_type": "code",
      "metadata": {
        "id": "Em1tkdYFQUIM",
        "colab_type": "code",
        "colab": {}
      },
      "source": [
        "# Some examples\n",
        "\n",
        "# Assignment\n",
        "x = 6\n",
        "\n",
        "# Addition assignment\t\n",
        "x += 3\t# x = x + 3\n",
        "\n",
        "# Subtraction assignment\n",
        "x -= 3\t# x = x – 3\n",
        "\n",
        "# Multiplication assignment\n",
        "x *= 3\t# x = x * 3\n",
        "\n",
        "# Division assignment\n",
        "x /= 3\t# x = x / 3\n",
        "\n",
        "# Modulus assignment\n",
        "x %= 3\t# x = x % 3\n",
        "# Floor division assignment\n",
        "\n",
        "x //= 3\t# x = x // 3\n",
        "# Exponentiation assignment\n",
        "\n",
        "x **= 3\t# x = x ** 3"
      ],
      "execution_count": null,
      "outputs": []
    },
    {
      "cell_type": "markdown",
      "metadata": {
        "id": "MS9_NIkPQ73T",
        "colab_type": "text"
      },
      "source": [
        "## Comparison Operators\n",
        "Comparison operators are used to compare two values."
      ]
    },
    {
      "cell_type": "code",
      "metadata": {
        "id": "VqP-wwwaQ-H5",
        "colab_type": "code",
        "colab": {}
      },
      "source": [
        "x = 6\n",
        "y = 2\n",
        "\n",
        "# equal to\n",
        "print(x == y)\t\t# False\n",
        "\n",
        "# not equal to\n",
        "print(x != y)\t\t# True\n",
        "\n",
        "# greater than\n",
        "print(x > y)\t\t# True\n",
        "\n",
        "# less than\n",
        "print(x < y)\t\t# False\n",
        "\n",
        "# greater than or equal to\n",
        "print(x >= y)\t\t# True\n",
        "\n",
        "# less than or equal to\n",
        "print(x <= y)\t\t# False"
      ],
      "execution_count": null,
      "outputs": []
    },
    {
      "cell_type": "markdown",
      "metadata": {
        "id": "WPj7ILOEQ__2",
        "colab_type": "text"
      },
      "source": [
        "## Logical Operators\n",
        "Logical operators are used to join two or more conditions."
      ]
    },
    {
      "cell_type": "code",
      "metadata": {
        "id": "GuPZWaAPRCbA",
        "colab_type": "code",
        "colab": {}
      },
      "source": [
        "x = 2\n",
        "y = -2\n",
        "\n",
        "# and\n",
        "print(x > 0 and y < 0)          # True\n",
        "\n",
        "# or\n",
        "print(x > 0 or y < 0)           # True\n",
        "\n",
        "# not\n",
        "print(not(x > 0 and y < 0))     # False"
      ],
      "execution_count": null,
      "outputs": []
    },
    {
      "cell_type": "markdown",
      "metadata": {
        "id": "hBWBQYc7REjF",
        "colab_type": "text"
      },
      "source": [
        "## Identity Operators\n",
        "Identity operators are used to check if two objects point to the same object, with the same memory location."
      ]
    },
    {
      "cell_type": "code",
      "metadata": {
        "id": "MbLmjjf4REG_",
        "colab_type": "code",
        "colab": {}
      },
      "source": [
        "x = [1, 2, 3]\n",
        "y = [1, 2, 3]\n",
        "\n",
        "# is\n",
        "print(x is y)\t\t# False\n",
        "\n",
        "# is not\n",
        "print(x is not y)\t# True"
      ],
      "execution_count": null,
      "outputs": []
    },
    {
      "cell_type": "markdown",
      "metadata": {
        "id": "blptfaIpRJbn",
        "colab_type": "text"
      },
      "source": [
        "## Membership Operators\n",
        "Membership operators are used to check if a specific item is present in a sequence (such as a string, tuple, list, or range) or a collection (such as a dictionary, set, or frozen set)."
      ]
    },
    {
      "cell_type": "code",
      "metadata": {
        "id": "5iW1eFUZRIzY",
        "colab_type": "code",
        "colab": {}
      },
      "source": [
        "L = ['red', 'green', 'blue']\n",
        "\n",
        "# in\n",
        "print('red' in L)           # True\n",
        "\n",
        "# not in\n",
        "print('yellow' not in L)    # True"
      ],
      "execution_count": null,
      "outputs": []
    },
    {
      "cell_type": "code",
      "metadata": {
        "id": "XvyUHulIUt5C",
        "colab_type": "code",
        "colab": {}
      },
      "source": [
        ""
      ],
      "execution_count": null,
      "outputs": []
    },
    {
      "cell_type": "markdown",
      "metadata": {
        "id": "0zwo5T24RSWV",
        "colab_type": "text"
      },
      "source": [
        "# List"
      ]
    },
    {
      "cell_type": "markdown",
      "metadata": {
        "id": "AWXWaca-Rdg_",
        "colab_type": "text"
      },
      "source": [
        "A list is a sequence of values (similar to an array in other programming languages but more versatile)\n",
        "\n",
        "The values in a list are called items or sometimes elements.\n",
        "\n",
        "The important properties of Python lists are as follows:\n",
        "\n",
        "* **Lists are ordered** – Lists remember the order of items inserted.\n",
        "* **Accessed by index** – Items in a list can be accessed using an index.\n",
        "* **Lists can contain any sort of object** – It can be numbers, strings, tuples and even other lists.\n",
        "* **Lists are changeable** (mutable) – You can change a list in-place, add new items, and delete or update existing items."
      ]
    },
    {
      "cell_type": "markdown",
      "metadata": {
        "id": "67yKopVQRqjg",
        "colab_type": "text"
      },
      "source": [
        "## Create a List\n",
        "There are several ways to create a new list; the simplest is to enclose the values in square brackets []"
      ]
    },
    {
      "cell_type": "code",
      "metadata": {
        "id": "YRhQIqOCRrmW",
        "colab_type": "code",
        "colab": {}
      },
      "source": [
        "# A list of integers\n",
        "L = [1, 2, 3]\n",
        "\n",
        "# A list of strings\n",
        "L = ['red', 'green', 'blue']\n",
        "\n",
        "# A list of mixed datatypes\n",
        "L = [ 1, 'abc', 1.23, (3+4j), True]\n",
        "\n",
        "# An empty list\n",
        "L = []\n",
        "\n",
        "# Convert a string to a list\n",
        "L = list('abc')\n",
        "print(L)\n",
        "# Prints ['a', 'b', 'c']\n",
        "\n",
        "# Convert a tuple to a list\n",
        "L = list((1, 2, 3))\n",
        "print(L)\n",
        "# Prints [1, 2, 3]\n",
        "\n",
        "# Nested Lists\n",
        "L = ['a', ['bb', ['ccc', 'ddd'], 'ee', 'ff'], 'g', 'h']"
      ],
      "execution_count": null,
      "outputs": []
    },
    {
      "cell_type": "markdown",
      "metadata": {
        "id": "McbC0HtAR6kX",
        "colab_type": "text"
      },
      "source": [
        "## Access List Items by Index\n",
        "You can think of a list as a relationship between indexes and values. This relationship is called a mapping; each index maps to one of the values. The indexes for the values in a list are illustrated as below:"
      ]
    },
    {
      "cell_type": "code",
      "metadata": {
        "id": "7CpaCS32R7WF",
        "colab_type": "code",
        "colab": {}
      },
      "source": [
        "L = ['red', 'green', 'blue', 'yellow', 'black']\n",
        "\n",
        "print(L[0])\n",
        "# Prints red\n",
        "\n",
        "print(L[2])\n",
        "# Prints blue\n",
        "\n",
        "print(L[-1])\n",
        "# Prints black\n",
        "\n",
        "print(L[-2])\n",
        "# Prints yellow\n",
        "\n",
        "# Access Nested list items\n",
        "L = ['a', 'b', ['cc', 'dd', ['eee', 'fff']], 'g', 'h']\n",
        "\n",
        "print(L[2])\n",
        "# Prints ['cc', 'dd', ['eee', 'fff']]\n",
        "\n",
        "print(L[2][2])\n",
        "# Prints ['eee', 'fff']\n",
        "\n",
        "print(L[2][2][0])\n",
        "# Prints eee"
      ],
      "execution_count": null,
      "outputs": []
    },
    {
      "cell_type": "markdown",
      "metadata": {
        "id": "De6VjK6-SUMG",
        "colab_type": "text"
      },
      "source": [
        "## Slicing a List\n",
        "A segment of a list is called a slice and you can extract one by using a slice operator. A slice of a list is also a list.\n",
        "\n",
        "If L is a list, the expression L [ start : stop : step ] returns the portion of the list from index start to index stop, at a step size step."
      ]
    },
    {
      "cell_type": "code",
      "metadata": {
        "id": "GTbajccgSU5t",
        "colab_type": "code",
        "colab": {}
      },
      "source": [
        "L = ['a', 'b', 'c', 'd', 'e', 'f', 'g', 'h', 'i']\n",
        "# Basic Slicing\n",
        "print(L[2:7])\n",
        "# Prints ['c', 'd', 'e', 'f', 'g']\n",
        "\n",
        "# Slice with Negative Indices\n",
        "print(L[-7:-2])\n",
        "# Prints ['c', 'd', 'e', 'f', 'g']\n",
        "\n",
        "# Slice with Positive & Negative Indices\n",
        "print(L[2:-5])\n",
        "# Prints ['c', 'd']\n",
        "\n",
        "# Specify Step of the Slicing - Return every 2nd item between position 2 to 7\n",
        "L = ['a', 'b', 'c', 'd', 'e', 'f', 'g', 'h', 'i']\n",
        "print(L[2:7:2])\n",
        "# Prints ['c', 'e', 'g']\n",
        "\n",
        "# Return every 2nd item between position 6 to 1\n",
        "L = ['a', 'b', 'c', 'd', 'e', 'f', 'g', 'h', 'i']\n",
        "print(L[6:1:-2])\n",
        "# Prints ['g', 'e', 'c']\n",
        "\n",
        "# Slice the first three items from the list\n",
        "print(L[:3])\n",
        "# Prints ['a', 'b', 'c']\n",
        "\n",
        "# Slice the last three items from the list\n",
        "print(L[6:])\n",
        "# Prints ['g', 'h', 'i']\n",
        "\n",
        "# Reverse a List\n",
        "L = ['a', 'b', 'c', 'd', 'e']\n",
        "print(L[::-1])\n",
        "# Prints ['e', 'd', 'c', 'b', 'a']"
      ],
      "execution_count": null,
      "outputs": []
    },
    {
      "cell_type": "markdown",
      "metadata": {
        "id": "JLEewlamSYT2",
        "colab_type": "text"
      },
      "source": [
        "## Change Item Value\n",
        "You can replace an existing element with a new value by assigning the new value to the index."
      ]
    },
    {
      "cell_type": "code",
      "metadata": {
        "id": "Q8Zwivr6SbAo",
        "colab_type": "code",
        "colab": {}
      },
      "source": [
        "L = ['red', 'green', 'blue']\n",
        "\n",
        "L[0] = 'orange'\n",
        "print(L)\n",
        "# Prints ['orange', 'green', 'blue']\n",
        "\n",
        "L[-1] = 'violet'\n",
        "print(L)\n",
        "# Prints ['orange', 'green', 'violet']\n",
        "\n",
        "# Modify multiple list items\n",
        "L = ['a', 'b', 'c', 'd', 'e']\n",
        "L[1:4] = [1, 2, 3]\n",
        "print(L)\n",
        "# Prints ['a', 1, 2, 3, 'e']"
      ],
      "execution_count": null,
      "outputs": []
    },
    {
      "cell_type": "markdown",
      "metadata": {
        "id": "U1JJe-EEScOW",
        "colab_type": "text"
      },
      "source": [
        "## Add items to a list"
      ]
    },
    {
      "cell_type": "code",
      "metadata": {
        "id": "SdkpsMZISjQB",
        "colab_type": "code",
        "colab": {}
      },
      "source": [
        "L = ['red', 'green', 'yellow']\n",
        "L.append('blue')\n",
        "print(L)\n",
        "# Prints ['red', 'green', 'yellow', 'blue']\n",
        "\n",
        "L = ['red', 'green', 'yellow']\n",
        "L.insert(1,'blue')\n",
        "print(L)\n",
        "# Prints ['red', 'blue', 'green', 'yellow']\n",
        "\n",
        "L = ['red', 'green', 'yellow']\n",
        "L.extend([1,2,3])\n",
        "print(L)\n",
        "# Prints ['red', 'green', 'yellow', 1, 2, 3]\n",
        "\n",
        "# concatenation operator\n",
        "L = ['red', 'green', 'blue']\n",
        "L = L + [1,2,3]\n",
        "print(L)\n",
        "# Prints ['red', 'green', 'blue', 1, 2, 3]\n",
        "\n",
        "# augmented assignment operator\n",
        "L = ['red', 'green', 'blue']\n",
        "L += [1,2,3]\n",
        "print(L)\n",
        "# Prints ['red', 'green', 'blue', 1, 2, 3]"
      ],
      "execution_count": null,
      "outputs": []
    },
    {
      "cell_type": "code",
      "metadata": {
        "id": "FERBkoJzUU3S",
        "colab_type": "code",
        "colab": {}
      },
      "source": [
        "# Insert at the start\n",
        "L = ['a', 'b', 'c']\n",
        "L[:0] = [1, 2, 3]\n",
        "print(L)\n",
        "# Prints [1, 2, 3, 'a', 'b', 'c']\n",
        "\n",
        "# Insert at the end\n",
        "L = ['a', 'b', 'c']\n",
        "L[len(L):] = [1, 2, 3]\n",
        "print(L)\n",
        "# Prints ['a', 'b', 'c', 1, 2, 3]\n",
        "\n",
        "# Insert in the middle\n",
        "L = ['a', 'b', 'c']\n",
        "L[1:1] = [1, 2, 3]\n",
        "print(L)\n",
        "# Prints ['a', 1, 2, 3, 'b', 'c']"
      ],
      "execution_count": null,
      "outputs": []
    },
    {
      "cell_type": "markdown",
      "metadata": {
        "id": "k49ea2uIS2A-",
        "colab_type": "text"
      },
      "source": [
        "## Other important Lists Functions"
      ]
    },
    {
      "cell_type": "code",
      "metadata": {
        "id": "5kCLUZH8S4B2",
        "colab_type": "code",
        "colab": {}
      },
      "source": [
        "# List Replication\n",
        "L = ['red']\n",
        "L = L * 3\n",
        "print(L)\n",
        "# Prints ['red', 'red', 'red']\n",
        "\n",
        "# Find List Length\n",
        "L = ['red', 'green', 'blue']\n",
        "print(len(L))\n",
        "# Prints 3\n",
        "\n",
        "# Check for presence\n",
        "L = ['red', 'green', 'blue']\n",
        "if 'red' in L:\n",
        "    print('yes')\n",
        "\n",
        "# Check for absence\n",
        "L = ['red', 'green', 'blue']\n",
        "if 'yellow' not in L:\n",
        "    print('yes')\n",
        "\n",
        "# Iterate thorugh a list\n",
        "L = ['red', 'green', 'blue']\n",
        "for item in L:\n",
        "    print(item)\n",
        "# Prints red\n",
        "# Prints green\n",
        "# Prints blue\n",
        "\n",
        "# Loop through the list and double each item\n",
        "L = [1, 2, 3, 4]\n",
        "for i in range(len(L)):\n",
        "    L[i] = L[i] * 2\n",
        "\n",
        "print(L)\n",
        "# Prints [2, 4, 6, 8]"
      ],
      "execution_count": null,
      "outputs": []
    }
  ]
}